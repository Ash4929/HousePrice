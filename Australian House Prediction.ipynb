{
 "cells": [
  {
   "cell_type": "markdown",
   "metadata": {},
   "source": [
    "# Australian House Price Prediction (Using Linear + Ridge + Lasso  Reg.)"
   ]
  },
  {
   "cell_type": "code",
   "execution_count": 1,
   "metadata": {},
   "outputs": [],
   "source": [
    "# Importing necessary Libraries\n",
    "\n",
    "import pandas as pd\n",
    "import numpy as np\n",
    "import seaborn as sns\n",
    "from matplotlib import pyplot as plt\n",
    "\n",
    "import warnings\n",
    "warnings.filterwarnings('ignore')"
   ]
  },
  {
   "cell_type": "markdown",
   "metadata": {},
   "source": [
    "#### Importing Train Data "
   ]
  },
  {
   "cell_type": "code",
   "execution_count": 28,
   "metadata": {},
   "outputs": [],
   "source": [
    "train=pd.read_csv(\"C:\\\\Users\\\\ashis\\\\OneDrive\\\\Desktop\\\\UpGrad\\\\10. Advance Regression Assignment\\\\train_HousePrediction.csv\")"
   ]
  },
  {
   "cell_type": "markdown",
   "metadata": {},
   "source": [
    "#### Basic Sanity Test "
   ]
  },
  {
   "cell_type": "code",
   "execution_count": 3,
   "metadata": {},
   "outputs": [
    {
     "data": {
      "text/plain": [
       "(1460, 81)"
      ]
     },
     "execution_count": 3,
     "metadata": {},
     "output_type": "execute_result"
    }
   ],
   "source": [
    "train.shape"
   ]
  },
  {
   "cell_type": "code",
   "execution_count": 3,
   "metadata": {},
   "outputs": [
    {
     "data": {
      "text/html": [
       "<div>\n",
       "<style scoped>\n",
       "    .dataframe tbody tr th:only-of-type {\n",
       "        vertical-align: middle;\n",
       "    }\n",
       "\n",
       "    .dataframe tbody tr th {\n",
       "        vertical-align: top;\n",
       "    }\n",
       "\n",
       "    .dataframe thead th {\n",
       "        text-align: right;\n",
       "    }\n",
       "</style>\n",
       "<table border=\"1\" class=\"dataframe\">\n",
       "  <thead>\n",
       "    <tr style=\"text-align: right;\">\n",
       "      <th></th>\n",
       "      <th>Id</th>\n",
       "      <th>MSSubClass</th>\n",
       "      <th>MSZoning</th>\n",
       "      <th>LotFrontage</th>\n",
       "      <th>LotArea</th>\n",
       "      <th>Street</th>\n",
       "      <th>Alley</th>\n",
       "      <th>LotShape</th>\n",
       "      <th>LandContour</th>\n",
       "      <th>Utilities</th>\n",
       "      <th>...</th>\n",
       "      <th>PoolArea</th>\n",
       "      <th>PoolQC</th>\n",
       "      <th>Fence</th>\n",
       "      <th>MiscFeature</th>\n",
       "      <th>MiscVal</th>\n",
       "      <th>MoSold</th>\n",
       "      <th>YrSold</th>\n",
       "      <th>SaleType</th>\n",
       "      <th>SaleCondition</th>\n",
       "      <th>SalePrice</th>\n",
       "    </tr>\n",
       "  </thead>\n",
       "  <tbody>\n",
       "    <tr>\n",
       "      <th>0</th>\n",
       "      <td>1</td>\n",
       "      <td>60</td>\n",
       "      <td>RL</td>\n",
       "      <td>65.0</td>\n",
       "      <td>8450</td>\n",
       "      <td>Pave</td>\n",
       "      <td>NaN</td>\n",
       "      <td>Reg</td>\n",
       "      <td>Lvl</td>\n",
       "      <td>AllPub</td>\n",
       "      <td>...</td>\n",
       "      <td>0</td>\n",
       "      <td>NaN</td>\n",
       "      <td>NaN</td>\n",
       "      <td>NaN</td>\n",
       "      <td>0</td>\n",
       "      <td>2</td>\n",
       "      <td>2008</td>\n",
       "      <td>WD</td>\n",
       "      <td>Normal</td>\n",
       "      <td>208500</td>\n",
       "    </tr>\n",
       "    <tr>\n",
       "      <th>1</th>\n",
       "      <td>2</td>\n",
       "      <td>20</td>\n",
       "      <td>RL</td>\n",
       "      <td>80.0</td>\n",
       "      <td>9600</td>\n",
       "      <td>Pave</td>\n",
       "      <td>NaN</td>\n",
       "      <td>Reg</td>\n",
       "      <td>Lvl</td>\n",
       "      <td>AllPub</td>\n",
       "      <td>...</td>\n",
       "      <td>0</td>\n",
       "      <td>NaN</td>\n",
       "      <td>NaN</td>\n",
       "      <td>NaN</td>\n",
       "      <td>0</td>\n",
       "      <td>5</td>\n",
       "      <td>2007</td>\n",
       "      <td>WD</td>\n",
       "      <td>Normal</td>\n",
       "      <td>181500</td>\n",
       "    </tr>\n",
       "    <tr>\n",
       "      <th>2</th>\n",
       "      <td>3</td>\n",
       "      <td>60</td>\n",
       "      <td>RL</td>\n",
       "      <td>68.0</td>\n",
       "      <td>11250</td>\n",
       "      <td>Pave</td>\n",
       "      <td>NaN</td>\n",
       "      <td>IR1</td>\n",
       "      <td>Lvl</td>\n",
       "      <td>AllPub</td>\n",
       "      <td>...</td>\n",
       "      <td>0</td>\n",
       "      <td>NaN</td>\n",
       "      <td>NaN</td>\n",
       "      <td>NaN</td>\n",
       "      <td>0</td>\n",
       "      <td>9</td>\n",
       "      <td>2008</td>\n",
       "      <td>WD</td>\n",
       "      <td>Normal</td>\n",
       "      <td>223500</td>\n",
       "    </tr>\n",
       "    <tr>\n",
       "      <th>3</th>\n",
       "      <td>4</td>\n",
       "      <td>70</td>\n",
       "      <td>RL</td>\n",
       "      <td>60.0</td>\n",
       "      <td>9550</td>\n",
       "      <td>Pave</td>\n",
       "      <td>NaN</td>\n",
       "      <td>IR1</td>\n",
       "      <td>Lvl</td>\n",
       "      <td>AllPub</td>\n",
       "      <td>...</td>\n",
       "      <td>0</td>\n",
       "      <td>NaN</td>\n",
       "      <td>NaN</td>\n",
       "      <td>NaN</td>\n",
       "      <td>0</td>\n",
       "      <td>2</td>\n",
       "      <td>2006</td>\n",
       "      <td>WD</td>\n",
       "      <td>Abnorml</td>\n",
       "      <td>140000</td>\n",
       "    </tr>\n",
       "    <tr>\n",
       "      <th>4</th>\n",
       "      <td>5</td>\n",
       "      <td>60</td>\n",
       "      <td>RL</td>\n",
       "      <td>84.0</td>\n",
       "      <td>14260</td>\n",
       "      <td>Pave</td>\n",
       "      <td>NaN</td>\n",
       "      <td>IR1</td>\n",
       "      <td>Lvl</td>\n",
       "      <td>AllPub</td>\n",
       "      <td>...</td>\n",
       "      <td>0</td>\n",
       "      <td>NaN</td>\n",
       "      <td>NaN</td>\n",
       "      <td>NaN</td>\n",
       "      <td>0</td>\n",
       "      <td>12</td>\n",
       "      <td>2008</td>\n",
       "      <td>WD</td>\n",
       "      <td>Normal</td>\n",
       "      <td>250000</td>\n",
       "    </tr>\n",
       "  </tbody>\n",
       "</table>\n",
       "<p>5 rows × 81 columns</p>\n",
       "</div>"
      ],
      "text/plain": [
       "   Id  MSSubClass MSZoning  LotFrontage  LotArea Street Alley LotShape  \\\n",
       "0   1          60       RL         65.0     8450   Pave   NaN      Reg   \n",
       "1   2          20       RL         80.0     9600   Pave   NaN      Reg   \n",
       "2   3          60       RL         68.0    11250   Pave   NaN      IR1   \n",
       "3   4          70       RL         60.0     9550   Pave   NaN      IR1   \n",
       "4   5          60       RL         84.0    14260   Pave   NaN      IR1   \n",
       "\n",
       "  LandContour Utilities  ... PoolArea PoolQC Fence MiscFeature MiscVal MoSold  \\\n",
       "0         Lvl    AllPub  ...        0    NaN   NaN         NaN       0      2   \n",
       "1         Lvl    AllPub  ...        0    NaN   NaN         NaN       0      5   \n",
       "2         Lvl    AllPub  ...        0    NaN   NaN         NaN       0      9   \n",
       "3         Lvl    AllPub  ...        0    NaN   NaN         NaN       0      2   \n",
       "4         Lvl    AllPub  ...        0    NaN   NaN         NaN       0     12   \n",
       "\n",
       "  YrSold  SaleType  SaleCondition  SalePrice  \n",
       "0   2008        WD         Normal     208500  \n",
       "1   2007        WD         Normal     181500  \n",
       "2   2008        WD         Normal     223500  \n",
       "3   2006        WD        Abnorml     140000  \n",
       "4   2008        WD         Normal     250000  \n",
       "\n",
       "[5 rows x 81 columns]"
      ]
     },
     "execution_count": 3,
     "metadata": {},
     "output_type": "execute_result"
    }
   ],
   "source": [
    "train.head()"
   ]
  },
  {
   "cell_type": "code",
   "execution_count": 4,
   "metadata": {},
   "outputs": [
    {
     "name": "stdout",
     "output_type": "stream",
     "text": [
      "<class 'pandas.core.frame.DataFrame'>\n",
      "RangeIndex: 1460 entries, 0 to 1459\n",
      "Data columns (total 81 columns):\n",
      " #   Column         Non-Null Count  Dtype  \n",
      "---  ------         --------------  -----  \n",
      " 0   Id             1460 non-null   int64  \n",
      " 1   MSSubClass     1460 non-null   int64  \n",
      " 2   MSZoning       1460 non-null   object \n",
      " 3   LotFrontage    1201 non-null   float64\n",
      " 4   LotArea        1460 non-null   int64  \n",
      " 5   Street         1460 non-null   object \n",
      " 6   Alley          91 non-null     object \n",
      " 7   LotShape       1460 non-null   object \n",
      " 8   LandContour    1460 non-null   object \n",
      " 9   Utilities      1460 non-null   object \n",
      " 10  LotConfig      1460 non-null   object \n",
      " 11  LandSlope      1460 non-null   object \n",
      " 12  Neighborhood   1460 non-null   object \n",
      " 13  Condition1     1460 non-null   object \n",
      " 14  Condition2     1460 non-null   object \n",
      " 15  BldgType       1460 non-null   object \n",
      " 16  HouseStyle     1460 non-null   object \n",
      " 17  OverallQual    1460 non-null   int64  \n",
      " 18  OverallCond    1460 non-null   int64  \n",
      " 19  YearBuilt      1460 non-null   int64  \n",
      " 20  YearRemodAdd   1460 non-null   int64  \n",
      " 21  RoofStyle      1460 non-null   object \n",
      " 22  RoofMatl       1460 non-null   object \n",
      " 23  Exterior1st    1460 non-null   object \n",
      " 24  Exterior2nd    1460 non-null   object \n",
      " 25  MasVnrType     1452 non-null   object \n",
      " 26  MasVnrArea     1452 non-null   float64\n",
      " 27  ExterQual      1460 non-null   object \n",
      " 28  ExterCond      1460 non-null   object \n",
      " 29  Foundation     1460 non-null   object \n",
      " 30  BsmtQual       1423 non-null   object \n",
      " 31  BsmtCond       1423 non-null   object \n",
      " 32  BsmtExposure   1422 non-null   object \n",
      " 33  BsmtFinType1   1423 non-null   object \n",
      " 34  BsmtFinSF1     1460 non-null   int64  \n",
      " 35  BsmtFinType2   1422 non-null   object \n",
      " 36  BsmtFinSF2     1460 non-null   int64  \n",
      " 37  BsmtUnfSF      1460 non-null   int64  \n",
      " 38  TotalBsmtSF    1460 non-null   int64  \n",
      " 39  Heating        1460 non-null   object \n",
      " 40  HeatingQC      1460 non-null   object \n",
      " 41  CentralAir     1460 non-null   object \n",
      " 42  Electrical     1459 non-null   object \n",
      " 43  1stFlrSF       1460 non-null   int64  \n",
      " 44  2ndFlrSF       1460 non-null   int64  \n",
      " 45  LowQualFinSF   1460 non-null   int64  \n",
      " 46  GrLivArea      1460 non-null   int64  \n",
      " 47  BsmtFullBath   1460 non-null   int64  \n",
      " 48  BsmtHalfBath   1460 non-null   int64  \n",
      " 49  FullBath       1460 non-null   int64  \n",
      " 50  HalfBath       1460 non-null   int64  \n",
      " 51  BedroomAbvGr   1460 non-null   int64  \n",
      " 52  KitchenAbvGr   1460 non-null   int64  \n",
      " 53  KitchenQual    1460 non-null   object \n",
      " 54  TotRmsAbvGrd   1460 non-null   int64  \n",
      " 55  Functional     1460 non-null   object \n",
      " 56  Fireplaces     1460 non-null   int64  \n",
      " 57  FireplaceQu    770 non-null    object \n",
      " 58  GarageType     1379 non-null   object \n",
      " 59  GarageYrBlt    1379 non-null   float64\n",
      " 60  GarageFinish   1379 non-null   object \n",
      " 61  GarageCars     1460 non-null   int64  \n",
      " 62  GarageArea     1460 non-null   int64  \n",
      " 63  GarageQual     1379 non-null   object \n",
      " 64  GarageCond     1379 non-null   object \n",
      " 65  PavedDrive     1460 non-null   object \n",
      " 66  WoodDeckSF     1460 non-null   int64  \n",
      " 67  OpenPorchSF    1460 non-null   int64  \n",
      " 68  EnclosedPorch  1460 non-null   int64  \n",
      " 69  3SsnPorch      1460 non-null   int64  \n",
      " 70  ScreenPorch    1460 non-null   int64  \n",
      " 71  PoolArea       1460 non-null   int64  \n",
      " 72  PoolQC         7 non-null      object \n",
      " 73  Fence          281 non-null    object \n",
      " 74  MiscFeature    54 non-null     object \n",
      " 75  MiscVal        1460 non-null   int64  \n",
      " 76  MoSold         1460 non-null   int64  \n",
      " 77  YrSold         1460 non-null   int64  \n",
      " 78  SaleType       1460 non-null   object \n",
      " 79  SaleCondition  1460 non-null   object \n",
      " 80  SalePrice      1460 non-null   int64  \n",
      "dtypes: float64(3), int64(35), object(43)\n",
      "memory usage: 924.0+ KB\n"
     ]
    }
   ],
   "source": [
    "train.info()"
   ]
  },
  {
   "cell_type": "code",
   "execution_count": 5,
   "metadata": {},
   "outputs": [
    {
     "data": {
      "text/html": [
       "<div>\n",
       "<style scoped>\n",
       "    .dataframe tbody tr th:only-of-type {\n",
       "        vertical-align: middle;\n",
       "    }\n",
       "\n",
       "    .dataframe tbody tr th {\n",
       "        vertical-align: top;\n",
       "    }\n",
       "\n",
       "    .dataframe thead th {\n",
       "        text-align: right;\n",
       "    }\n",
       "</style>\n",
       "<table border=\"1\" class=\"dataframe\">\n",
       "  <thead>\n",
       "    <tr style=\"text-align: right;\">\n",
       "      <th></th>\n",
       "      <th>Id</th>\n",
       "      <th>MSSubClass</th>\n",
       "      <th>LotFrontage</th>\n",
       "      <th>LotArea</th>\n",
       "      <th>OverallQual</th>\n",
       "      <th>OverallCond</th>\n",
       "      <th>YearBuilt</th>\n",
       "      <th>YearRemodAdd</th>\n",
       "      <th>MasVnrArea</th>\n",
       "      <th>BsmtFinSF1</th>\n",
       "      <th>...</th>\n",
       "      <th>WoodDeckSF</th>\n",
       "      <th>OpenPorchSF</th>\n",
       "      <th>EnclosedPorch</th>\n",
       "      <th>3SsnPorch</th>\n",
       "      <th>ScreenPorch</th>\n",
       "      <th>PoolArea</th>\n",
       "      <th>MiscVal</th>\n",
       "      <th>MoSold</th>\n",
       "      <th>YrSold</th>\n",
       "      <th>SalePrice</th>\n",
       "    </tr>\n",
       "  </thead>\n",
       "  <tbody>\n",
       "    <tr>\n",
       "      <th>count</th>\n",
       "      <td>1460.000000</td>\n",
       "      <td>1460.000000</td>\n",
       "      <td>1201.000000</td>\n",
       "      <td>1460.000000</td>\n",
       "      <td>1460.000000</td>\n",
       "      <td>1460.000000</td>\n",
       "      <td>1460.000000</td>\n",
       "      <td>1460.000000</td>\n",
       "      <td>1452.000000</td>\n",
       "      <td>1460.000000</td>\n",
       "      <td>...</td>\n",
       "      <td>1460.000000</td>\n",
       "      <td>1460.000000</td>\n",
       "      <td>1460.000000</td>\n",
       "      <td>1460.000000</td>\n",
       "      <td>1460.000000</td>\n",
       "      <td>1460.000000</td>\n",
       "      <td>1460.000000</td>\n",
       "      <td>1460.000000</td>\n",
       "      <td>1460.000000</td>\n",
       "      <td>1460.000000</td>\n",
       "    </tr>\n",
       "    <tr>\n",
       "      <th>mean</th>\n",
       "      <td>730.500000</td>\n",
       "      <td>56.897260</td>\n",
       "      <td>70.049958</td>\n",
       "      <td>10516.828082</td>\n",
       "      <td>6.099315</td>\n",
       "      <td>5.575342</td>\n",
       "      <td>1971.267808</td>\n",
       "      <td>1984.865753</td>\n",
       "      <td>103.685262</td>\n",
       "      <td>443.639726</td>\n",
       "      <td>...</td>\n",
       "      <td>94.244521</td>\n",
       "      <td>46.660274</td>\n",
       "      <td>21.954110</td>\n",
       "      <td>3.409589</td>\n",
       "      <td>15.060959</td>\n",
       "      <td>2.758904</td>\n",
       "      <td>43.489041</td>\n",
       "      <td>6.321918</td>\n",
       "      <td>2007.815753</td>\n",
       "      <td>180921.195890</td>\n",
       "    </tr>\n",
       "    <tr>\n",
       "      <th>std</th>\n",
       "      <td>421.610009</td>\n",
       "      <td>42.300571</td>\n",
       "      <td>24.284752</td>\n",
       "      <td>9981.264932</td>\n",
       "      <td>1.382997</td>\n",
       "      <td>1.112799</td>\n",
       "      <td>30.202904</td>\n",
       "      <td>20.645407</td>\n",
       "      <td>181.066207</td>\n",
       "      <td>456.098091</td>\n",
       "      <td>...</td>\n",
       "      <td>125.338794</td>\n",
       "      <td>66.256028</td>\n",
       "      <td>61.119149</td>\n",
       "      <td>29.317331</td>\n",
       "      <td>55.757415</td>\n",
       "      <td>40.177307</td>\n",
       "      <td>496.123024</td>\n",
       "      <td>2.703626</td>\n",
       "      <td>1.328095</td>\n",
       "      <td>79442.502883</td>\n",
       "    </tr>\n",
       "    <tr>\n",
       "      <th>min</th>\n",
       "      <td>1.000000</td>\n",
       "      <td>20.000000</td>\n",
       "      <td>21.000000</td>\n",
       "      <td>1300.000000</td>\n",
       "      <td>1.000000</td>\n",
       "      <td>1.000000</td>\n",
       "      <td>1872.000000</td>\n",
       "      <td>1950.000000</td>\n",
       "      <td>0.000000</td>\n",
       "      <td>0.000000</td>\n",
       "      <td>...</td>\n",
       "      <td>0.000000</td>\n",
       "      <td>0.000000</td>\n",
       "      <td>0.000000</td>\n",
       "      <td>0.000000</td>\n",
       "      <td>0.000000</td>\n",
       "      <td>0.000000</td>\n",
       "      <td>0.000000</td>\n",
       "      <td>1.000000</td>\n",
       "      <td>2006.000000</td>\n",
       "      <td>34900.000000</td>\n",
       "    </tr>\n",
       "    <tr>\n",
       "      <th>25%</th>\n",
       "      <td>365.750000</td>\n",
       "      <td>20.000000</td>\n",
       "      <td>59.000000</td>\n",
       "      <td>7553.500000</td>\n",
       "      <td>5.000000</td>\n",
       "      <td>5.000000</td>\n",
       "      <td>1954.000000</td>\n",
       "      <td>1967.000000</td>\n",
       "      <td>0.000000</td>\n",
       "      <td>0.000000</td>\n",
       "      <td>...</td>\n",
       "      <td>0.000000</td>\n",
       "      <td>0.000000</td>\n",
       "      <td>0.000000</td>\n",
       "      <td>0.000000</td>\n",
       "      <td>0.000000</td>\n",
       "      <td>0.000000</td>\n",
       "      <td>0.000000</td>\n",
       "      <td>5.000000</td>\n",
       "      <td>2007.000000</td>\n",
       "      <td>129975.000000</td>\n",
       "    </tr>\n",
       "    <tr>\n",
       "      <th>50%</th>\n",
       "      <td>730.500000</td>\n",
       "      <td>50.000000</td>\n",
       "      <td>69.000000</td>\n",
       "      <td>9478.500000</td>\n",
       "      <td>6.000000</td>\n",
       "      <td>5.000000</td>\n",
       "      <td>1973.000000</td>\n",
       "      <td>1994.000000</td>\n",
       "      <td>0.000000</td>\n",
       "      <td>383.500000</td>\n",
       "      <td>...</td>\n",
       "      <td>0.000000</td>\n",
       "      <td>25.000000</td>\n",
       "      <td>0.000000</td>\n",
       "      <td>0.000000</td>\n",
       "      <td>0.000000</td>\n",
       "      <td>0.000000</td>\n",
       "      <td>0.000000</td>\n",
       "      <td>6.000000</td>\n",
       "      <td>2008.000000</td>\n",
       "      <td>163000.000000</td>\n",
       "    </tr>\n",
       "    <tr>\n",
       "      <th>75%</th>\n",
       "      <td>1095.250000</td>\n",
       "      <td>70.000000</td>\n",
       "      <td>80.000000</td>\n",
       "      <td>11601.500000</td>\n",
       "      <td>7.000000</td>\n",
       "      <td>6.000000</td>\n",
       "      <td>2000.000000</td>\n",
       "      <td>2004.000000</td>\n",
       "      <td>166.000000</td>\n",
       "      <td>712.250000</td>\n",
       "      <td>...</td>\n",
       "      <td>168.000000</td>\n",
       "      <td>68.000000</td>\n",
       "      <td>0.000000</td>\n",
       "      <td>0.000000</td>\n",
       "      <td>0.000000</td>\n",
       "      <td>0.000000</td>\n",
       "      <td>0.000000</td>\n",
       "      <td>8.000000</td>\n",
       "      <td>2009.000000</td>\n",
       "      <td>214000.000000</td>\n",
       "    </tr>\n",
       "    <tr>\n",
       "      <th>max</th>\n",
       "      <td>1460.000000</td>\n",
       "      <td>190.000000</td>\n",
       "      <td>313.000000</td>\n",
       "      <td>215245.000000</td>\n",
       "      <td>10.000000</td>\n",
       "      <td>9.000000</td>\n",
       "      <td>2010.000000</td>\n",
       "      <td>2010.000000</td>\n",
       "      <td>1600.000000</td>\n",
       "      <td>5644.000000</td>\n",
       "      <td>...</td>\n",
       "      <td>857.000000</td>\n",
       "      <td>547.000000</td>\n",
       "      <td>552.000000</td>\n",
       "      <td>508.000000</td>\n",
       "      <td>480.000000</td>\n",
       "      <td>738.000000</td>\n",
       "      <td>15500.000000</td>\n",
       "      <td>12.000000</td>\n",
       "      <td>2010.000000</td>\n",
       "      <td>755000.000000</td>\n",
       "    </tr>\n",
       "  </tbody>\n",
       "</table>\n",
       "<p>8 rows × 38 columns</p>\n",
       "</div>"
      ],
      "text/plain": [
       "                Id   MSSubClass  LotFrontage        LotArea  OverallQual  \\\n",
       "count  1460.000000  1460.000000  1201.000000    1460.000000  1460.000000   \n",
       "mean    730.500000    56.897260    70.049958   10516.828082     6.099315   \n",
       "std     421.610009    42.300571    24.284752    9981.264932     1.382997   \n",
       "min       1.000000    20.000000    21.000000    1300.000000     1.000000   \n",
       "25%     365.750000    20.000000    59.000000    7553.500000     5.000000   \n",
       "50%     730.500000    50.000000    69.000000    9478.500000     6.000000   \n",
       "75%    1095.250000    70.000000    80.000000   11601.500000     7.000000   \n",
       "max    1460.000000   190.000000   313.000000  215245.000000    10.000000   \n",
       "\n",
       "       OverallCond    YearBuilt  YearRemodAdd   MasVnrArea   BsmtFinSF1  ...  \\\n",
       "count  1460.000000  1460.000000   1460.000000  1452.000000  1460.000000  ...   \n",
       "mean      5.575342  1971.267808   1984.865753   103.685262   443.639726  ...   \n",
       "std       1.112799    30.202904     20.645407   181.066207   456.098091  ...   \n",
       "min       1.000000  1872.000000   1950.000000     0.000000     0.000000  ...   \n",
       "25%       5.000000  1954.000000   1967.000000     0.000000     0.000000  ...   \n",
       "50%       5.000000  1973.000000   1994.000000     0.000000   383.500000  ...   \n",
       "75%       6.000000  2000.000000   2004.000000   166.000000   712.250000  ...   \n",
       "max       9.000000  2010.000000   2010.000000  1600.000000  5644.000000  ...   \n",
       "\n",
       "        WoodDeckSF  OpenPorchSF  EnclosedPorch    3SsnPorch  ScreenPorch  \\\n",
       "count  1460.000000  1460.000000    1460.000000  1460.000000  1460.000000   \n",
       "mean     94.244521    46.660274      21.954110     3.409589    15.060959   \n",
       "std     125.338794    66.256028      61.119149    29.317331    55.757415   \n",
       "min       0.000000     0.000000       0.000000     0.000000     0.000000   \n",
       "25%       0.000000     0.000000       0.000000     0.000000     0.000000   \n",
       "50%       0.000000    25.000000       0.000000     0.000000     0.000000   \n",
       "75%     168.000000    68.000000       0.000000     0.000000     0.000000   \n",
       "max     857.000000   547.000000     552.000000   508.000000   480.000000   \n",
       "\n",
       "          PoolArea       MiscVal       MoSold       YrSold      SalePrice  \n",
       "count  1460.000000   1460.000000  1460.000000  1460.000000    1460.000000  \n",
       "mean      2.758904     43.489041     6.321918  2007.815753  180921.195890  \n",
       "std      40.177307    496.123024     2.703626     1.328095   79442.502883  \n",
       "min       0.000000      0.000000     1.000000  2006.000000   34900.000000  \n",
       "25%       0.000000      0.000000     5.000000  2007.000000  129975.000000  \n",
       "50%       0.000000      0.000000     6.000000  2008.000000  163000.000000  \n",
       "75%       0.000000      0.000000     8.000000  2009.000000  214000.000000  \n",
       "max     738.000000  15500.000000    12.000000  2010.000000  755000.000000  \n",
       "\n",
       "[8 rows x 38 columns]"
      ]
     },
     "execution_count": 5,
     "metadata": {},
     "output_type": "execute_result"
    }
   ],
   "source": [
    "train.describe()"
   ]
  },
  {
   "cell_type": "markdown",
   "metadata": {},
   "source": [
    "#### Missing Values"
   ]
  },
  {
   "cell_type": "code",
   "execution_count": 29,
   "metadata": {},
   "outputs": [
    {
     "name": "stdout",
     "output_type": "stream",
     "text": [
      "LotFrontage 17.74\n",
      "Alley 93.77\n",
      "MasVnrType 0.55\n",
      "MasVnrArea 0.55\n",
      "BsmtQual 2.53\n",
      "BsmtCond 2.53\n",
      "BsmtExposure 2.6\n",
      "BsmtFinType1 2.53\n",
      "BsmtFinType2 2.6\n",
      "Electrical 0.07\n",
      "FireplaceQu 47.26\n",
      "GarageType 5.55\n",
      "GarageYrBlt 5.55\n",
      "GarageFinish 5.55\n",
      "GarageQual 5.55\n",
      "GarageCond 5.55\n",
      "PoolQC 99.52\n",
      "Fence 80.75\n",
      "MiscFeature 96.3\n"
     ]
    }
   ],
   "source": [
    "#Checking missing %\n",
    "ms=train.isna().sum()/len(train)*100\n",
    "\n",
    "#List of Variable havig missing %>0\n",
    "ms[ms!=0]\n",
    "\n",
    "\n",
    "#OR\n",
    "\n",
    "missing_features=[x for x in train.columns if train[x].isna().sum()>0]\n",
    "for i in missing_features:\n",
    "    print(i,round( (  (train[i].isna().sum())  /  len(train)  )*100 ,2))\n",
    "    "
   ]
  },
  {
   "cell_type": "markdown",
   "metadata": {},
   "source": [
    "#### ##### Dropping those Variable having missing % more than 90%   [Alley,  PoolQC  and  MiscFeature ]  also \n",
    "##### Removing one redudent var ['ID']  "
   ]
  },
  {
   "cell_type": "code",
   "execution_count": 30,
   "metadata": {},
   "outputs": [],
   "source": [
    "train=train.drop(['Alley', 'PoolQC', 'MiscFeature','Id'], axis=1)"
   ]
  },
  {
   "cell_type": "code",
   "execution_count": 12,
   "metadata": {},
   "outputs": [
    {
     "data": {
      "text/plain": [
       "(1460, 77)"
      ]
     },
     "execution_count": 12,
     "metadata": {},
     "output_type": "execute_result"
    }
   ],
   "source": [
    "train.shape"
   ]
  },
  {
   "cell_type": "markdown",
   "metadata": {},
   "source": [
    "### Missing value Imputation  "
   ]
  },
  {
   "cell_type": "code",
   "execution_count": null,
   "metadata": {},
   "outputs": [],
   "source": []
  },
  {
   "cell_type": "code",
   "execution_count": 31,
   "metadata": {},
   "outputs": [],
   "source": [
    "# 1. \"LotFrontage: ~ 17% missing value\"\n",
    "train['LotFrontage']= train['LotFrontage'].fillna(train['LotFrontage'].median())\n",
    " \n",
    "    \n",
    "# 2. MasVnr\n",
    "# 'MasVnrType' and 'MasVnrArea' has same missing rows, so it means house does not have 'MasVnr'\n",
    "# There are 8 rows as NA so imputing mode of 'MasVnrType' which is 'None'\n",
    "# Since MasVnrType is imputed as 'None'(using Mode) so imputing MasVnrArea as Zero\n",
    "train['MasVnrType']= train.fillna(train['MasVnrType'].mode())\n",
    "train['MasVnrArea']= train['MasVnrArea'].fillna(0)\n",
    "#Or                  train['MasVnrArea'].replace(np.nan, 0)\n",
    "\n",
    "\n",
    "# 3. Basement\n",
    "# 'BsmtQual', 'BsmtCond', 'BsmtExposure', 'BsmtFinType1' and 'BsmtFinType2' has same missing rows, so it means there is 'No Basement' in the house\n",
    "\n",
    "train['BsmtQual']= train['BsmtQual'].fillna('No Basement')\n",
    "train['BsmtCond']= train['BsmtCond'].fillna('No Basement')\n",
    "\n",
    "#BsmtExposure is NA when Basement category as 'No Basement'\n",
    "train.loc[(train['BsmtExposure'].isna()) & (train['BsmtQual']=='No Basement'), 'BsmtExposure']='Missing'\n",
    "\n",
    "#BsmtExposure is NA when Basement category is NOT 'No Basement'\n",
    "#train['BsmtExposure'].mode()\n",
    "train.loc[(train['BsmtExposure'].isna()) & (train['BsmtQual']!='No Basement'), 'BsmtExposure']=train['BsmtExposure'].mode()[0]\n",
    "\n",
    "#BsmtFinType1 is NA when Basement category as 'No Basement'\n",
    "train['BsmtFinType1']=train['BsmtFinType1'].fillna(\"No Basement\")\n",
    "\n",
    "#BsmtFinType2 is NA when Basement category is 'No Basement'\n",
    "train.loc[(train['BsmtFinType2'].isna()) & (train['BsmtQual']=='No Basement'), 'BsmtFinType2']='Missing'\n",
    "#BsmtFinType2 is NA when Basement category is NOT 'No Basement'\n",
    "train.loc[(train['BsmtFinType2'].isna()) & (train['BsmtQual']!='No Basement'), 'BsmtFinType2']=train['BsmtFinType2'].mode()[0]\n",
    "\n",
    "\n",
    "# 4. Garage\n",
    "# 'GarageType', 'GarageYrBlt', 'GarageFinish', 'GarageQual', 'GarageCond' are missing because the house doesn't have Garage\n",
    "# Missing values in these variabkes are not missing at  random\n",
    "train['GarageType']= train['GarageType'].fillna('No Garage')\n",
    "\n",
    "#imputing with 0 as we will not bucket this feature and model will not acept string,  \n",
    "train['GarageYrBlt']= train['GarageYrBlt'].fillna(0)\n",
    "train['GarageFinish']= train['GarageFinish'].fillna('No Garage')\n",
    "train['GarageQual']= train['GarageQual'].fillna('No Garage')\n",
    "train['GarageCond']= train['GarageCond'].fillna('No Garage')\n",
    "\n",
    "\n",
    "\n",
    "# 5. Fireplace\n",
    "# NA is not a missing value, as NA represents 'No Fireplace' (mentioed in data dictionary)\n",
    "train['FireplaceQu']= train['FireplaceQu'].fillna('No Fireplace')\n",
    "\n",
    "\n",
    "\n",
    "# 6. Fence\n",
    "# NA is not a missing value, as NA represents 'No Fence' (mentioed in data dictionary)\n",
    "train['Fence']= train['Fence'].fillna('No Fence')\n",
    "\n",
    "\n",
    "\n",
    "# 7. Electrical\n",
    "# NA is a missing value, so imputing mode  \n",
    "train['Electrical']= train.fillna(train['Electrical'].mode())"
   ]
  },
  {
   "cell_type": "code",
   "execution_count": 32,
   "metadata": {},
   "outputs": [],
   "source": [
    "#Checking missing once again\n",
    "missing_features=[x for x in train.columns if train[x].isna().sum()>0]\n",
    "for i in missing_features:\n",
    "    print(i,round( (  (train[i].isna().sum())  /  len(train)  )*100 ,2))\n",
    "    "
   ]
  },
  {
   "cell_type": "markdown",
   "metadata": {},
   "source": [
    "##### Craeting Derived Variables "
   ]
  },
  {
   "cell_type": "code",
   "execution_count": 33,
   "metadata": {},
   "outputs": [],
   "source": [
    "# 'TotalBsmtSF' is cobination of BsmtFinSF1 + BsmtFinSF2 + BsmtUnfSF, so removing these three variables\n",
    "# 'GrLivArea' is cobination of 1stFlrSF + 2ndFlrSF + LowQualFinSF, so removing these three variables\n",
    "\n",
    "\n",
    "train.drop(columns=['BsmtFinSF1', 'BsmtFinSF2' , 'BsmtUnfSF', '1stFlrSF' , '2ndFlrSF' , 'LowQualFinSF'], inplace=True)"
   ]
  },
  {
   "cell_type": "code",
   "execution_count": 12,
   "metadata": {},
   "outputs": [
    {
     "data": {
      "text/plain": [
       "(1460, 71)"
      ]
     },
     "execution_count": 12,
     "metadata": {},
     "output_type": "execute_result"
    }
   ],
   "source": [
    "train.shape"
   ]
  },
  {
   "cell_type": "markdown",
   "metadata": {},
   "source": [
    "#### Checking for integer and categorical variables"
   ]
  },
  {
   "cell_type": "code",
   "execution_count": 34,
   "metadata": {},
   "outputs": [
    {
     "name": "stdout",
     "output_type": "stream",
     "text": [
      "Index(['MSZoning', 'Street', 'LotShape', 'LandContour', 'Utilities',\n",
      "       'LotConfig', 'LandSlope', 'Neighborhood', 'Condition1', 'Condition2',\n",
      "       'BldgType', 'HouseStyle', 'RoofStyle', 'RoofMatl', 'Exterior1st',\n",
      "       'Exterior2nd', 'MasVnrType', 'ExterQual', 'ExterCond', 'Foundation',\n",
      "       'BsmtQual', 'BsmtCond', 'BsmtExposure', 'BsmtFinType1', 'BsmtFinType2',\n",
      "       'Heating', 'HeatingQC', 'CentralAir', 'Electrical', 'KitchenQual',\n",
      "       'Functional', 'FireplaceQu', 'GarageType', 'GarageFinish', 'GarageQual',\n",
      "       'GarageCond', 'PavedDrive', 'Fence', 'SaleType', 'SaleCondition'],\n",
      "      dtype='object')\n"
     ]
    }
   ],
   "source": [
    "#checking for categorical variables\n",
    "\n",
    "train_obj=train.select_dtypes(['object'])\n",
    "\n",
    "print(train_obj.columns)"
   ]
  },
  {
   "cell_type": "code",
   "execution_count": 35,
   "metadata": {},
   "outputs": [
    {
     "name": "stdout",
     "output_type": "stream",
     "text": [
      "Index(['MSSubClass', 'LotFrontage', 'LotArea', 'OverallQual', 'OverallCond',\n",
      "       'YearBuilt', 'YearRemodAdd', 'MasVnrArea', 'TotalBsmtSF', 'GrLivArea',\n",
      "       'BsmtFullBath', 'BsmtHalfBath', 'FullBath', 'HalfBath', 'BedroomAbvGr',\n",
      "       'KitchenAbvGr', 'TotRmsAbvGrd', 'Fireplaces', 'GarageYrBlt',\n",
      "       'GarageCars', 'GarageArea', 'WoodDeckSF', 'OpenPorchSF',\n",
      "       'EnclosedPorch', '3SsnPorch', 'ScreenPorch', 'PoolArea', 'MiscVal',\n",
      "       'MoSold', 'YrSold', 'SalePrice'],\n",
      "      dtype='object')\n"
     ]
    }
   ],
   "source": [
    "# Checking for Numeric data\n",
    "train_num=train.select_dtypes(['int64','float64'])\n",
    "\n",
    "print(train_num.columns)"
   ]
  },
  {
   "cell_type": "code",
   "execution_count": 36,
   "metadata": {},
   "outputs": [
    {
     "name": "stdout",
     "output_type": "stream",
     "text": [
      "RL         1151\n",
      "RM          218\n",
      "FV           65\n",
      "RH           16\n",
      "C (all)      10\n",
      "Name: MSZoning, dtype: int64\n",
      "Pave    1454\n",
      "Grvl       6\n",
      "Name: Street, dtype: int64\n",
      "Reg    925\n",
      "IR1    484\n",
      "IR2     41\n",
      "IR3     10\n",
      "Name: LotShape, dtype: int64\n",
      "Lvl    1311\n",
      "Bnk      63\n",
      "HLS      50\n",
      "Low      36\n",
      "Name: LandContour, dtype: int64\n",
      "AllPub    1459\n",
      "NoSeWa       1\n",
      "Name: Utilities, dtype: int64\n",
      "Inside     1052\n",
      "Corner      263\n",
      "CulDSac      94\n",
      "FR2          47\n",
      "FR3           4\n",
      "Name: LotConfig, dtype: int64\n",
      "Gtl    1382\n",
      "Mod      65\n",
      "Sev      13\n",
      "Name: LandSlope, dtype: int64\n",
      "NAmes      225\n",
      "CollgCr    150\n",
      "OldTown    113\n",
      "Edwards    100\n",
      "Somerst     86\n",
      "Gilbert     79\n",
      "NridgHt     77\n",
      "Sawyer      74\n",
      "NWAmes      73\n",
      "SawyerW     59\n",
      "BrkSide     58\n",
      "Crawfor     51\n",
      "Mitchel     49\n",
      "NoRidge     41\n",
      "Timber      38\n",
      "IDOTRR      37\n",
      "ClearCr     28\n",
      "StoneBr     25\n",
      "SWISU       25\n",
      "MeadowV     17\n",
      "Blmngtn     17\n",
      "BrDale      16\n",
      "Veenker     11\n",
      "NPkVill      9\n",
      "Blueste      2\n",
      "Name: Neighborhood, dtype: int64\n",
      "Norm      1260\n",
      "Feedr       81\n",
      "Artery      48\n",
      "RRAn        26\n",
      "PosN        19\n",
      "RRAe        11\n",
      "PosA         8\n",
      "RRNn         5\n",
      "RRNe         2\n",
      "Name: Condition1, dtype: int64\n",
      "Norm      1445\n",
      "Feedr        6\n",
      "RRNn         2\n",
      "Artery       2\n",
      "PosN         2\n",
      "PosA         1\n",
      "RRAe         1\n",
      "RRAn         1\n",
      "Name: Condition2, dtype: int64\n",
      "1Fam      1220\n",
      "TwnhsE     114\n",
      "Duplex      52\n",
      "Twnhs       43\n",
      "2fmCon      31\n",
      "Name: BldgType, dtype: int64\n",
      "1Story    726\n",
      "2Story    445\n",
      "1.5Fin    154\n",
      "SLvl       65\n",
      "SFoyer     37\n",
      "1.5Unf     14\n",
      "2.5Unf     11\n",
      "2.5Fin      8\n",
      "Name: HouseStyle, dtype: int64\n",
      "Gable      1141\n",
      "Hip         286\n",
      "Flat         13\n",
      "Gambrel      11\n",
      "Mansard       7\n",
      "Shed          2\n",
      "Name: RoofStyle, dtype: int64\n",
      "CompShg    1434\n",
      "Tar&Grv      11\n",
      "WdShngl       6\n",
      "WdShake       5\n",
      "Metal         1\n",
      "Roll          1\n",
      "ClyTile       1\n",
      "Membran       1\n",
      "Name: RoofMatl, dtype: int64\n",
      "VinylSd    515\n",
      "HdBoard    222\n",
      "MetalSd    220\n",
      "Wd Sdng    206\n",
      "Plywood    108\n",
      "CemntBd     61\n",
      "BrkFace     50\n",
      "WdShing     26\n",
      "Stucco      25\n",
      "AsbShng     20\n",
      "BrkComm      2\n",
      "Stone        2\n",
      "AsphShn      1\n",
      "CBlock       1\n",
      "ImStucc      1\n",
      "Name: Exterior1st, dtype: int64\n",
      "VinylSd    504\n",
      "MetalSd    214\n",
      "HdBoard    207\n",
      "Wd Sdng    197\n",
      "Plywood    142\n",
      "CmentBd     60\n",
      "Wd Shng     38\n",
      "Stucco      26\n",
      "BrkFace     25\n",
      "AsbShng     20\n",
      "ImStucc     10\n",
      "Brk Cmn      7\n",
      "Stone        5\n",
      "AsphShn      3\n",
      "CBlock       1\n",
      "Other        1\n",
      "Name: Exterior2nd, dtype: int64\n",
      "20     536\n",
      "60     299\n",
      "50     144\n",
      "120     87\n",
      "30      69\n",
      "160     63\n",
      "70      60\n",
      "80      58\n",
      "90      52\n",
      "190     30\n",
      "85      20\n",
      "75      16\n",
      "45      12\n",
      "180     10\n",
      "40       4\n",
      "Name: MasVnrType, dtype: int64\n",
      "TA    906\n",
      "Gd    488\n",
      "Ex     52\n",
      "Fa     14\n",
      "Name: ExterQual, dtype: int64\n",
      "TA    1282\n",
      "Gd     146\n",
      "Fa      28\n",
      "Ex       3\n",
      "Po       1\n",
      "Name: ExterCond, dtype: int64\n",
      "PConc     647\n",
      "CBlock    634\n",
      "BrkTil    146\n",
      "Slab       24\n",
      "Stone       6\n",
      "Wood        3\n",
      "Name: Foundation, dtype: int64\n",
      "TA             649\n",
      "Gd             618\n",
      "Ex             121\n",
      "No Basement     37\n",
      "Fa              35\n",
      "Name: BsmtQual, dtype: int64\n",
      "TA             1311\n",
      "Gd               65\n",
      "Fa               45\n",
      "No Basement      37\n",
      "Po                2\n",
      "Name: BsmtCond, dtype: int64\n",
      "No         954\n",
      "Av         221\n",
      "Gd         134\n",
      "Mn         114\n",
      "Missing     37\n",
      "Name: BsmtExposure, dtype: int64\n",
      "Unf            430\n",
      "GLQ            418\n",
      "ALQ            220\n",
      "BLQ            148\n",
      "Rec            133\n",
      "LwQ             74\n",
      "No Basement     37\n",
      "Name: BsmtFinType1, dtype: int64\n",
      "Unf        1257\n",
      "Rec          54\n",
      "LwQ          46\n",
      "Missing      37\n",
      "BLQ          33\n",
      "ALQ          19\n",
      "GLQ          14\n",
      "Name: BsmtFinType2, dtype: int64\n",
      "GasA     1428\n",
      "GasW       18\n",
      "Grav        7\n",
      "Wall        4\n",
      "OthW        2\n",
      "Floor       1\n",
      "Name: Heating, dtype: int64\n",
      "Ex    741\n",
      "TA    428\n",
      "Gd    241\n",
      "Fa     49\n",
      "Po      1\n",
      "Name: HeatingQC, dtype: int64\n",
      "Y    1365\n",
      "N      95\n",
      "Name: CentralAir, dtype: int64\n",
      "20     536\n",
      "60     299\n",
      "50     144\n",
      "120     87\n",
      "30      69\n",
      "160     63\n",
      "70      60\n",
      "80      58\n",
      "90      52\n",
      "190     30\n",
      "85      20\n",
      "75      16\n",
      "45      12\n",
      "180     10\n",
      "40       4\n",
      "Name: Electrical, dtype: int64\n",
      "TA    735\n",
      "Gd    586\n",
      "Ex    100\n",
      "Fa     39\n",
      "Name: KitchenQual, dtype: int64\n",
      "Typ     1360\n",
      "Min2      34\n",
      "Min1      31\n",
      "Mod       15\n",
      "Maj1      14\n",
      "Maj2       5\n",
      "Sev        1\n",
      "Name: Functional, dtype: int64\n",
      "No Fireplace    690\n",
      "Gd              380\n",
      "TA              313\n",
      "Fa               33\n",
      "Ex               24\n",
      "Po               20\n",
      "Name: FireplaceQu, dtype: int64\n",
      "Attchd       870\n",
      "Detchd       387\n",
      "BuiltIn       88\n",
      "No Garage     81\n",
      "Basment       19\n",
      "CarPort        9\n",
      "2Types         6\n",
      "Name: GarageType, dtype: int64\n",
      "Unf          605\n",
      "RFn          422\n",
      "Fin          352\n",
      "No Garage     81\n",
      "Name: GarageFinish, dtype: int64\n",
      "TA           1311\n",
      "No Garage      81\n",
      "Fa             48\n",
      "Gd             14\n",
      "Ex              3\n",
      "Po              3\n",
      "Name: GarageQual, dtype: int64\n",
      "TA           1326\n",
      "No Garage      81\n",
      "Fa             35\n",
      "Gd              9\n",
      "Po              7\n",
      "Ex              2\n",
      "Name: GarageCond, dtype: int64\n",
      "Y    1340\n",
      "N      90\n",
      "P      30\n",
      "Name: PavedDrive, dtype: int64\n",
      "No Fence    1179\n",
      "MnPrv        157\n",
      "GdPrv         59\n",
      "GdWo          54\n",
      "MnWw          11\n",
      "Name: Fence, dtype: int64\n",
      "WD       1267\n",
      "New       122\n",
      "COD        43\n",
      "ConLD       9\n",
      "ConLw       5\n",
      "ConLI       5\n",
      "CWD         4\n",
      "Oth         3\n",
      "Con         2\n",
      "Name: SaleType, dtype: int64\n",
      "Normal     1198\n",
      "Partial     125\n",
      "Abnorml     101\n",
      "Family       20\n",
      "Alloca       12\n",
      "AdjLand       4\n",
      "Name: SaleCondition, dtype: int64\n"
     ]
    }
   ],
   "source": [
    "# Checking value_counts of category for each categorical variables\n",
    "for i in enumerate(train_obj):\n",
    "    print(train[i[1]].value_counts())\n"
   ]
  },
  {
   "cell_type": "markdown",
   "metadata": {},
   "source": [
    "#### There are few more categorical features which are reflecting as Integer,  So coverting them as 'Object'  "
   ]
  },
  {
   "cell_type": "code",
   "execution_count": 37,
   "metadata": {},
   "outputs": [],
   "source": [
    "#Converting categorical feature as Object\n",
    "\n",
    "Ordinal_Cat=['OverallQual','OverallCond' ]\n",
    "Nominal_Cat=['YearBuilt', 'YearRemodAdd', 'BsmtFullBath', 'BsmtHalfBath', 'FullBath', 'HalfBath','BedroomAbvGr', 'KitchenAbvGr',\n",
    "            'TotRmsAbvGrd', 'Fireplaces', 'GarageCars', 'MoSold', 'YrSold', ]\n",
    "\n",
    "#Creating common list by combining Ordinal and Nominal\n",
    "Total_Missed_Catogorical=['OverallQual','OverallCond', 'YearBuilt', 'YearRemodAdd', 'BsmtFullBath', 'BsmtHalfBath', \n",
    "                     'FullBath', 'HalfBath','BedroomAbvGr', 'KitchenAbvGr','TotRmsAbvGrd', 'Fireplaces', 'GarageCars',\n",
    "                     'MiscFeature', 'MoSold', 'YrSold']\n",
    "\n",
    "#Converting them into object \n",
    "train[['OverallQual','OverallCond', 'YearBuilt', 'YearRemodAdd', 'BsmtFullBath', 'BsmtHalfBath', 'FullBath', \n",
    "       'HalfBath','BedroomAbvGr', 'KitchenAbvGr','TotRmsAbvGrd', 'Fireplaces', 'GarageCars',  'MoSold', \n",
    "       'YrSold']]=train[['OverallQual','OverallCond', 'YearBuilt', 'YearRemodAdd', 'BsmtFullBath', 'BsmtHalfBath', 'FullBath', \n",
    "       'HalfBath','BedroomAbvGr', 'KitchenAbvGr','TotRmsAbvGrd', 'Fireplaces', 'GarageCars',  'MoSold', \n",
    "       'YrSold']].astype(object)\n",
    "\n",
    "\n",
    "\n",
    "\n",
    "#train.columns"
   ]
  },
  {
   "cell_type": "markdown",
   "metadata": {},
   "source": [
    "#### Creating Buckets"
   ]
  },
  {
   "cell_type": "code",
   "execution_count": 38,
   "metadata": {},
   "outputs": [],
   "source": [
    "## Few variables has many catgories, so bucketing them in order to decrease redundent categories\n",
    "\n",
    "\n",
    "# MSZoning(RL-79% , RM-15%  and FV+RH+C - 6%, so puting FV+RH+C into one bucket as  'Others'  )\n",
    "train['MSZoning'][(train['MSZoning']=='FV') | (train['MSZoning']=='RH') | (train['MSZoning']=='C (all)')]='Others'\n",
    "\n",
    "\n",
    "#Similrl exercise for all other variables\n",
    "\n",
    "train['MSSubClass'][(train['MSSubClass']==190) | (train['MSSubClass']==85) | (train['MSSubClass']==75)|\n",
    "                    (train['MSSubClass']==45) | (train['MSSubClass']==180) | (train['MSSubClass']==40) ]='Others'\n",
    "\n",
    "\n",
    "train['Neighborhood'][(train['Neighborhood']=='Gilbert') | (train['Neighborhood']=='NridgHt') | (train['Neighborhood']=='Sawyer')|\n",
    "                     (train['Neighborhood']=='NWAmes') | (train['Neighborhood']=='SawyerW') | (train['Neighborhood']=='BrkSide')|\n",
    "                     (train['Neighborhood']=='Crawfor') | (train['Neighborhood']=='Mitchel') | (train['Neighborhood']=='NoRidge')|\n",
    "                     (train['Neighborhood']=='Timber') | (train['Neighborhood']=='IDOTRR') | (train['Neighborhood']=='ClearCr')|\n",
    "                     (train['Neighborhood']=='SWISU') | (train['Neighborhood']=='StoneBr') | (train['Neighborhood']=='MeadowV')|\n",
    "                     (train['Neighborhood']=='Blmngtn') | (train['Neighborhood']=='BrDale') | (train['Neighborhood']=='Veenker')|\n",
    "                     (train['Neighborhood']=='NPkVill') | (train['Neighborhood']=='Blueste')]='Others'\n",
    "\n",
    "\n",
    "train['Condition1'][(train['Condition1']=='Feedr') | (train['Condition1']=='Artery') | (train['Condition1']=='RRAn')|\n",
    "                    (train['Condition1']=='PosN') | (train['Condition1']=='RRAe') | (train['Condition1']=='PosA') |\n",
    "                    (train['Condition1']=='RRNn') | (train['Condition1']=='RRNe') ]='Others'\n",
    "\n",
    "\n",
    "train['Condition2'][(train['Condition2']=='Feedr') | (train['Condition2']=='Artery') | (train['Condition2']=='RRAn')|\n",
    "                    (train['Condition2']=='PosN') | (train['Condition2']=='RRAe') | (train['Condition2']=='PosA') |\n",
    "                    (train['Condition2']=='RRNn') ]='Others'\n",
    "\n",
    "\n",
    "train['BldgType'][(train['BldgType']=='TwnhsE') | (train['BldgType']=='Duplex') | (train['BldgType']=='Twnhs')|\n",
    "                    (train['BldgType']=='2fmCon') ]='Others'\n",
    "\n",
    "\n",
    "train['HouseStyle'][(train['HouseStyle']=='SLvl') | (train['HouseStyle']=='SFoyer') | (train['HouseStyle']=='1.5Unf')|\n",
    "                    (train['HouseStyle']=='2.5Fin') ]='Others'\n",
    "\n",
    "\n",
    "\n",
    "\n",
    "train['RoofStyle'][(train['RoofStyle']=='Flat') | (train['RoofStyle']=='Gambrel') | (train['RoofStyle']=='Mansard')|\n",
    "                    (train['RoofStyle']=='Shed') ]='Others'\n",
    "\n",
    "\n",
    "\n",
    "train['RoofMatl'][(train['RoofMatl']=='Tar&Grv') | (train['RoofMatl']=='WdShngl') | (train['RoofMatl']=='WdShake')|\n",
    "                  (train['RoofMatl']=='Metal') | (train['RoofMatl']=='Roll') | (train['RoofMatl']=='ClyTile') |\n",
    "                  (train['RoofMatl']=='Membran')]='Others'\n",
    "\n",
    "\n",
    "\n",
    "train['Exterior1st'][(train['Exterior1st']=='CemntBd') | (train['Exterior1st']=='BrkFace') | (train['Exterior1st']=='WdShing')|\n",
    "                     (train['Exterior1st']=='Stucco') | (train['Exterior1st']=='AsbShng') | (train['Exterior1st']=='BrkComm') |\n",
    "                     (train['Exterior1st']=='Stone') | (train['Exterior1st']=='AsphShn') | (train['Exterior1st']=='ImStucc')|\n",
    "                     (train['Exterior1st']=='CBlock') ]='Others'\n",
    "\n",
    "\n",
    "train['Exterior2nd'][(train['Exterior2nd']=='CemntBd') | (train['Exterior2nd']=='Wd Sdng') | (train['Exterior2nd']=='Stucco')|\n",
    "                     (train['Exterior2nd']=='BrkFace') | (train['Exterior2nd']=='AsbShng') | (train['Exterior2nd']=='ImStucc') |\n",
    "                     (train['Exterior2nd']=='Brk Cmn') | (train['Exterior2nd']=='Stone') | (train['Exterior2nd']=='AsphShn')|\n",
    "                     (train['Exterior2nd']=='Other') | (train['Exterior2nd']=='CBlock') ]='Others'\n",
    "\n",
    "\n",
    "\n",
    "##need to covert it onto object first ##############################333 \n",
    "train['MasVnrType']=train.astype(object)\n",
    "\n",
    "train['MasVnrType'][(train['MasVnrType']==120) | (train['MasVnrType']==30) | (train['MasVnrType']==160)|\n",
    "                     (train['MasVnrType']==70) | (train['MasVnrType']==80) | (train['MasVnrType']==90) |\n",
    "                     (train['MasVnrType']==190) | (train['MasVnrType']==85) | (train['MasVnrType']==75)|\n",
    "                     (train['MasVnrType']==45) | (train['MasVnrType']==180) | (train['MasVnrType']==40) ]='Others'\n",
    "\n",
    "\n",
    "train['ExterCond'][(train['ExterCond']=='Fa') | (train['ExterCond']=='Ex') | (train['ExterCond']=='Po') ]='Others'\n",
    "\n",
    "\n",
    "train['Foundation'][(train['Foundation']=='Slab') | (train['Foundation']=='Stone') | (train['Foundation']=='Wood')]='Others'\n",
    "\n",
    "\n",
    "\n",
    "train['Heating'][(train['Heating']=='GasW') | (train['Heating']=='Grav') | (train['Heating']=='Wall') |\n",
    "                 (train['Heating']=='OthW') | (train['Heating']=='Floor')]='Others'\n",
    "\n",
    "\n",
    "train['Electrical']=train['Electrical'].astype(object)\n",
    "train['Electrical'][(train['Electrical']==190) | (train['Electrical']==85) | (train['Electrical']==75) |\n",
    "                    (train['Electrical']==45) | (train['Electrical']==180) | (train['Electrical']==40)]='Others'\n",
    "\n",
    "\n",
    "train['Functional'][(train['Functional']=='Min2') | (train['Functional']=='Min1') | (train['Functional']=='Mod') |\n",
    "                    (train['Functional']=='Maj1') | (train['Functional']=='Maj2') | (train['Functional']=='Sev')]='Others'\n",
    "\n",
    "\n",
    "\n",
    "train['FireplaceQu'][(train['FireplaceQu']=='Fa') | (train['FireplaceQu']=='Ex') | (train['FireplaceQu']=='Po') ]='Others'\n",
    "\n",
    "\n",
    "train['GarageType'][(train['GarageType']=='BuiltIn') | (train['GarageType']=='No Garage') | (train['GarageType']=='Basment') |\n",
    "                   (train['GarageType']=='CarPort') | (train['GarageType']=='2Types')]='Others'\n",
    "\n",
    "\n",
    "train['GarageQual'][(train['GarageQual']=='No Garage') | (train['GarageQual']=='Fa') | (train['GarageQual']=='Gd') |\n",
    "                   (train['GarageQual']=='Ex') | (train['GarageQual']=='Po')]='Others'\n",
    "\n",
    "\n",
    "train['GarageCond'][(train['GarageCond']=='No Garage') | (train['GarageCond']=='Fa') | (train['GarageCond']=='Gd') |\n",
    "                   (train['GarageCond']=='Ex') | (train['GarageCond']=='Po')]='Others'\n",
    "\n",
    "\n",
    "\n",
    "train['SaleType'][(train['SaleType']=='COD') | (train['SaleType']=='ConLD') | (train['SaleType']=='ConLI') |\n",
    "                   (train['SaleType']=='ConLw') | (train['SaleType']=='CWD') | (train['SaleType']=='Oth') |\n",
    "                  (train['SaleType']=='Con')]='Others'\n",
    "\n",
    "\n",
    "##Converted features\n",
    "train['OverallQual'][(train['OverallQual']==9) | (train['OverallQual']==3) | (train['OverallQual']==10) |\n",
    "                   (train['OverallQual']==2) | (train['OverallQual']==1) ]='Others'\n",
    "\n",
    "\n",
    "train['OverallCond'][(train['OverallCond']==8) | (train['OverallCond']==4) | (train['OverallCond']==3) |\n",
    "                   (train['OverallCond']==9) | (train['OverallCond']==2) |(train['OverallCond']==1) ]='Others'\n",
    "\n",
    "\n",
    "train['BedroomAbvGr'][(train['BedroomAbvGr']==1) | (train['BedroomAbvGr']==5) | (train['BedroomAbvGr']==6) |\n",
    "                   (train['BedroomAbvGr']==0) | (train['BedroomAbvGr']==8)  ]='Others'\n",
    "\n",
    "\n",
    "train['TotRmsAbvGrd'][(train['TotRmsAbvGrd']==10) | (train['TotRmsAbvGrd']==11) | (train['TotRmsAbvGrd']==3) |\n",
    "                   (train['TotRmsAbvGrd']==12) | (train['TotRmsAbvGrd']==14) | (train['TotRmsAbvGrd']==2)  ]='Others'\n",
    "\n",
    "\n",
    "#train['MSZoning'].value_counts()"
   ]
  },
  {
   "cell_type": "code",
   "execution_count": 397,
   "metadata": {},
   "outputs": [],
   "source": [
    "#train['TotRmsAbvGrd'].value_counts()"
   ]
  },
  {
   "cell_type": "code",
   "execution_count": 39,
   "metadata": {},
   "outputs": [
    {
     "data": {
      "text/plain": [
       "Index(['MSSubClass', 'MSZoning', 'Street', 'LotShape', 'LandContour',\n",
       "       'Utilities', 'LotConfig', 'LandSlope', 'Neighborhood', 'Condition1',\n",
       "       'Condition2', 'BldgType', 'HouseStyle', 'OverallQual', 'OverallCond',\n",
       "       'YearBuilt', 'YearRemodAdd', 'RoofStyle', 'RoofMatl', 'Exterior1st',\n",
       "       'Exterior2nd', 'MasVnrType', 'ExterQual', 'ExterCond', 'Foundation',\n",
       "       'BsmtQual', 'BsmtCond', 'BsmtExposure', 'BsmtFinType1', 'BsmtFinType2',\n",
       "       'Heating', 'HeatingQC', 'CentralAir', 'Electrical', 'BsmtFullBath',\n",
       "       'BsmtHalfBath', 'FullBath', 'HalfBath', 'BedroomAbvGr', 'KitchenAbvGr',\n",
       "       'KitchenQual', 'TotRmsAbvGrd', 'Functional', 'Fireplaces',\n",
       "       'FireplaceQu', 'GarageType', 'GarageFinish', 'GarageCars', 'GarageQual',\n",
       "       'GarageCond', 'PavedDrive', 'Fence', 'MoSold', 'YrSold', 'SaleType',\n",
       "       'SaleCondition'],\n",
       "      dtype='object')"
      ]
     },
     "execution_count": 39,
     "metadata": {},
     "output_type": "execute_result"
    }
   ],
   "source": [
    "#Rechacking for variables and it's datatype\n",
    "\n",
    "#Object variables:\n",
    "train_obj= train.select_dtypes(['object'])\n",
    "train_obj.columns"
   ]
  },
  {
   "cell_type": "code",
   "execution_count": 40,
   "metadata": {},
   "outputs": [
    {
     "data": {
      "text/plain": [
       "Index(['LotFrontage', 'LotArea', 'MasVnrArea', 'TotalBsmtSF', 'GrLivArea',\n",
       "       'GarageYrBlt', 'GarageArea', 'WoodDeckSF', 'OpenPorchSF',\n",
       "       'EnclosedPorch', '3SsnPorch', 'ScreenPorch', 'PoolArea', 'MiscVal',\n",
       "       'SalePrice'],\n",
       "      dtype='object')"
      ]
     },
     "execution_count": 40,
     "metadata": {},
     "output_type": "execute_result"
    }
   ],
   "source": [
    "# Rechecking for int/float variables\n",
    "train_int=train.select_dtypes(['int64', 'float64'])\n",
    "train_int.columns"
   ]
  },
  {
   "cell_type": "markdown",
   "metadata": {},
   "source": [
    "### Checking for Outliers"
   ]
  },
  {
   "cell_type": "code",
   "execution_count": 19,
   "metadata": {},
   "outputs": [
    {
     "data": {
      "image/png": "[encoded data removed]",
      "text/plain": [
       "<Figure size 1800x720 with 15 Axes>"
      ]
     },
     "metadata": {
      "needs_background": "light"
     },
     "output_type": "display_data"
    }
   ],
   "source": [
    "#Creating Boxplot( to check outliers)\n",
    "from matplotlib import pyplot as plt\n",
    "\n",
    "plt.figure(figsize=(25,10))\n",
    "plt.subplots_adjust(hspace=0.8)\n",
    " \n",
    "\n",
    "for i in enumerate(train_int):\n",
    "    plt.subplot(5,5,i[0]+1)\n",
    "    sns.boxplot(train[i[1]])\n",
    "    "
   ]
  },
  {
   "cell_type": "code",
   "execution_count": 314,
   "metadata": {},
   "outputs": [
    {
     "name": "stdout",
     "output_type": "stream",
     "text": [
      "0.0 168.0 168.0 -252.0 420.0 857\n"
     ]
    }
   ],
   "source": [
    "# Most of the features are right skewed (outlier at heigher side)\n",
    "\n",
    "# Removing Outlier using 'Inter Quantile Range Proximity Rule'\n",
    "\n",
    "'''\n",
    "#MSSubClass\n",
    "P25_Mclass=train['WoodDeckSF'].quantile(.25)\n",
    "P75_Mclass=train['WoodDeckSF'].quantile(.75)\n",
    "\n",
    "IQR_Mclass=P75_Mclass-P25_Mclass\n",
    "\n",
    "upper_limit= P75_Mclass + 1.5*IQR_Mclass\n",
    "lower_limit= P25_Mclass - 1.5*IQR_Mclass\n",
    "\n",
    "print(P25_Mclass,P75_Mclass,IQR_Mclass,lower_limit, upper_limit,train['WoodDeckSF'].max())\n",
    "\n",
    "  \n",
    "#print(train['MasVnrArea'].max())\n",
    "'''"
   ]
  },
  {
   "cell_type": "code",
   "execution_count": 775,
   "metadata": {},
   "outputs": [
    {
     "name": "stdout",
     "output_type": "stream",
     "text": [
      "(0, 'LotFrontage') 60.0 60.0 19.0\n",
      "(1, 'LotArea') 7553.5 7553.5 4048.0\n",
      "(2, 'MasVnrArea') 0.0 0.0 164.25\n",
      "(3, 'TotalBsmtSF') 795.75 795.75 502.5\n",
      "(4, 'GrLivArea') 1129.5 1129.5 647.25\n",
      "(5, 'GarageYrBlt') 1958.0 1958.0 43.0\n",
      "(6, 'GarageArea') 334.5 334.5 241.5\n",
      "(7, 'WoodDeckSF') 0.0 0.0 168.0\n",
      "(8, 'OpenPorchSF') 0.0 0.0 68.0\n",
      "(9, 'EnclosedPorch') 0.0 0.0 0.0\n",
      "(10, '3SsnPorch') 0.0 0.0 0.0\n",
      "(11, 'ScreenPorch') 0.0 0.0 0.0\n",
      "(12, 'PoolArea') 0.0 0.0 0.0\n",
      "(13, 'MiscVal') 0.0 0.0 0.0\n",
      "(14, 'SalePrice') 129975.0 129975.0 84025.0\n"
     ]
    }
   ],
   "source": [
    "#Checking for P25,P75 nd IQR for all variables\n",
    "for i in enumerate(train_int):\n",
    "    P25=train[i[1]].quantile(0.25)\n",
    "    P75=train[i[1]].quantile(0.75)\n",
    "    IQR=P75-P25\n",
    "    print(i,P25,P25,IQR)"
   ]
  },
  {
   "cell_type": "code",
   "execution_count": 293,
   "metadata": {},
   "outputs": [],
   "source": [
    "# Haneling outlier for all Numeric variables \n",
    "\n",
    "'''def OL_Trtmnt(x):\n",
    "    if x>upper_limit:\n",
    "        return upper_limit\n",
    "    else:\n",
    "        return x\n",
    "\n",
    "\n",
    "for i in enumerate(train_int):\n",
    "    P25=train[i[1]].quantile(.25)\n",
    "    P75=train[i[1]].quantile(.75)\n",
    "    IQR=P75-P25\n",
    "    #print(i[1], P25, P75, IQR)\n",
    "    train[i[1]]=train[i[1]].apply(OL_Trtmnt)\n",
    " \n",
    "\n",
    "'''\n"
   ]
  },
  {
   "cell_type": "markdown",
   "metadata": {},
   "source": [
    "### Plotting Scatterplot to understand :\n",
    "#### 1. Outlier Pattern\n",
    "#### 2. Also Identifying the pattern of these variables against Target Variable (* 'SalesPrice'*  )"
   ]
  },
  {
   "cell_type": "code",
   "execution_count": 20,
   "metadata": {},
   "outputs": [
    {
     "data": {
      "image/png": "[encoded data removed]",
      "text/plain": [
       "<Figure size 1800x1440 with 13 Axes>"
      ]
     },
     "metadata": {
      "needs_background": "light"
     },
     "output_type": "display_data"
    }
   ],
   "source": [
    "col_choice=['LotFrontage','LotArea','MasVnrArea','TotalBsmtSF','GrLivArea','GarageArea','WoodDeckSF','OpenPorchSF','EnclosedPorch','3SsnPorch',\n",
    "                   'ScreenPorch','PoolArea','MiscVal' ] \n",
    "x_col=\"SalePrice\"\n",
    "\n",
    "#Subplot adjustment for proper width between the plots)\n",
    "plt.figure(figsize=(25,20))\n",
    "plt.subplots_adjust(hspace=0.4)\n",
    "\n",
    "for i in enumerate(col_choice):\n",
    "    plt.subplot(5,5,i[0]+1)\n",
    "    sns.scatterplot(train.loc[:,i[1]], train[x_col])\n"
   ]
  },
  {
   "cell_type": "markdown",
   "metadata": {},
   "source": [
    "### Checking Correlation "
   ]
  },
  {
   "cell_type": "code",
   "execution_count": 21,
   "metadata": {},
   "outputs": [
    {
     "data": {
      "text/plain": [
       "<matplotlib.axes._subplots.AxesSubplot at 0x2b9eb1ed0c8>"
      ]
     },
     "execution_count": 21,
     "metadata": {},
     "output_type": "execute_result"
    },
    {
     "data": {
      "image/png": "[encoded data removed]",
      "text/plain": [
       "<Figure size 864x432 with 2 Axes>"
      ]
     },
     "metadata": {
      "needs_background": "light"
     },
     "output_type": "display_data"
    }
   ],
   "source": [
    "cor=train_int.corr()\n",
    "plt.figure(figsize=(12,6))\n",
    "sns.heatmap(cor, cmap=\"YlGnBu\", annot=True)"
   ]
  },
  {
   "cell_type": "code",
   "execution_count": 22,
   "metadata": {},
   "outputs": [
    {
     "data": {
      "text/html": [
       "<div>\n",
       "<style scoped>\n",
       "    .dataframe tbody tr th:only-of-type {\n",
       "        vertical-align: middle;\n",
       "    }\n",
       "\n",
       "    .dataframe tbody tr th {\n",
       "        vertical-align: top;\n",
       "    }\n",
       "\n",
       "    .dataframe thead th {\n",
       "        text-align: right;\n",
       "    }\n",
       "</style>\n",
       "<table border=\"1\" class=\"dataframe\">\n",
       "  <thead>\n",
       "    <tr style=\"text-align: right;\">\n",
       "      <th></th>\n",
       "      <th>LotFrontage</th>\n",
       "      <th>LotArea</th>\n",
       "      <th>MasVnrArea</th>\n",
       "      <th>TotalBsmtSF</th>\n",
       "      <th>GrLivArea</th>\n",
       "      <th>GarageYrBlt</th>\n",
       "      <th>GarageArea</th>\n",
       "      <th>WoodDeckSF</th>\n",
       "      <th>OpenPorchSF</th>\n",
       "      <th>EnclosedPorch</th>\n",
       "      <th>3SsnPorch</th>\n",
       "      <th>ScreenPorch</th>\n",
       "      <th>PoolArea</th>\n",
       "      <th>MiscVal</th>\n",
       "    </tr>\n",
       "  </thead>\n",
       "  <tbody>\n",
       "    <tr>\n",
       "      <th>0</th>\n",
       "      <td>65.0</td>\n",
       "      <td>8450</td>\n",
       "      <td>196.0</td>\n",
       "      <td>856</td>\n",
       "      <td>1710</td>\n",
       "      <td>2003.0</td>\n",
       "      <td>548</td>\n",
       "      <td>0</td>\n",
       "      <td>61</td>\n",
       "      <td>0</td>\n",
       "      <td>0</td>\n",
       "      <td>0</td>\n",
       "      <td>0</td>\n",
       "      <td>0</td>\n",
       "    </tr>\n",
       "    <tr>\n",
       "      <th>1</th>\n",
       "      <td>80.0</td>\n",
       "      <td>9600</td>\n",
       "      <td>0.0</td>\n",
       "      <td>1262</td>\n",
       "      <td>1262</td>\n",
       "      <td>1976.0</td>\n",
       "      <td>460</td>\n",
       "      <td>298</td>\n",
       "      <td>0</td>\n",
       "      <td>0</td>\n",
       "      <td>0</td>\n",
       "      <td>0</td>\n",
       "      <td>0</td>\n",
       "      <td>0</td>\n",
       "    </tr>\n",
       "    <tr>\n",
       "      <th>2</th>\n",
       "      <td>68.0</td>\n",
       "      <td>11250</td>\n",
       "      <td>162.0</td>\n",
       "      <td>920</td>\n",
       "      <td>1786</td>\n",
       "      <td>2001.0</td>\n",
       "      <td>608</td>\n",
       "      <td>0</td>\n",
       "      <td>42</td>\n",
       "      <td>0</td>\n",
       "      <td>0</td>\n",
       "      <td>0</td>\n",
       "      <td>0</td>\n",
       "      <td>0</td>\n",
       "    </tr>\n",
       "    <tr>\n",
       "      <th>3</th>\n",
       "      <td>60.0</td>\n",
       "      <td>9550</td>\n",
       "      <td>0.0</td>\n",
       "      <td>756</td>\n",
       "      <td>1717</td>\n",
       "      <td>1998.0</td>\n",
       "      <td>642</td>\n",
       "      <td>0</td>\n",
       "      <td>35</td>\n",
       "      <td>272</td>\n",
       "      <td>0</td>\n",
       "      <td>0</td>\n",
       "      <td>0</td>\n",
       "      <td>0</td>\n",
       "    </tr>\n",
       "    <tr>\n",
       "      <th>4</th>\n",
       "      <td>84.0</td>\n",
       "      <td>14260</td>\n",
       "      <td>350.0</td>\n",
       "      <td>1145</td>\n",
       "      <td>2198</td>\n",
       "      <td>2000.0</td>\n",
       "      <td>836</td>\n",
       "      <td>192</td>\n",
       "      <td>84</td>\n",
       "      <td>0</td>\n",
       "      <td>0</td>\n",
       "      <td>0</td>\n",
       "      <td>0</td>\n",
       "      <td>0</td>\n",
       "    </tr>\n",
       "    <tr>\n",
       "      <th>...</th>\n",
       "      <td>...</td>\n",
       "      <td>...</td>\n",
       "      <td>...</td>\n",
       "      <td>...</td>\n",
       "      <td>...</td>\n",
       "      <td>...</td>\n",
       "      <td>...</td>\n",
       "      <td>...</td>\n",
       "      <td>...</td>\n",
       "      <td>...</td>\n",
       "      <td>...</td>\n",
       "      <td>...</td>\n",
       "      <td>...</td>\n",
       "      <td>...</td>\n",
       "    </tr>\n",
       "    <tr>\n",
       "      <th>1455</th>\n",
       "      <td>62.0</td>\n",
       "      <td>7917</td>\n",
       "      <td>0.0</td>\n",
       "      <td>953</td>\n",
       "      <td>1647</td>\n",
       "      <td>1999.0</td>\n",
       "      <td>460</td>\n",
       "      <td>0</td>\n",
       "      <td>40</td>\n",
       "      <td>0</td>\n",
       "      <td>0</td>\n",
       "      <td>0</td>\n",
       "      <td>0</td>\n",
       "      <td>0</td>\n",
       "    </tr>\n",
       "    <tr>\n",
       "      <th>1456</th>\n",
       "      <td>85.0</td>\n",
       "      <td>13175</td>\n",
       "      <td>119.0</td>\n",
       "      <td>1542</td>\n",
       "      <td>2073</td>\n",
       "      <td>1978.0</td>\n",
       "      <td>500</td>\n",
       "      <td>349</td>\n",
       "      <td>0</td>\n",
       "      <td>0</td>\n",
       "      <td>0</td>\n",
       "      <td>0</td>\n",
       "      <td>0</td>\n",
       "      <td>0</td>\n",
       "    </tr>\n",
       "    <tr>\n",
       "      <th>1457</th>\n",
       "      <td>66.0</td>\n",
       "      <td>9042</td>\n",
       "      <td>0.0</td>\n",
       "      <td>1152</td>\n",
       "      <td>2340</td>\n",
       "      <td>1941.0</td>\n",
       "      <td>252</td>\n",
       "      <td>0</td>\n",
       "      <td>60</td>\n",
       "      <td>0</td>\n",
       "      <td>0</td>\n",
       "      <td>0</td>\n",
       "      <td>0</td>\n",
       "      <td>2500</td>\n",
       "    </tr>\n",
       "    <tr>\n",
       "      <th>1458</th>\n",
       "      <td>68.0</td>\n",
       "      <td>9717</td>\n",
       "      <td>0.0</td>\n",
       "      <td>1078</td>\n",
       "      <td>1078</td>\n",
       "      <td>1950.0</td>\n",
       "      <td>240</td>\n",
       "      <td>366</td>\n",
       "      <td>0</td>\n",
       "      <td>112</td>\n",
       "      <td>0</td>\n",
       "      <td>0</td>\n",
       "      <td>0</td>\n",
       "      <td>0</td>\n",
       "    </tr>\n",
       "    <tr>\n",
       "      <th>1459</th>\n",
       "      <td>75.0</td>\n",
       "      <td>9937</td>\n",
       "      <td>0.0</td>\n",
       "      <td>1256</td>\n",
       "      <td>1256</td>\n",
       "      <td>1965.0</td>\n",
       "      <td>276</td>\n",
       "      <td>736</td>\n",
       "      <td>68</td>\n",
       "      <td>0</td>\n",
       "      <td>0</td>\n",
       "      <td>0</td>\n",
       "      <td>0</td>\n",
       "      <td>0</td>\n",
       "    </tr>\n",
       "  </tbody>\n",
       "</table>\n",
       "<p>1460 rows × 14 columns</p>\n",
       "</div>"
      ],
      "text/plain": [
       "      LotFrontage  LotArea  MasVnrArea  TotalBsmtSF  GrLivArea  GarageYrBlt  \\\n",
       "0            65.0     8450       196.0          856       1710       2003.0   \n",
       "1            80.0     9600         0.0         1262       1262       1976.0   \n",
       "2            68.0    11250       162.0          920       1786       2001.0   \n",
       "3            60.0     9550         0.0          756       1717       1998.0   \n",
       "4            84.0    14260       350.0         1145       2198       2000.0   \n",
       "...           ...      ...         ...          ...        ...          ...   \n",
       "1455         62.0     7917         0.0          953       1647       1999.0   \n",
       "1456         85.0    13175       119.0         1542       2073       1978.0   \n",
       "1457         66.0     9042         0.0         1152       2340       1941.0   \n",
       "1458         68.0     9717         0.0         1078       1078       1950.0   \n",
       "1459         75.0     9937         0.0         1256       1256       1965.0   \n",
       "\n",
       "      GarageArea  WoodDeckSF  OpenPorchSF  EnclosedPorch  3SsnPorch  \\\n",
       "0            548           0           61              0          0   \n",
       "1            460         298            0              0          0   \n",
       "2            608           0           42              0          0   \n",
       "3            642           0           35            272          0   \n",
       "4            836         192           84              0          0   \n",
       "...          ...         ...          ...            ...        ...   \n",
       "1455         460           0           40              0          0   \n",
       "1456         500         349            0              0          0   \n",
       "1457         252           0           60              0          0   \n",
       "1458         240         366            0            112          0   \n",
       "1459         276         736           68              0          0   \n",
       "\n",
       "      ScreenPorch  PoolArea  MiscVal  \n",
       "0               0         0        0  \n",
       "1               0         0        0  \n",
       "2               0         0        0  \n",
       "3               0         0        0  \n",
       "4               0         0        0  \n",
       "...           ...       ...      ...  \n",
       "1455            0         0        0  \n",
       "1456            0         0        0  \n",
       "1457            0         0     2500  \n",
       "1458            0         0        0  \n",
       "1459            0         0        0  \n",
       "\n",
       "[1460 rows x 14 columns]"
      ]
     },
     "execution_count": 22,
     "metadata": {},
     "output_type": "execute_result"
    }
   ],
   "source": [
    "corr_train_int=train_int.drop(columns=['SalePrice'])\n",
    "corr_train_int"
   ]
  },
  {
   "cell_type": "markdown",
   "metadata": {},
   "source": [
    "##### Correlation seems to be okay "
   ]
  },
  {
   "cell_type": "markdown",
   "metadata": {},
   "source": [
    "### Checking Multicollinearity "
   ]
  },
  {
   "cell_type": "code",
   "execution_count": 41,
   "metadata": {},
   "outputs": [
    {
     "data": {
      "text/html": [
       "<div>\n",
       "<style scoped>\n",
       "    .dataframe tbody tr th:only-of-type {\n",
       "        vertical-align: middle;\n",
       "    }\n",
       "\n",
       "    .dataframe tbody tr th {\n",
       "        vertical-align: top;\n",
       "    }\n",
       "\n",
       "    .dataframe thead th {\n",
       "        text-align: right;\n",
       "    }\n",
       "</style>\n",
       "<table border=\"1\" class=\"dataframe\">\n",
       "  <thead>\n",
       "    <tr style=\"text-align: right;\">\n",
       "      <th></th>\n",
       "      <th>feature</th>\n",
       "      <th>VIF</th>\n",
       "    </tr>\n",
       "  </thead>\n",
       "  <tbody>\n",
       "    <tr>\n",
       "      <th>4</th>\n",
       "      <td>GrLivArea</td>\n",
       "      <td>14.474262</td>\n",
       "    </tr>\n",
       "    <tr>\n",
       "      <th>5</th>\n",
       "      <td>GarageYrBlt</td>\n",
       "      <td>14.209459</td>\n",
       "    </tr>\n",
       "    <tr>\n",
       "      <th>0</th>\n",
       "      <td>LotFrontage</td>\n",
       "      <td>12.447283</td>\n",
       "    </tr>\n",
       "    <tr>\n",
       "      <th>6</th>\n",
       "      <td>GarageArea</td>\n",
       "      <td>12.020467</td>\n",
       "    </tr>\n",
       "    <tr>\n",
       "      <th>3</th>\n",
       "      <td>TotalBsmtSF</td>\n",
       "      <td>10.441081</td>\n",
       "    </tr>\n",
       "    <tr>\n",
       "      <th>1</th>\n",
       "      <td>LotArea</td>\n",
       "      <td>2.456391</td>\n",
       "    </tr>\n",
       "    <tr>\n",
       "      <th>7</th>\n",
       "      <td>WoodDeckSF</td>\n",
       "      <td>1.802514</td>\n",
       "    </tr>\n",
       "    <tr>\n",
       "      <th>8</th>\n",
       "      <td>OpenPorchSF</td>\n",
       "      <td>1.744048</td>\n",
       "    </tr>\n",
       "    <tr>\n",
       "      <th>2</th>\n",
       "      <td>MasVnrArea</td>\n",
       "      <td>1.695017</td>\n",
       "    </tr>\n",
       "    <tr>\n",
       "      <th>9</th>\n",
       "      <td>EnclosedPorch</td>\n",
       "      <td>1.202352</td>\n",
       "    </tr>\n",
       "    <tr>\n",
       "      <th>11</th>\n",
       "      <td>ScreenPorch</td>\n",
       "      <td>1.119677</td>\n",
       "    </tr>\n",
       "    <tr>\n",
       "      <th>12</th>\n",
       "      <td>PoolArea</td>\n",
       "      <td>1.045236</td>\n",
       "    </tr>\n",
       "    <tr>\n",
       "      <th>10</th>\n",
       "      <td>3SsnPorch</td>\n",
       "      <td>1.023538</td>\n",
       "    </tr>\n",
       "    <tr>\n",
       "      <th>13</th>\n",
       "      <td>MiscVal</td>\n",
       "      <td>1.013235</td>\n",
       "    </tr>\n",
       "  </tbody>\n",
       "</table>\n",
       "</div>"
      ],
      "text/plain": [
       "          feature        VIF\n",
       "4       GrLivArea  14.474262\n",
       "5     GarageYrBlt  14.209459\n",
       "0     LotFrontage  12.447283\n",
       "6      GarageArea  12.020467\n",
       "3     TotalBsmtSF  10.441081\n",
       "1         LotArea   2.456391\n",
       "7      WoodDeckSF   1.802514\n",
       "8     OpenPorchSF   1.744048\n",
       "2      MasVnrArea   1.695017\n",
       "9   EnclosedPorch   1.202352\n",
       "11    ScreenPorch   1.119677\n",
       "12       PoolArea   1.045236\n",
       "10      3SsnPorch   1.023538\n",
       "13        MiscVal   1.013235"
      ]
     },
     "execution_count": 41,
     "metadata": {},
     "output_type": "execute_result"
    }
   ],
   "source": [
    "from statsmodels.stats.outliers_influence import variance_inflation_factor \n",
    "\n",
    "corr_train_int=train_int.drop(columns=['SalePrice'])\n",
    "\n",
    "#train_int\n",
    "\n",
    "vif_data = pd.DataFrame() \n",
    "vif_data[\"feature\"] = corr_train_int.columns \n",
    "\n",
    "#print(X.values)\n",
    "\n",
    "vif_data[\"VIF\"] = [variance_inflation_factor(corr_train_int.values, i) for i in range(len(corr_train_int.columns))]\n",
    "\n",
    "vif_data.sort_values(by=\"VIF\" , ascending=False)\n"
   ]
  },
  {
   "cell_type": "markdown",
   "metadata": {},
   "source": [
    "#### Creating Dummy Variables (for categorical variables) "
   ]
  },
  {
   "cell_type": "code",
   "execution_count": 24,
   "metadata": {},
   "outputs": [
    {
     "data": {
      "text/plain": [
       "Index(['MSSubClass', 'MSZoning', 'Street', 'LotShape', 'LandContour',\n",
       "       'Utilities', 'LotConfig', 'LandSlope', 'Neighborhood', 'Condition1',\n",
       "       'Condition2', 'BldgType', 'HouseStyle', 'OverallQual', 'OverallCond',\n",
       "       'YearBuilt', 'YearRemodAdd', 'RoofStyle', 'RoofMatl', 'Exterior1st',\n",
       "       'Exterior2nd', 'MasVnrType', 'ExterQual', 'ExterCond', 'Foundation',\n",
       "       'BsmtQual', 'BsmtCond', 'BsmtExposure', 'BsmtFinType1', 'BsmtFinType2',\n",
       "       'Heating', 'HeatingQC', 'CentralAir', 'Electrical', 'BsmtFullBath',\n",
       "       'BsmtHalfBath', 'FullBath', 'HalfBath', 'BedroomAbvGr', 'KitchenAbvGr',\n",
       "       'KitchenQual', 'TotRmsAbvGrd', 'Functional', 'Fireplaces',\n",
       "       'FireplaceQu', 'GarageType', 'GarageFinish', 'GarageCars', 'GarageQual',\n",
       "       'GarageCond', 'PavedDrive', 'Fence', 'MoSold', 'YrSold', 'SaleType',\n",
       "       'SaleCondition'],\n",
       "      dtype='object')"
      ]
     },
     "execution_count": 24,
     "metadata": {},
     "output_type": "execute_result"
    }
   ],
   "source": [
    "train_obj.columns"
   ]
  },
  {
   "cell_type": "code",
   "execution_count": 42,
   "metadata": {},
   "outputs": [],
   "source": [
    "## Creating Dummy Variables\n",
    "\n",
    "train=pd.get_dummies(train, columns=['MSSubClass', 'MSZoning', 'Street', 'LotShape', 'LandContour',\n",
    "       'Utilities', 'LotConfig', 'LandSlope', 'Neighborhood', 'Condition1',\n",
    "       'Condition2', 'BldgType', 'HouseStyle', 'OverallQual','OverallCond', \n",
    "        'RoofStyle', 'RoofMatl', 'Exterior1st',\n",
    "       'Exterior2nd', 'MasVnrType', 'ExterQual', 'ExterCond', 'Foundation',\n",
    "       'BsmtQual', 'BsmtCond', 'BsmtExposure', 'BsmtFinType1', 'BsmtFinType2',\n",
    "       'Heating', 'HeatingQC', 'CentralAir', 'Electrical', 'BsmtFullBath',\n",
    "       'BsmtHalfBath', 'FullBath', 'HalfBath', 'BedroomAbvGr', 'KitchenAbvGr',\n",
    "       'KitchenQual', 'TotRmsAbvGrd', 'Functional', 'Fireplaces',\n",
    "       'FireplaceQu', 'GarageType',  'GarageFinish',\n",
    "       'GarageCars', 'GarageQual', 'GarageCond', 'PavedDrive', 'Fence',\n",
    "       'MoSold', 'YrSold', 'SaleType', 'SaleCondition'], drop_first=True)\n",
    "\n",
    "#Ordinal data Encoding\n",
    "#Ordinal_Cat=['OverallQual','OverallCond' ]"
   ]
  },
  {
   "cell_type": "code",
   "execution_count": null,
   "metadata": {},
   "outputs": [],
   "source": []
  },
  {
   "cell_type": "markdown",
   "metadata": {},
   "source": [
    "### Scaling of variables"
   ]
  },
  {
   "cell_type": "code",
   "execution_count": 782,
   "metadata": {},
   "outputs": [],
   "source": [
    "# Performing Robust Scaling (as it also handles outlier in the data)"
   ]
  },
  {
   "cell_type": "code",
   "execution_count": 43,
   "metadata": {},
   "outputs": [],
   "source": [
    "from sklearn.preprocessing import RobustScaler\n",
    "RScaler= RobustScaler()\n",
    "\n",
    "#Transforming\n",
    "\n",
    "train[['LotFrontage', 'LotArea', 'MasVnrArea', 'TotalBsmtSF', 'GrLivArea',\n",
    "       'GarageArea', 'WoodDeckSF', 'OpenPorchSF', 'EnclosedPorch', '3SsnPorch',\n",
    "       'ScreenPorch', 'PoolArea', 'MiscVal','SalePrice']]= RScaler.fit_transform(train_int[['LotFrontage', 'LotArea', 'MasVnrArea', 'TotalBsmtSF', 'GrLivArea',\n",
    "       'GarageArea', 'WoodDeckSF', 'OpenPorchSF', 'EnclosedPorch', '3SsnPorch',\n",
    "       'ScreenPorch', 'PoolArea', 'MiscVal', 'SalePrice']])\n"
   ]
  },
  {
   "cell_type": "code",
   "execution_count": 44,
   "metadata": {},
   "outputs": [
    {
     "data": {
      "text/html": [
       "<div>\n",
       "<style scoped>\n",
       "    .dataframe tbody tr th:only-of-type {\n",
       "        vertical-align: middle;\n",
       "    }\n",
       "\n",
       "    .dataframe tbody tr th {\n",
       "        vertical-align: top;\n",
       "    }\n",
       "\n",
       "    .dataframe thead th {\n",
       "        text-align: right;\n",
       "    }\n",
       "</style>\n",
       "<table border=\"1\" class=\"dataframe\">\n",
       "  <thead>\n",
       "    <tr style=\"text-align: right;\">\n",
       "      <th></th>\n",
       "      <th>LotFrontage</th>\n",
       "      <th>LotArea</th>\n",
       "      <th>MasVnrArea</th>\n",
       "      <th>TotalBsmtSF</th>\n",
       "      <th>GrLivArea</th>\n",
       "      <th>GarageYrBlt</th>\n",
       "      <th>GarageArea</th>\n",
       "      <th>WoodDeckSF</th>\n",
       "      <th>OpenPorchSF</th>\n",
       "      <th>EnclosedPorch</th>\n",
       "      <th>...</th>\n",
       "      <th>YrSold_2008</th>\n",
       "      <th>YrSold_2009</th>\n",
       "      <th>YrSold_2010</th>\n",
       "      <th>SaleType_Others</th>\n",
       "      <th>SaleType_WD</th>\n",
       "      <th>SaleCondition_AdjLand</th>\n",
       "      <th>SaleCondition_Alloca</th>\n",
       "      <th>SaleCondition_Family</th>\n",
       "      <th>SaleCondition_Normal</th>\n",
       "      <th>SaleCondition_Partial</th>\n",
       "    </tr>\n",
       "  </thead>\n",
       "  <tbody>\n",
       "    <tr>\n",
       "      <th>count</th>\n",
       "      <td>1460.000000</td>\n",
       "      <td>1460.000000</td>\n",
       "      <td>1460.000000</td>\n",
       "      <td>1460.000000</td>\n",
       "      <td>1460.000000</td>\n",
       "      <td>1460.000000</td>\n",
       "      <td>1460.000000</td>\n",
       "      <td>1460.000000</td>\n",
       "      <td>1460.000000</td>\n",
       "      <td>1460.000000</td>\n",
       "      <td>...</td>\n",
       "      <td>1460.000000</td>\n",
       "      <td>1460.000000</td>\n",
       "      <td>1460.000000</td>\n",
       "      <td>1460.000000</td>\n",
       "      <td>1460.000000</td>\n",
       "      <td>1460.000000</td>\n",
       "      <td>1460.000000</td>\n",
       "      <td>1460.000000</td>\n",
       "      <td>1460.000000</td>\n",
       "      <td>1460.000000</td>\n",
       "    </tr>\n",
       "    <tr>\n",
       "      <th>mean</th>\n",
       "      <td>0.045458</td>\n",
       "      <td>0.256504</td>\n",
       "      <td>0.627806</td>\n",
       "      <td>0.131203</td>\n",
       "      <td>0.079511</td>\n",
       "      <td>1868.739726</td>\n",
       "      <td>-0.029068</td>\n",
       "      <td>0.560979</td>\n",
       "      <td>0.318533</td>\n",
       "      <td>21.954110</td>\n",
       "      <td>...</td>\n",
       "      <td>0.208219</td>\n",
       "      <td>0.231507</td>\n",
       "      <td>0.119863</td>\n",
       "      <td>0.048630</td>\n",
       "      <td>0.867808</td>\n",
       "      <td>0.002740</td>\n",
       "      <td>0.008219</td>\n",
       "      <td>0.013699</td>\n",
       "      <td>0.820548</td>\n",
       "      <td>0.085616</td>\n",
       "    </tr>\n",
       "    <tr>\n",
       "      <th>std</th>\n",
       "      <td>1.159351</td>\n",
       "      <td>2.465728</td>\n",
       "      <td>1.100343</td>\n",
       "      <td>0.873045</td>\n",
       "      <td>0.811866</td>\n",
       "      <td>453.697295</td>\n",
       "      <td>0.885320</td>\n",
       "      <td>0.746064</td>\n",
       "      <td>0.974353</td>\n",
       "      <td>61.119149</td>\n",
       "      <td>...</td>\n",
       "      <td>0.406174</td>\n",
       "      <td>0.421940</td>\n",
       "      <td>0.324913</td>\n",
       "      <td>0.215167</td>\n",
       "      <td>0.338815</td>\n",
       "      <td>0.052289</td>\n",
       "      <td>0.090317</td>\n",
       "      <td>0.116277</td>\n",
       "      <td>0.383862</td>\n",
       "      <td>0.279893</td>\n",
       "    </tr>\n",
       "    <tr>\n",
       "      <th>min</th>\n",
       "      <td>-2.526316</td>\n",
       "      <td>-2.020380</td>\n",
       "      <td>0.000000</td>\n",
       "      <td>-1.973134</td>\n",
       "      <td>-1.745848</td>\n",
       "      <td>0.000000</td>\n",
       "      <td>-1.987578</td>\n",
       "      <td>0.000000</td>\n",
       "      <td>-0.367647</td>\n",
       "      <td>0.000000</td>\n",
       "      <td>...</td>\n",
       "      <td>0.000000</td>\n",
       "      <td>0.000000</td>\n",
       "      <td>0.000000</td>\n",
       "      <td>0.000000</td>\n",
       "      <td>0.000000</td>\n",
       "      <td>0.000000</td>\n",
       "      <td>0.000000</td>\n",
       "      <td>0.000000</td>\n",
       "      <td>0.000000</td>\n",
       "      <td>0.000000</td>\n",
       "    </tr>\n",
       "    <tr>\n",
       "      <th>25%</th>\n",
       "      <td>-0.473684</td>\n",
       "      <td>-0.475543</td>\n",
       "      <td>0.000000</td>\n",
       "      <td>-0.389552</td>\n",
       "      <td>-0.516802</td>\n",
       "      <td>1958.000000</td>\n",
       "      <td>-0.602484</td>\n",
       "      <td>0.000000</td>\n",
       "      <td>-0.367647</td>\n",
       "      <td>0.000000</td>\n",
       "      <td>...</td>\n",
       "      <td>0.000000</td>\n",
       "      <td>0.000000</td>\n",
       "      <td>0.000000</td>\n",
       "      <td>0.000000</td>\n",
       "      <td>1.000000</td>\n",
       "      <td>0.000000</td>\n",
       "      <td>0.000000</td>\n",
       "      <td>0.000000</td>\n",
       "      <td>1.000000</td>\n",
       "      <td>0.000000</td>\n",
       "    </tr>\n",
       "    <tr>\n",
       "      <th>50%</th>\n",
       "      <td>0.000000</td>\n",
       "      <td>0.000000</td>\n",
       "      <td>0.000000</td>\n",
       "      <td>0.000000</td>\n",
       "      <td>0.000000</td>\n",
       "      <td>1977.000000</td>\n",
       "      <td>0.000000</td>\n",
       "      <td>0.000000</td>\n",
       "      <td>0.000000</td>\n",
       "      <td>0.000000</td>\n",
       "      <td>...</td>\n",
       "      <td>0.000000</td>\n",
       "      <td>0.000000</td>\n",
       "      <td>0.000000</td>\n",
       "      <td>0.000000</td>\n",
       "      <td>1.000000</td>\n",
       "      <td>0.000000</td>\n",
       "      <td>0.000000</td>\n",
       "      <td>0.000000</td>\n",
       "      <td>1.000000</td>\n",
       "      <td>0.000000</td>\n",
       "    </tr>\n",
       "    <tr>\n",
       "      <th>75%</th>\n",
       "      <td>0.526316</td>\n",
       "      <td>0.524457</td>\n",
       "      <td>1.000000</td>\n",
       "      <td>0.610448</td>\n",
       "      <td>0.483198</td>\n",
       "      <td>2001.000000</td>\n",
       "      <td>0.397516</td>\n",
       "      <td>1.000000</td>\n",
       "      <td>0.632353</td>\n",
       "      <td>0.000000</td>\n",
       "      <td>...</td>\n",
       "      <td>0.000000</td>\n",
       "      <td>0.000000</td>\n",
       "      <td>0.000000</td>\n",
       "      <td>0.000000</td>\n",
       "      <td>1.000000</td>\n",
       "      <td>0.000000</td>\n",
       "      <td>0.000000</td>\n",
       "      <td>0.000000</td>\n",
       "      <td>1.000000</td>\n",
       "      <td>0.000000</td>\n",
       "    </tr>\n",
       "    <tr>\n",
       "      <th>max</th>\n",
       "      <td>12.842105</td>\n",
       "      <td>50.831645</td>\n",
       "      <td>9.741248</td>\n",
       "      <td>10.186070</td>\n",
       "      <td>6.455002</td>\n",
       "      <td>2010.000000</td>\n",
       "      <td>3.884058</td>\n",
       "      <td>5.101190</td>\n",
       "      <td>7.676471</td>\n",
       "      <td>552.000000</td>\n",
       "      <td>...</td>\n",
       "      <td>1.000000</td>\n",
       "      <td>1.000000</td>\n",
       "      <td>1.000000</td>\n",
       "      <td>1.000000</td>\n",
       "      <td>1.000000</td>\n",
       "      <td>1.000000</td>\n",
       "      <td>1.000000</td>\n",
       "      <td>1.000000</td>\n",
       "      <td>1.000000</td>\n",
       "      <td>1.000000</td>\n",
       "    </tr>\n",
       "  </tbody>\n",
       "</table>\n",
       "<p>8 rows × 195 columns</p>\n",
       "</div>"
      ],
      "text/plain": [
       "       LotFrontage      LotArea   MasVnrArea  TotalBsmtSF    GrLivArea  \\\n",
       "count  1460.000000  1460.000000  1460.000000  1460.000000  1460.000000   \n",
       "mean      0.045458     0.256504     0.627806     0.131203     0.079511   \n",
       "std       1.159351     2.465728     1.100343     0.873045     0.811866   \n",
       "min      -2.526316    -2.020380     0.000000    -1.973134    -1.745848   \n",
       "25%      -0.473684    -0.475543     0.000000    -0.389552    -0.516802   \n",
       "50%       0.000000     0.000000     0.000000     0.000000     0.000000   \n",
       "75%       0.526316     0.524457     1.000000     0.610448     0.483198   \n",
       "max      12.842105    50.831645     9.741248    10.186070     6.455002   \n",
       "\n",
       "       GarageYrBlt   GarageArea   WoodDeckSF  OpenPorchSF  EnclosedPorch  ...  \\\n",
       "count  1460.000000  1460.000000  1460.000000  1460.000000    1460.000000  ...   \n",
       "mean   1868.739726    -0.029068     0.560979     0.318533      21.954110  ...   \n",
       "std     453.697295     0.885320     0.746064     0.974353      61.119149  ...   \n",
       "min       0.000000    -1.987578     0.000000    -0.367647       0.000000  ...   \n",
       "25%    1958.000000    -0.602484     0.000000    -0.367647       0.000000  ...   \n",
       "50%    1977.000000     0.000000     0.000000     0.000000       0.000000  ...   \n",
       "75%    2001.000000     0.397516     1.000000     0.632353       0.000000  ...   \n",
       "max    2010.000000     3.884058     5.101190     7.676471     552.000000  ...   \n",
       "\n",
       "       YrSold_2008  YrSold_2009  YrSold_2010  SaleType_Others  SaleType_WD  \\\n",
       "count  1460.000000  1460.000000  1460.000000      1460.000000  1460.000000   \n",
       "mean      0.208219     0.231507     0.119863         0.048630     0.867808   \n",
       "std       0.406174     0.421940     0.324913         0.215167     0.338815   \n",
       "min       0.000000     0.000000     0.000000         0.000000     0.000000   \n",
       "25%       0.000000     0.000000     0.000000         0.000000     1.000000   \n",
       "50%       0.000000     0.000000     0.000000         0.000000     1.000000   \n",
       "75%       0.000000     0.000000     0.000000         0.000000     1.000000   \n",
       "max       1.000000     1.000000     1.000000         1.000000     1.000000   \n",
       "\n",
       "       SaleCondition_AdjLand  SaleCondition_Alloca  SaleCondition_Family  \\\n",
       "count            1460.000000           1460.000000           1460.000000   \n",
       "mean                0.002740              0.008219              0.013699   \n",
       "std                 0.052289              0.090317              0.116277   \n",
       "min                 0.000000              0.000000              0.000000   \n",
       "25%                 0.000000              0.000000              0.000000   \n",
       "50%                 0.000000              0.000000              0.000000   \n",
       "75%                 0.000000              0.000000              0.000000   \n",
       "max                 1.000000              1.000000              1.000000   \n",
       "\n",
       "       SaleCondition_Normal  SaleCondition_Partial  \n",
       "count           1460.000000            1460.000000  \n",
       "mean               0.820548               0.085616  \n",
       "std                0.383862               0.279893  \n",
       "min                0.000000               0.000000  \n",
       "25%                1.000000               0.000000  \n",
       "50%                1.000000               0.000000  \n",
       "75%                1.000000               0.000000  \n",
       "max                1.000000               1.000000  \n",
       "\n",
       "[8 rows x 195 columns]"
      ]
     },
     "execution_count": 44,
     "metadata": {},
     "output_type": "execute_result"
    }
   ],
   "source": [
    "train.describe()"
   ]
  },
  {
   "cell_type": "code",
   "execution_count": 28,
   "metadata": {},
   "outputs": [
    {
     "data": {
      "text/plain": [
       "(1460, 197)"
      ]
     },
     "execution_count": 28,
     "metadata": {},
     "output_type": "execute_result"
    }
   ],
   "source": [
    "train.shape"
   ]
  },
  {
   "cell_type": "raw",
   "metadata": {},
   "source": []
  },
  {
   "cell_type": "markdown",
   "metadata": {},
   "source": [
    "### Spliting Target and Response Variable"
   ]
  },
  {
   "cell_type": "code",
   "execution_count": 45,
   "metadata": {},
   "outputs": [],
   "source": [
    "X=train.drop(columns=['SalePrice'])\n",
    "y=train['SalePrice'] "
   ]
  },
  {
   "cell_type": "markdown",
   "metadata": {},
   "source": [
    "### Train Test Split  (test will be my validation data)"
   ]
  },
  {
   "cell_type": "code",
   "execution_count": 46,
   "metadata": {},
   "outputs": [],
   "source": [
    "from sklearn.model_selection import train_test_split\n",
    "X_train,X_test, y_train,y_test= train_test_split(X, y, test_size=0.2, random_state=99)"
   ]
  },
  {
   "cell_type": "code",
   "execution_count": 174,
   "metadata": {},
   "outputs": [
    {
     "data": {
      "text/plain": [
       "(1168, 196)"
      ]
     },
     "execution_count": 174,
     "metadata": {},
     "output_type": "execute_result"
    }
   ],
   "source": [
    "X_train.shape"
   ]
  },
  {
   "cell_type": "code",
   "execution_count": null,
   "metadata": {},
   "outputs": [],
   "source": []
  },
  {
   "cell_type": "markdown",
   "metadata": {},
   "source": [
    "## Creating Model"
   ]
  },
  {
   "cell_type": "markdown",
   "metadata": {},
   "source": [
    "### 1. Linear Regression"
   ]
  },
  {
   "cell_type": "code",
   "execution_count": 47,
   "metadata": {},
   "outputs": [],
   "source": [
    "from sklearn.linear_model  import LinearRegression"
   ]
  },
  {
   "cell_type": "code",
   "execution_count": 48,
   "metadata": {},
   "outputs": [],
   "source": [
    "Linear_Reg= LinearRegression()\n",
    "\n",
    "Linear_Reg_fit= Linear_Reg.fit(X_train,y_train)"
   ]
  },
  {
   "cell_type": "code",
   "execution_count": 49,
   "metadata": {},
   "outputs": [],
   "source": [
    "#Prediction-Train\n",
    "y_train_pred=Linear_Reg_fit.predict(X_train)\n",
    "\n",
    "#Prediction-Test\n",
    "y_test_pred= Linear_Reg_fit.predict(X_test)"
   ]
  },
  {
   "cell_type": "code",
   "execution_count": 50,
   "metadata": {},
   "outputs": [
    {
     "name": "stdout",
     "output_type": "stream",
     "text": [
      "R2 Score for Train data is:0.8840749360612966\n",
      "R2 Score for Train data is:0.855023094873695\n"
     ]
    }
   ],
   "source": [
    "#R2 Score (Train)\n",
    "from sklearn.metrics import r2_score\n",
    "print(f\"R2 Score for Train data is:{r2_score(y_train, y_train_pred)}\")\n",
    "#print(r2_score(y_train, y_pred_train)      \n",
    "print(f\"R2 Score for Train data is:{r2_score(y_test, y_test_pred)}\")      "
   ]
  },
  {
   "cell_type": "markdown",
   "metadata": {},
   "source": [
    "#### Model Coefficients "
   ]
  },
  {
   "cell_type": "code",
   "execution_count": 51,
   "metadata": {},
   "outputs": [
    {
     "name": "stdout",
     "output_type": "stream",
     "text": [
      "Intercept for Linear Regression is: -5.030766789144221\n"
     ]
    }
   ],
   "source": [
    "# Intercept\n",
    "print(f\"Intercept for Linear Regression is: {Linear_Reg_fit.intercept_}\")"
   ]
  },
  {
   "cell_type": "code",
   "execution_count": 52,
   "metadata": {},
   "outputs": [
    {
     "data": {
      "text/plain": [
       "196"
      ]
     },
     "execution_count": 52,
     "metadata": {},
     "output_type": "execute_result"
    }
   ],
   "source": [
    "#Beta Coefficients \n",
    "len(Linear_Reg_fit.coef_)"
   ]
  },
  {
   "cell_type": "markdown",
   "metadata": {},
   "source": [
    "#### Metrics to check Model Performance"
   ]
  },
  {
   "cell_type": "code",
   "execution_count": 53,
   "metadata": {},
   "outputs": [
    {
     "name": "stdout",
     "output_type": "stream",
     "text": [
      "RSS for Linear Reg. is: 210.33799552275474\n",
      "MSE for Linear Reg. is: 1.7455312102733744\n",
      "RMSE for Linear Reg. is: 1.3211855321162786\n"
     ]
    }
   ],
   "source": [
    "#RSS (Residual Sum of Square)\n",
    "RSS=np.sum(np.square(y_test, y_test_pred))\n",
    "\n",
    "#MSE (Mean Squared Error)\n",
    "from sklearn.metrics import mean_squared_error\n",
    "MSE=mean_squared_error(y_test, y_test_pred)\n",
    "\n",
    "#RMSE\n",
    "RMSE=MSE**0.5\n",
    "\n",
    "print(f\"RSS for Linear Reg. is: {RSS}\")\n",
    "print(f\"MSE for Linear Reg. is: {MSE}\")\n",
    "print(f\"RMSE for Linear Reg. is: {RMSE}\")"
   ]
  },
  {
   "cell_type": "markdown",
   "metadata": {},
   "source": [
    "### Residual Analysis"
   ]
  },
  {
   "cell_type": "code",
   "execution_count": 54,
   "metadata": {},
   "outputs": [
    {
     "data": {
      "text/plain": [
       "Text(0, 0.5, 'Residuals')"
      ]
     },
     "execution_count": 54,
     "metadata": {},
     "output_type": "execute_result"
    },
    {
     "data": {
      "image/png": "[encoded data removed]",
      "text/plain": [
       "<Figure size 432x288 with 1 Axes>"
      ]
     },
     "metadata": {
      "needs_background": "light"
     },
     "output_type": "display_data"
    }
   ],
   "source": [
    "# 1. Residual Pattern\n",
    "Residual=y_test-y_test_pred\n",
    "plt.scatter(y_test_pred,Residual )\n",
    "plt.axhline(y=0,color='red',linestyle=\":\")\n",
    "plt.xlabel(\"Predicted Values\")\n",
    "plt.ylabel(\"Residuals\")\n"
   ]
  },
  {
   "cell_type": "code",
   "execution_count": 55,
   "metadata": {},
   "outputs": [
    {
     "data": {
      "image/png": "[encoded data removed]",
      "text/plain": [
       "<Figure size 432x288 with 1 Axes>"
      ]
     },
     "metadata": {
      "needs_background": "light"
     },
     "output_type": "display_data"
    }
   ],
   "source": [
    "# 2. Distribution of Error\n",
    "p=sns.distplot(Residual, kde=True)"
   ]
  },
  {
   "cell_type": "markdown",
   "metadata": {},
   "source": [
    "### Conclusion:   \n",
    "####            * Model has too many features so model will likely to Overfit\n",
    "####            * Residual Analysis: Model fails to meet 'Residual Assumption' "
   ]
  },
  {
   "cell_type": "markdown",
   "metadata": {},
   "source": [
    "### 1.(b) Linear Regression using RFE"
   ]
  },
  {
   "cell_type": "markdown",
   "metadata": {},
   "source": [
    "#### Feature selection using RFE"
   ]
  },
  {
   "cell_type": "code",
   "execution_count": 56,
   "metadata": {},
   "outputs": [],
   "source": [
    "#from mlxtend.feature_selection import SequentialFeatureSelector\n",
    "from sklearn.feature_selection import RFE\n",
    "#SFS=SequentialFeatureSelector\n",
    "\n",
    "rfe=RFE(Linear_Reg, n_features_to_select=20 , step=1)\n",
    "\n",
    "rfe.fit(X_train,y_train)\n",
    "\n",
    "rfe_features=rfe.ranking_.tolist()\n",
    "\n",
    "rfe_data= pd.DataFrame({'Features': X_train.columns, 'RFE_Bool':rfe_features })\n",
    "\n",
    "#Top 30 Features\n",
    "#RFE=train.iloc[sfs.ranking_]\n",
    "\n",
    "#RFE Column Name\n",
    "RFE_columns=train[rfe_data['Features'][rfe_data['RFE_Bool']==1]].columns"
   ]
  },
  {
   "cell_type": "markdown",
   "metadata": {},
   "source": [
    "### Linear Regression with RFE features"
   ]
  },
  {
   "cell_type": "markdown",
   "metadata": {},
   "source": [
    "#### Train Test Split with RFE features "
   ]
  },
  {
   "cell_type": "code",
   "execution_count": 57,
   "metadata": {},
   "outputs": [
    {
     "data": {
      "text/html": [
       "<div>\n",
       "<style scoped>\n",
       "    .dataframe tbody tr th:only-of-type {\n",
       "        vertical-align: middle;\n",
       "    }\n",
       "\n",
       "    .dataframe tbody tr th {\n",
       "        vertical-align: top;\n",
       "    }\n",
       "\n",
       "    .dataframe thead th {\n",
       "        text-align: right;\n",
       "    }\n",
       "</style>\n",
       "<table border=\"1\" class=\"dataframe\">\n",
       "  <thead>\n",
       "    <tr style=\"text-align: right;\">\n",
       "      <th></th>\n",
       "      <th>GrLivArea</th>\n",
       "      <th>Condition2_Others</th>\n",
       "      <th>BsmtQual_Fa</th>\n",
       "      <th>BsmtQual_Gd</th>\n",
       "      <th>BsmtQual_TA</th>\n",
       "      <th>BsmtCond_No Basement</th>\n",
       "      <th>BsmtExposure_Missing</th>\n",
       "      <th>BsmtFinType2_Missing</th>\n",
       "      <th>BsmtHalfBath_2</th>\n",
       "      <th>KitchenQual_Fa</th>\n",
       "      <th>KitchenQual_Gd</th>\n",
       "      <th>KitchenQual_TA</th>\n",
       "      <th>Fireplaces_2</th>\n",
       "      <th>Fireplaces_3</th>\n",
       "      <th>GarageCars_3</th>\n",
       "      <th>GarageCars_4</th>\n",
       "      <th>SaleType_Others</th>\n",
       "      <th>SaleType_WD</th>\n",
       "      <th>SaleCondition_AdjLand</th>\n",
       "      <th>SaleCondition_Partial</th>\n",
       "    </tr>\n",
       "  </thead>\n",
       "  <tbody>\n",
       "    <tr>\n",
       "      <th>0</th>\n",
       "      <td>0.380070</td>\n",
       "      <td>0</td>\n",
       "      <td>0</td>\n",
       "      <td>1</td>\n",
       "      <td>0</td>\n",
       "      <td>0</td>\n",
       "      <td>0</td>\n",
       "      <td>0</td>\n",
       "      <td>0</td>\n",
       "      <td>0</td>\n",
       "      <td>1</td>\n",
       "      <td>0</td>\n",
       "      <td>0</td>\n",
       "      <td>0</td>\n",
       "      <td>0</td>\n",
       "      <td>0</td>\n",
       "      <td>0</td>\n",
       "      <td>1</td>\n",
       "      <td>0</td>\n",
       "      <td>0</td>\n",
       "    </tr>\n",
       "    <tr>\n",
       "      <th>1</th>\n",
       "      <td>-0.312090</td>\n",
       "      <td>0</td>\n",
       "      <td>0</td>\n",
       "      <td>1</td>\n",
       "      <td>0</td>\n",
       "      <td>0</td>\n",
       "      <td>0</td>\n",
       "      <td>0</td>\n",
       "      <td>0</td>\n",
       "      <td>0</td>\n",
       "      <td>0</td>\n",
       "      <td>1</td>\n",
       "      <td>0</td>\n",
       "      <td>0</td>\n",
       "      <td>0</td>\n",
       "      <td>0</td>\n",
       "      <td>0</td>\n",
       "      <td>1</td>\n",
       "      <td>0</td>\n",
       "      <td>0</td>\n",
       "    </tr>\n",
       "    <tr>\n",
       "      <th>2</th>\n",
       "      <td>0.497489</td>\n",
       "      <td>0</td>\n",
       "      <td>0</td>\n",
       "      <td>1</td>\n",
       "      <td>0</td>\n",
       "      <td>0</td>\n",
       "      <td>0</td>\n",
       "      <td>0</td>\n",
       "      <td>0</td>\n",
       "      <td>0</td>\n",
       "      <td>1</td>\n",
       "      <td>0</td>\n",
       "      <td>0</td>\n",
       "      <td>0</td>\n",
       "      <td>0</td>\n",
       "      <td>0</td>\n",
       "      <td>0</td>\n",
       "      <td>1</td>\n",
       "      <td>0</td>\n",
       "      <td>0</td>\n",
       "    </tr>\n",
       "    <tr>\n",
       "      <th>3</th>\n",
       "      <td>0.390885</td>\n",
       "      <td>0</td>\n",
       "      <td>0</td>\n",
       "      <td>0</td>\n",
       "      <td>1</td>\n",
       "      <td>0</td>\n",
       "      <td>0</td>\n",
       "      <td>0</td>\n",
       "      <td>0</td>\n",
       "      <td>0</td>\n",
       "      <td>1</td>\n",
       "      <td>0</td>\n",
       "      <td>0</td>\n",
       "      <td>0</td>\n",
       "      <td>1</td>\n",
       "      <td>0</td>\n",
       "      <td>0</td>\n",
       "      <td>1</td>\n",
       "      <td>0</td>\n",
       "      <td>0</td>\n",
       "    </tr>\n",
       "    <tr>\n",
       "      <th>4</th>\n",
       "      <td>1.134029</td>\n",
       "      <td>0</td>\n",
       "      <td>0</td>\n",
       "      <td>1</td>\n",
       "      <td>0</td>\n",
       "      <td>0</td>\n",
       "      <td>0</td>\n",
       "      <td>0</td>\n",
       "      <td>0</td>\n",
       "      <td>0</td>\n",
       "      <td>1</td>\n",
       "      <td>0</td>\n",
       "      <td>0</td>\n",
       "      <td>0</td>\n",
       "      <td>1</td>\n",
       "      <td>0</td>\n",
       "      <td>0</td>\n",
       "      <td>1</td>\n",
       "      <td>0</td>\n",
       "      <td>0</td>\n",
       "    </tr>\n",
       "    <tr>\n",
       "      <th>...</th>\n",
       "      <td>...</td>\n",
       "      <td>...</td>\n",
       "      <td>...</td>\n",
       "      <td>...</td>\n",
       "      <td>...</td>\n",
       "      <td>...</td>\n",
       "      <td>...</td>\n",
       "      <td>...</td>\n",
       "      <td>...</td>\n",
       "      <td>...</td>\n",
       "      <td>...</td>\n",
       "      <td>...</td>\n",
       "      <td>...</td>\n",
       "      <td>...</td>\n",
       "      <td>...</td>\n",
       "      <td>...</td>\n",
       "      <td>...</td>\n",
       "      <td>...</td>\n",
       "      <td>...</td>\n",
       "      <td>...</td>\n",
       "    </tr>\n",
       "    <tr>\n",
       "      <th>1455</th>\n",
       "      <td>0.282735</td>\n",
       "      <td>0</td>\n",
       "      <td>0</td>\n",
       "      <td>1</td>\n",
       "      <td>0</td>\n",
       "      <td>0</td>\n",
       "      <td>0</td>\n",
       "      <td>0</td>\n",
       "      <td>0</td>\n",
       "      <td>0</td>\n",
       "      <td>0</td>\n",
       "      <td>1</td>\n",
       "      <td>0</td>\n",
       "      <td>0</td>\n",
       "      <td>0</td>\n",
       "      <td>0</td>\n",
       "      <td>0</td>\n",
       "      <td>1</td>\n",
       "      <td>0</td>\n",
       "      <td>0</td>\n",
       "    </tr>\n",
       "    <tr>\n",
       "      <th>1456</th>\n",
       "      <td>0.940904</td>\n",
       "      <td>0</td>\n",
       "      <td>0</td>\n",
       "      <td>1</td>\n",
       "      <td>0</td>\n",
       "      <td>0</td>\n",
       "      <td>0</td>\n",
       "      <td>0</td>\n",
       "      <td>0</td>\n",
       "      <td>0</td>\n",
       "      <td>0</td>\n",
       "      <td>1</td>\n",
       "      <td>1</td>\n",
       "      <td>0</td>\n",
       "      <td>0</td>\n",
       "      <td>0</td>\n",
       "      <td>0</td>\n",
       "      <td>1</td>\n",
       "      <td>0</td>\n",
       "      <td>0</td>\n",
       "    </tr>\n",
       "    <tr>\n",
       "      <th>1457</th>\n",
       "      <td>1.353418</td>\n",
       "      <td>0</td>\n",
       "      <td>0</td>\n",
       "      <td>0</td>\n",
       "      <td>1</td>\n",
       "      <td>0</td>\n",
       "      <td>0</td>\n",
       "      <td>0</td>\n",
       "      <td>0</td>\n",
       "      <td>0</td>\n",
       "      <td>1</td>\n",
       "      <td>0</td>\n",
       "      <td>1</td>\n",
       "      <td>0</td>\n",
       "      <td>0</td>\n",
       "      <td>0</td>\n",
       "      <td>0</td>\n",
       "      <td>1</td>\n",
       "      <td>0</td>\n",
       "      <td>0</td>\n",
       "    </tr>\n",
       "    <tr>\n",
       "      <th>1458</th>\n",
       "      <td>-0.596369</td>\n",
       "      <td>0</td>\n",
       "      <td>0</td>\n",
       "      <td>0</td>\n",
       "      <td>1</td>\n",
       "      <td>0</td>\n",
       "      <td>0</td>\n",
       "      <td>0</td>\n",
       "      <td>0</td>\n",
       "      <td>0</td>\n",
       "      <td>1</td>\n",
       "      <td>0</td>\n",
       "      <td>0</td>\n",
       "      <td>0</td>\n",
       "      <td>0</td>\n",
       "      <td>0</td>\n",
       "      <td>0</td>\n",
       "      <td>1</td>\n",
       "      <td>0</td>\n",
       "      <td>0</td>\n",
       "    </tr>\n",
       "    <tr>\n",
       "      <th>1459</th>\n",
       "      <td>-0.321360</td>\n",
       "      <td>0</td>\n",
       "      <td>0</td>\n",
       "      <td>0</td>\n",
       "      <td>1</td>\n",
       "      <td>0</td>\n",
       "      <td>0</td>\n",
       "      <td>0</td>\n",
       "      <td>0</td>\n",
       "      <td>0</td>\n",
       "      <td>0</td>\n",
       "      <td>1</td>\n",
       "      <td>0</td>\n",
       "      <td>0</td>\n",
       "      <td>0</td>\n",
       "      <td>0</td>\n",
       "      <td>0</td>\n",
       "      <td>1</td>\n",
       "      <td>0</td>\n",
       "      <td>0</td>\n",
       "    </tr>\n",
       "  </tbody>\n",
       "</table>\n",
       "<p>1460 rows × 20 columns</p>\n",
       "</div>"
      ],
      "text/plain": [
       "      GrLivArea  Condition2_Others  BsmtQual_Fa  BsmtQual_Gd  BsmtQual_TA  \\\n",
       "0      0.380070                  0            0            1            0   \n",
       "1     -0.312090                  0            0            1            0   \n",
       "2      0.497489                  0            0            1            0   \n",
       "3      0.390885                  0            0            0            1   \n",
       "4      1.134029                  0            0            1            0   \n",
       "...         ...                ...          ...          ...          ...   \n",
       "1455   0.282735                  0            0            1            0   \n",
       "1456   0.940904                  0            0            1            0   \n",
       "1457   1.353418                  0            0            0            1   \n",
       "1458  -0.596369                  0            0            0            1   \n",
       "1459  -0.321360                  0            0            0            1   \n",
       "\n",
       "      BsmtCond_No Basement  BsmtExposure_Missing  BsmtFinType2_Missing  \\\n",
       "0                        0                     0                     0   \n",
       "1                        0                     0                     0   \n",
       "2                        0                     0                     0   \n",
       "3                        0                     0                     0   \n",
       "4                        0                     0                     0   \n",
       "...                    ...                   ...                   ...   \n",
       "1455                     0                     0                     0   \n",
       "1456                     0                     0                     0   \n",
       "1457                     0                     0                     0   \n",
       "1458                     0                     0                     0   \n",
       "1459                     0                     0                     0   \n",
       "\n",
       "      BsmtHalfBath_2  KitchenQual_Fa  KitchenQual_Gd  KitchenQual_TA  \\\n",
       "0                  0               0               1               0   \n",
       "1                  0               0               0               1   \n",
       "2                  0               0               1               0   \n",
       "3                  0               0               1               0   \n",
       "4                  0               0               1               0   \n",
       "...              ...             ...             ...             ...   \n",
       "1455               0               0               0               1   \n",
       "1456               0               0               0               1   \n",
       "1457               0               0               1               0   \n",
       "1458               0               0               1               0   \n",
       "1459               0               0               0               1   \n",
       "\n",
       "      Fireplaces_2  Fireplaces_3  GarageCars_3  GarageCars_4  SaleType_Others  \\\n",
       "0                0             0             0             0                0   \n",
       "1                0             0             0             0                0   \n",
       "2                0             0             0             0                0   \n",
       "3                0             0             1             0                0   \n",
       "4                0             0             1             0                0   \n",
       "...            ...           ...           ...           ...              ...   \n",
       "1455             0             0             0             0                0   \n",
       "1456             1             0             0             0                0   \n",
       "1457             1             0             0             0                0   \n",
       "1458             0             0             0             0                0   \n",
       "1459             0             0             0             0                0   \n",
       "\n",
       "      SaleType_WD  SaleCondition_AdjLand  SaleCondition_Partial  \n",
       "0               1                      0                      0  \n",
       "1               1                      0                      0  \n",
       "2               1                      0                      0  \n",
       "3               1                      0                      0  \n",
       "4               1                      0                      0  \n",
       "...           ...                    ...                    ...  \n",
       "1455            1                      0                      0  \n",
       "1456            1                      0                      0  \n",
       "1457            1                      0                      0  \n",
       "1458            1                      0                      0  \n",
       "1459            1                      0                      0  \n",
       "\n",
       "[1460 rows x 20 columns]"
      ]
     },
     "execution_count": 57,
     "metadata": {},
     "output_type": "execute_result"
    }
   ],
   "source": [
    "train[RFE_columns]"
   ]
  },
  {
   "cell_type": "code",
   "execution_count": 58,
   "metadata": {},
   "outputs": [],
   "source": [
    "X_RFE=train[RFE_columns]\n",
    "y=train['SalePrice']\n",
    "\n",
    "X_train,X_test, y_train,y_test= train_test_split(X_RFE, y, test_size=0.2, random_state=99)"
   ]
  },
  {
   "cell_type": "code",
   "execution_count": 59,
   "metadata": {},
   "outputs": [
    {
     "data": {
      "text/plain": [
       "(1168, 20)"
      ]
     },
     "execution_count": 59,
     "metadata": {},
     "output_type": "execute_result"
    }
   ],
   "source": [
    "X_train.shape"
   ]
  },
  {
   "cell_type": "markdown",
   "metadata": {},
   "source": [
    "#### Linear Model with RFE Features"
   ]
  },
  {
   "cell_type": "code",
   "execution_count": 60,
   "metadata": {},
   "outputs": [],
   "source": [
    "lr=LinearRegression()\n",
    "lr_fit=lr.fit(X_train,y_train)"
   ]
  },
  {
   "cell_type": "code",
   "execution_count": 61,
   "metadata": {},
   "outputs": [
    {
     "data": {
      "text/plain": [
       "array([ 0.45429831, -0.4812225 , -1.03601194, -0.53490637, -0.86058351,\n",
       "       -0.39109174, -0.39109174, -0.39109174, -0.78790525, -1.05342535,\n",
       "       -0.50047271, -0.81732077,  0.44737147, -0.63661979,  0.56479286,\n",
       "        0.26993001, -0.83501062, -0.80129403,  0.28855732, -0.65576936])"
      ]
     },
     "execution_count": 61,
     "metadata": {},
     "output_type": "execute_result"
    }
   ],
   "source": [
    "lr_fit.coef_"
   ]
  },
  {
   "cell_type": "code",
   "execution_count": 62,
   "metadata": {},
   "outputs": [],
   "source": [
    "#Prediction-Train\n",
    "y_train_pred=lr_fit.predict(X_train)\n",
    "\n",
    "#Prediction-Test\n",
    "y_test_pred= lr_fit.predict(X_test)"
   ]
  },
  {
   "cell_type": "code",
   "execution_count": 63,
   "metadata": {},
   "outputs": [
    {
     "name": "stdout",
     "output_type": "stream",
     "text": [
      "R2 Score for Train data is:0.7864319919878301\n",
      "R2 Score for Train data is:0.7580393985514957\n"
     ]
    }
   ],
   "source": [
    "#R2 Score (Train)\n",
    "from sklearn.metrics import r2_score\n",
    "print(f\"R2 Score for Train data is:{r2_score(y_train, y_train_pred)}\")\n",
    "#print(r2_score(y_train, y_pred_train)      \n",
    "print(f\"R2 Score for Train data is:{r2_score(y_test, y_test_pred)}\")      "
   ]
  },
  {
   "cell_type": "code",
   "execution_count": 64,
   "metadata": {},
   "outputs": [
    {
     "name": "stdout",
     "output_type": "stream",
     "text": [
      "RSS for Linear Reg. is: 210.33799552275474\n",
      "MSE for Linear Reg. is: 1.7455312102733744\n",
      "RMSE for Linear Reg. is: 1.3211855321162786\n"
     ]
    }
   ],
   "source": [
    "#RSS (Residual Sum of Square)\n",
    "RSS=np.sum(np.square(y_test, y_test_pred))\n",
    "\n",
    "#MSE (Mean Squared Error)\n",
    "from sklearn.metrics import mean_squared_error\n",
    "MSE=mean_squared_error(y_test, y_test_pred)\n",
    "\n",
    "#RMSE\n",
    "RMSE=MSE**0.5\n",
    "\n",
    "print(f\"RSS for Linear Reg. is: {RSS}\")\n",
    "print(f\"MSE for Linear Reg. is: {MSE}\")\n",
    "print(f\"RMSE for Linear Reg. is: {RMSE}\")"
   ]
  },
  {
   "cell_type": "code",
   "execution_count": null,
   "metadata": {},
   "outputs": [],
   "source": []
  },
  {
   "cell_type": "markdown",
   "metadata": {},
   "source": [
    "## 2. Ridge Regression"
   ]
  },
  {
   "cell_type": "code",
   "execution_count": 65,
   "metadata": {},
   "outputs": [],
   "source": [
    "#Creating Train Test Split (withou RFE Data)\n",
    "X=train.drop(columns=['SalePrice'])\n",
    "y=train['SalePrice']\n",
    "\n",
    "from sklearn.model_selection import train_test_split\n",
    "X_train,X_test, y_train,y_test= train_test_split(X, y, test_size=0.2, random_state=99)\n"
   ]
  },
  {
   "cell_type": "code",
   "execution_count": 207,
   "metadata": {},
   "outputs": [
    {
     "data": {
      "text/html": [
       "<div>\n",
       "<style scoped>\n",
       "    .dataframe tbody tr th:only-of-type {\n",
       "        vertical-align: middle;\n",
       "    }\n",
       "\n",
       "    .dataframe tbody tr th {\n",
       "        vertical-align: top;\n",
       "    }\n",
       "\n",
       "    .dataframe thead th {\n",
       "        text-align: right;\n",
       "    }\n",
       "</style>\n",
       "<table border=\"1\" class=\"dataframe\">\n",
       "  <thead>\n",
       "    <tr style=\"text-align: right;\">\n",
       "      <th></th>\n",
       "      <th>LotFrontage</th>\n",
       "      <th>LotArea</th>\n",
       "      <th>YearBuilt</th>\n",
       "      <th>YearRemodAdd</th>\n",
       "      <th>MasVnrArea</th>\n",
       "      <th>TotalBsmtSF</th>\n",
       "      <th>GrLivArea</th>\n",
       "      <th>GarageYrBlt</th>\n",
       "      <th>GarageArea</th>\n",
       "      <th>WoodDeckSF</th>\n",
       "      <th>...</th>\n",
       "      <th>YrSold_2008</th>\n",
       "      <th>YrSold_2009</th>\n",
       "      <th>YrSold_2010</th>\n",
       "      <th>SaleType_Others</th>\n",
       "      <th>SaleType_WD</th>\n",
       "      <th>SaleCondition_AdjLand</th>\n",
       "      <th>SaleCondition_Alloca</th>\n",
       "      <th>SaleCondition_Family</th>\n",
       "      <th>SaleCondition_Normal</th>\n",
       "      <th>SaleCondition_Partial</th>\n",
       "    </tr>\n",
       "  </thead>\n",
       "  <tbody>\n",
       "    <tr>\n",
       "      <th>542</th>\n",
       "      <td>0.473684</td>\n",
       "      <td>0.163414</td>\n",
       "      <td>1998</td>\n",
       "      <td>1999</td>\n",
       "      <td>0.000000</td>\n",
       "      <td>1.310448</td>\n",
       "      <td>0.333720</td>\n",
       "      <td>1998.0</td>\n",
       "      <td>0.426501</td>\n",
       "      <td>0.464286</td>\n",
       "      <td>...</td>\n",
       "      <td>0</td>\n",
       "      <td>1</td>\n",
       "      <td>0</td>\n",
       "      <td>0</td>\n",
       "      <td>1</td>\n",
       "      <td>0</td>\n",
       "      <td>0</td>\n",
       "      <td>0</td>\n",
       "      <td>1</td>\n",
       "      <td>0</td>\n",
       "    </tr>\n",
       "    <tr>\n",
       "      <th>1406</th>\n",
       "      <td>0.052632</td>\n",
       "      <td>-0.255311</td>\n",
       "      <td>1972</td>\n",
       "      <td>2007</td>\n",
       "      <td>0.000000</td>\n",
       "      <td>-0.444776</td>\n",
       "      <td>-1.075319</td>\n",
       "      <td>1988.0</td>\n",
       "      <td>-0.347826</td>\n",
       "      <td>0.345238</td>\n",
       "      <td>...</td>\n",
       "      <td>0</td>\n",
       "      <td>1</td>\n",
       "      <td>0</td>\n",
       "      <td>0</td>\n",
       "      <td>1</td>\n",
       "      <td>0</td>\n",
       "      <td>0</td>\n",
       "      <td>0</td>\n",
       "      <td>1</td>\n",
       "      <td>0</td>\n",
       "    </tr>\n",
       "    <tr>\n",
       "      <th>338</th>\n",
       "      <td>1.157895</td>\n",
       "      <td>1.152792</td>\n",
       "      <td>1984</td>\n",
       "      <td>1998</td>\n",
       "      <td>0.000000</td>\n",
       "      <td>0.430846</td>\n",
       "      <td>0.242565</td>\n",
       "      <td>1984.0</td>\n",
       "      <td>-0.165631</td>\n",
       "      <td>0.642857</td>\n",
       "      <td>...</td>\n",
       "      <td>0</td>\n",
       "      <td>0</td>\n",
       "      <td>0</td>\n",
       "      <td>0</td>\n",
       "      <td>1</td>\n",
       "      <td>0</td>\n",
       "      <td>0</td>\n",
       "      <td>0</td>\n",
       "      <td>1</td>\n",
       "      <td>0</td>\n",
       "    </tr>\n",
       "    <tr>\n",
       "      <th>17</th>\n",
       "      <td>0.157895</td>\n",
       "      <td>0.324234</td>\n",
       "      <td>1967</td>\n",
       "      <td>1967</td>\n",
       "      <td>0.000000</td>\n",
       "      <td>-1.973134</td>\n",
       "      <td>-0.259560</td>\n",
       "      <td>1967.0</td>\n",
       "      <td>0.149068</td>\n",
       "      <td>0.000000</td>\n",
       "      <td>...</td>\n",
       "      <td>0</td>\n",
       "      <td>0</td>\n",
       "      <td>0</td>\n",
       "      <td>0</td>\n",
       "      <td>1</td>\n",
       "      <td>0</td>\n",
       "      <td>0</td>\n",
       "      <td>0</td>\n",
       "      <td>1</td>\n",
       "      <td>0</td>\n",
       "    </tr>\n",
       "    <tr>\n",
       "      <th>1313</th>\n",
       "      <td>2.052632</td>\n",
       "      <td>1.308177</td>\n",
       "      <td>1999</td>\n",
       "      <td>1999</td>\n",
       "      <td>1.004566</td>\n",
       "      <td>0.799005</td>\n",
       "      <td>1.753573</td>\n",
       "      <td>1999.0</td>\n",
       "      <td>1.238095</td>\n",
       "      <td>3.976190</td>\n",
       "      <td>...</td>\n",
       "      <td>0</td>\n",
       "      <td>0</td>\n",
       "      <td>1</td>\n",
       "      <td>0</td>\n",
       "      <td>1</td>\n",
       "      <td>0</td>\n",
       "      <td>0</td>\n",
       "      <td>0</td>\n",
       "      <td>1</td>\n",
       "      <td>0</td>\n",
       "    </tr>\n",
       "    <tr>\n",
       "      <th>...</th>\n",
       "      <td>...</td>\n",
       "      <td>...</td>\n",
       "      <td>...</td>\n",
       "      <td>...</td>\n",
       "      <td>...</td>\n",
       "      <td>...</td>\n",
       "      <td>...</td>\n",
       "      <td>...</td>\n",
       "      <td>...</td>\n",
       "      <td>...</td>\n",
       "      <td>...</td>\n",
       "      <td>...</td>\n",
       "      <td>...</td>\n",
       "      <td>...</td>\n",
       "      <td>...</td>\n",
       "      <td>...</td>\n",
       "      <td>...</td>\n",
       "      <td>...</td>\n",
       "      <td>...</td>\n",
       "      <td>...</td>\n",
       "      <td>...</td>\n",
       "    </tr>\n",
       "    <tr>\n",
       "      <th>1092</th>\n",
       "      <td>-0.473684</td>\n",
       "      <td>-0.266428</td>\n",
       "      <td>1925</td>\n",
       "      <td>1950</td>\n",
       "      <td>0.000000</td>\n",
       "      <td>0.377114</td>\n",
       "      <td>0.355350</td>\n",
       "      <td>1925.0</td>\n",
       "      <td>0.397516</td>\n",
       "      <td>2.035714</td>\n",
       "      <td>...</td>\n",
       "      <td>1</td>\n",
       "      <td>0</td>\n",
       "      <td>0</td>\n",
       "      <td>0</td>\n",
       "      <td>1</td>\n",
       "      <td>0</td>\n",
       "      <td>0</td>\n",
       "      <td>0</td>\n",
       "      <td>1</td>\n",
       "      <td>0</td>\n",
       "    </tr>\n",
       "    <tr>\n",
       "      <th>1192</th>\n",
       "      <td>-0.473684</td>\n",
       "      <td>0.030015</td>\n",
       "      <td>1925</td>\n",
       "      <td>1994</td>\n",
       "      <td>0.000000</td>\n",
       "      <td>-0.576119</td>\n",
       "      <td>0.012360</td>\n",
       "      <td>1925.0</td>\n",
       "      <td>-0.952381</td>\n",
       "      <td>0.000000</td>\n",
       "      <td>...</td>\n",
       "      <td>0</td>\n",
       "      <td>0</td>\n",
       "      <td>0</td>\n",
       "      <td>0</td>\n",
       "      <td>1</td>\n",
       "      <td>0</td>\n",
       "      <td>0</td>\n",
       "      <td>0</td>\n",
       "      <td>1</td>\n",
       "      <td>0</td>\n",
       "    </tr>\n",
       "    <tr>\n",
       "      <th>1209</th>\n",
       "      <td>0.842105</td>\n",
       "      <td>0.173790</td>\n",
       "      <td>2006</td>\n",
       "      <td>2006</td>\n",
       "      <td>2.557078</td>\n",
       "      <td>1.330348</td>\n",
       "      <td>0.302820</td>\n",
       "      <td>2006.0</td>\n",
       "      <td>0.082816</td>\n",
       "      <td>1.916667</td>\n",
       "      <td>...</td>\n",
       "      <td>0</td>\n",
       "      <td>0</td>\n",
       "      <td>0</td>\n",
       "      <td>0</td>\n",
       "      <td>0</td>\n",
       "      <td>0</td>\n",
       "      <td>0</td>\n",
       "      <td>0</td>\n",
       "      <td>0</td>\n",
       "      <td>1</td>\n",
       "    </tr>\n",
       "    <tr>\n",
       "      <th>1059</th>\n",
       "      <td>0.000000</td>\n",
       "      <td>0.443799</td>\n",
       "      <td>1932</td>\n",
       "      <td>1950</td>\n",
       "      <td>2.922374</td>\n",
       "      <td>-0.273632</td>\n",
       "      <td>0.814214</td>\n",
       "      <td>1977.0</td>\n",
       "      <td>-0.198758</td>\n",
       "      <td>0.000000</td>\n",
       "      <td>...</td>\n",
       "      <td>0</td>\n",
       "      <td>0</td>\n",
       "      <td>0</td>\n",
       "      <td>0</td>\n",
       "      <td>1</td>\n",
       "      <td>0</td>\n",
       "      <td>0</td>\n",
       "      <td>0</td>\n",
       "      <td>1</td>\n",
       "      <td>0</td>\n",
       "    </tr>\n",
       "    <tr>\n",
       "      <th>641</th>\n",
       "      <td>0.000000</td>\n",
       "      <td>-0.599926</td>\n",
       "      <td>2001</td>\n",
       "      <td>2001</td>\n",
       "      <td>0.000000</td>\n",
       "      <td>0.130348</td>\n",
       "      <td>0.718424</td>\n",
       "      <td>2001.0</td>\n",
       "      <td>0.703934</td>\n",
       "      <td>0.000000</td>\n",
       "      <td>...</td>\n",
       "      <td>0</td>\n",
       "      <td>0</td>\n",
       "      <td>0</td>\n",
       "      <td>0</td>\n",
       "      <td>1</td>\n",
       "      <td>0</td>\n",
       "      <td>0</td>\n",
       "      <td>0</td>\n",
       "      <td>1</td>\n",
       "      <td>0</td>\n",
       "    </tr>\n",
       "  </tbody>\n",
       "</table>\n",
       "<p>1168 rows × 196 columns</p>\n",
       "</div>"
      ],
      "text/plain": [
       "      LotFrontage   LotArea YearBuilt YearRemodAdd  MasVnrArea  TotalBsmtSF  \\\n",
       "542      0.473684  0.163414      1998         1999    0.000000     1.310448   \n",
       "1406     0.052632 -0.255311      1972         2007    0.000000    -0.444776   \n",
       "338      1.157895  1.152792      1984         1998    0.000000     0.430846   \n",
       "17       0.157895  0.324234      1967         1967    0.000000    -1.973134   \n",
       "1313     2.052632  1.308177      1999         1999    1.004566     0.799005   \n",
       "...           ...       ...       ...          ...         ...          ...   \n",
       "1092    -0.473684 -0.266428      1925         1950    0.000000     0.377114   \n",
       "1192    -0.473684  0.030015      1925         1994    0.000000    -0.576119   \n",
       "1209     0.842105  0.173790      2006         2006    2.557078     1.330348   \n",
       "1059     0.000000  0.443799      1932         1950    2.922374    -0.273632   \n",
       "641      0.000000 -0.599926      2001         2001    0.000000     0.130348   \n",
       "\n",
       "      GrLivArea  GarageYrBlt  GarageArea  WoodDeckSF  ...  YrSold_2008  \\\n",
       "542    0.333720       1998.0    0.426501    0.464286  ...            0   \n",
       "1406  -1.075319       1988.0   -0.347826    0.345238  ...            0   \n",
       "338    0.242565       1984.0   -0.165631    0.642857  ...            0   \n",
       "17    -0.259560       1967.0    0.149068    0.000000  ...            0   \n",
       "1313   1.753573       1999.0    1.238095    3.976190  ...            0   \n",
       "...         ...          ...         ...         ...  ...          ...   \n",
       "1092   0.355350       1925.0    0.397516    2.035714  ...            1   \n",
       "1192   0.012360       1925.0   -0.952381    0.000000  ...            0   \n",
       "1209   0.302820       2006.0    0.082816    1.916667  ...            0   \n",
       "1059   0.814214       1977.0   -0.198758    0.000000  ...            0   \n",
       "641    0.718424       2001.0    0.703934    0.000000  ...            0   \n",
       "\n",
       "      YrSold_2009  YrSold_2010  SaleType_Others  SaleType_WD  \\\n",
       "542             1            0                0            1   \n",
       "1406            1            0                0            1   \n",
       "338             0            0                0            1   \n",
       "17              0            0                0            1   \n",
       "1313            0            1                0            1   \n",
       "...           ...          ...              ...          ...   \n",
       "1092            0            0                0            1   \n",
       "1192            0            0                0            1   \n",
       "1209            0            0                0            0   \n",
       "1059            0            0                0            1   \n",
       "641             0            0                0            1   \n",
       "\n",
       "      SaleCondition_AdjLand  SaleCondition_Alloca  SaleCondition_Family  \\\n",
       "542                       0                     0                     0   \n",
       "1406                      0                     0                     0   \n",
       "338                       0                     0                     0   \n",
       "17                        0                     0                     0   \n",
       "1313                      0                     0                     0   \n",
       "...                     ...                   ...                   ...   \n",
       "1092                      0                     0                     0   \n",
       "1192                      0                     0                     0   \n",
       "1209                      0                     0                     0   \n",
       "1059                      0                     0                     0   \n",
       "641                       0                     0                     0   \n",
       "\n",
       "      SaleCondition_Normal  SaleCondition_Partial  \n",
       "542                      1                      0  \n",
       "1406                     1                      0  \n",
       "338                      1                      0  \n",
       "17                       1                      0  \n",
       "1313                     1                      0  \n",
       "...                    ...                    ...  \n",
       "1092                     1                      0  \n",
       "1192                     1                      0  \n",
       "1209                     0                      1  \n",
       "1059                     1                      0  \n",
       "641                      1                      0  \n",
       "\n",
       "[1168 rows x 196 columns]"
      ]
     },
     "execution_count": 207,
     "metadata": {},
     "output_type": "execute_result"
    }
   ],
   "source": [
    "X_train"
   ]
  },
  {
   "cell_type": "code",
   "execution_count": 66,
   "metadata": {},
   "outputs": [
    {
     "name": "stdout",
     "output_type": "stream",
     "text": [
      "Fitting 5 folds for each of 12 candidates, totalling 60 fits\n"
     ]
    },
    {
     "data": {
      "text/plain": [
       "GridSearchCV(cv=5, estimator=Ridge(),\n",
       "             param_grid={'alpha': [0.0001, 0.001, 0.01, 0.1, 1, 10, 50, 75, 100,\n",
       "                                   150, 175, 200]},\n",
       "             return_train_score=True, scoring='neg_mean_absolute_error',\n",
       "             verbose=1)"
      ]
     },
     "execution_count": 66,
     "metadata": {},
     "output_type": "execute_result"
    }
   ],
   "source": [
    "# Hyper Parameter Tuning\n",
    "\n",
    "params= {'alpha': [0.0001, 0.001, 0.01, 0.1, 1, 10, 50, 75, 100, 150, 175,200]}\n",
    "\n",
    "from sklearn.linear_model import Ridge\n",
    "ridge=Ridge()\n",
    "\n",
    "#Cross validation\n",
    "folds=5\n",
    "\n",
    "from sklearn.model_selection import GridSearchCV\n",
    "model_cv=GridSearchCV(estimator=ridge, \n",
    "                      param_grid=params, \n",
    "                      scoring='neg_mean_absolute_error',\n",
    "                      cv=folds,\n",
    "                      return_train_score=True,\n",
    "                      verbose=1)\n",
    "    \n",
    "model_cv.fit(X_train, y_train)    "
   ]
  },
  {
   "cell_type": "code",
   "execution_count": 67,
   "metadata": {},
   "outputs": [
    {
     "name": "stdout",
     "output_type": "stream",
     "text": [
      "{'alpha': 50}\n"
     ]
    }
   ],
   "source": [
    "#Checki g for best parameter \n",
    "print(model_cv.best_params_)"
   ]
  },
  {
   "cell_type": "code",
   "execution_count": 68,
   "metadata": {},
   "outputs": [
    {
     "name": "stdout",
     "output_type": "stream",
     "text": [
      "Fitting 5 folds for each of 16 candidates, totalling 80 fits\n"
     ]
    },
    {
     "data": {
      "text/plain": [
       "GridSearchCV(cv=5, estimator=Ridge(),\n",
       "             param_grid={'alpha': [35, 40, 42, 43, 44, 45, 46, 47, 48, 49, 50,\n",
       "                                   51, 52, 55, 60, 65]},\n",
       "             return_train_score=True, scoring='neg_mean_absolute_error',\n",
       "             verbose=1)"
      ]
     },
     "execution_count": 68,
     "metadata": {},
     "output_type": "execute_result"
    }
   ],
   "source": [
    "# Hyper parametertuning again \n",
    "params={'alpha':[35,40,42,43,44,45,46,47,48,49,50,51,52,55,60,65]}\n",
    "#params= {'alpha': list(range(40,60))}\n",
    "\n",
    "from sklearn.linear_model import Ridge\n",
    "ridge=Ridge()\n",
    "\n",
    "#CV\n",
    "folds=5\n",
    "\n",
    "from sklearn.model_selection import GridSearchCV\n",
    "model_cv= GridSearchCV(estimator=ridge,\n",
    "                       param_grid=params,\n",
    "                       scoring='neg_mean_absolute_error',\n",
    "                       cv=folds,\n",
    "                       return_train_score=True,\n",
    "                       verbose=1\n",
    "                       )\n",
    "\n",
    "model_cv.fit(X_train, y_train)"
   ]
  },
  {
   "cell_type": "code",
   "execution_count": 69,
   "metadata": {},
   "outputs": [
    {
     "data": {
      "text/plain": [
       "{'alpha': 46}"
      ]
     },
     "execution_count": 69,
     "metadata": {},
     "output_type": "execute_result"
    }
   ],
   "source": [
    "#Best es\n",
    "model_cv.best_params_\n"
   ]
  },
  {
   "cell_type": "code",
   "execution_count": 70,
   "metadata": {},
   "outputs": [],
   "source": [
    "# Ridge Regression model with Lambda=53\n",
    "\n",
    "ridge_reg=Ridge(alpha=46)\n",
    "ridge_reg.fit=ridge_reg.fit(X_train, y_train)\n"
   ]
  },
  {
   "cell_type": "code",
   "execution_count": 71,
   "metadata": {},
   "outputs": [
    {
     "data": {
      "text/plain": [
       "array([-2.27456595e-02,  2.14276278e-02,  2.51364245e-03,  4.79400024e-03,\n",
       "        4.53849299e-02,  8.06492280e-02,  3.34264609e-01,  9.27199878e-05,\n",
       "        4.59775965e-02,  2.89372707e-02,  1.01686670e-02,  1.30717769e-04,\n",
       "        7.23533504e-04,  7.86621958e-04, -1.57486893e-04, -6.97858409e-06,\n",
       "       -2.87449869e-02, -1.01404626e-02, -1.58290376e-02,  4.16195821e-02,\n",
       "        6.92215151e-03,  2.69131275e-04, -9.95540024e-03, -5.38304335e-02,\n",
       "        3.78840493e-03,  6.14218899e-02, -2.28463652e-02,  4.65803633e-02,\n",
       "        4.36520610e-02, -5.78348694e-02, -1.53846228e-02,  8.58767780e-02,\n",
       "       -3.61649248e-02,  7.02932666e-02,  0.00000000e+00,  7.26509690e-02,\n",
       "       -3.75456218e-02, -2.99437401e-03, -2.12607921e-02,  4.06635973e-02,\n",
       "       -1.68042410e-02, -1.12102116e-01, -8.21540288e-04,  3.79482316e-03,\n",
       "        7.83730037e-02,  8.26668434e-02, -1.12333468e-01, -5.38649577e-02,\n",
       "       -1.06042935e-01,  1.67959992e-02,  1.02201653e-02, -2.75165841e-02,\n",
       "        3.31981395e-03, -5.81548053e-02, -6.14930278e-02, -3.02893009e-02,\n",
       "        1.01902652e-01,  2.08235896e-01,  5.25986917e-02,  5.95423241e-02,\n",
       "       -4.64059712e-02,  4.41258091e-02,  3.31212595e-02,  2.25787998e-03,\n",
       "        1.60610519e-02,  2.80485254e-02,  4.48816698e-03, -1.85667339e-02,\n",
       "        2.21628473e-03, -2.45050925e-03,  1.91639851e-02,  3.56996313e-02,\n",
       "       -2.78964548e-02, -8.51417641e-03,  7.30621683e-03, -1.01404626e-02,\n",
       "       -1.58290376e-02, -3.99315509e-02, -5.19104250e-02,  3.79363300e-03,\n",
       "       -1.33425847e-01, -1.95488429e-02, -8.10487860e-03, -2.90499229e-02,\n",
       "       -2.77691958e-02,  5.46015945e-02, -2.76893312e-02, -1.30935962e-01,\n",
       "       -2.70444755e-02, -1.25811345e-01,  3.82091073e-02, -2.70444755e-02,\n",
       "       -1.37992844e-02,  6.85654788e-02,  1.19103303e-01, -2.70444755e-02,\n",
       "       -2.16171175e-03, -8.02516454e-02, -9.70770222e-03,  7.69823371e-02,\n",
       "       -6.45710165e-03, -2.70444755e-02, -1.92349860e-03, -6.16791683e-02,\n",
       "       -2.84581813e-02, -3.18303075e-03,  1.20110849e-02, -2.70444755e-02,\n",
       "       -6.43506070e-03,  2.38634894e-02, -9.49009785e-03, -1.93413067e-02,\n",
       "       -3.47196994e-02,  9.21444925e-04, -4.07265699e-02,  4.90228709e-02,\n",
       "       -2.87449869e-02, -1.01404626e-02, -1.58290376e-02,  4.16195821e-02,\n",
       "        6.92215151e-03,  2.69131275e-04, -9.95540024e-03, -5.38304335e-02,\n",
       "        3.78840493e-03,  7.02659152e-02, -4.88685388e-02,  1.03169542e-02,\n",
       "        4.54011294e-02, -1.06991850e-02, -8.12314303e-02, -4.67509908e-02,\n",
       "        1.53395582e-01,  8.91437947e-02, -5.39497969e-03, -4.39008450e-02,\n",
       "        4.87640946e-02, -8.88691972e-02,  3.46485793e-02, -3.59197313e-02,\n",
       "       -6.62308794e-04, -5.20742276e-02, -1.35686364e-01, -1.57088693e-01,\n",
       "       -2.72632324e-02, -2.78610922e-02, -2.61282385e-02, -1.10799051e-02,\n",
       "        9.31511713e-03,  1.07743285e-01,  1.08064445e-01,  7.22338915e-03,\n",
       "        1.72670216e-01, -8.22988112e-02, -9.75947942e-02,  1.97498095e-02,\n",
       "       -1.68100216e-02, -1.72029301e-03, -6.13701627e-02, -3.82960932e-04,\n",
       "       -2.56032105e-02, -3.98719299e-02, -8.81969496e-02, -1.20392483e-01,\n",
       "        1.99626664e-01,  9.34572953e-03, -3.46250733e-02,  1.10107997e-02,\n",
       "       -2.42197024e-03,  2.01189975e-02, -2.05977253e-02,  2.13917085e-02,\n",
       "       -1.03371298e-02, -1.02246409e-02, -2.27469424e-02,  1.31523443e-02,\n",
       "        2.32495377e-02,  1.77848409e-02,  1.43325596e-03,  5.58966929e-02,\n",
       "       -1.28260758e-02,  1.98466894e-02, -4.91424652e-02,  3.14716971e-03,\n",
       "       -1.13133273e-02, -3.28832609e-03, -1.02286266e-02, -1.22354677e-02,\n",
       "        1.41081761e-02, -2.44480408e-02, -7.16586290e-02,  1.14567304e-02,\n",
       "        2.81066049e-02, -2.71333706e-02,  1.76324538e-02,  7.53342673e-02])"
      ]
     },
     "execution_count": 71,
     "metadata": {},
     "output_type": "execute_result"
    }
   ],
   "source": [
    "#Ridge Coefficients\n",
    "ridge_reg.fit.coef_\n"
   ]
  },
  {
   "cell_type": "code",
   "execution_count": 72,
   "metadata": {},
   "outputs": [
    {
     "data": {
      "text/plain": [
       "0                LotFrontage\n",
       "1                    LotArea\n",
       "2                  YearBuilt\n",
       "3               YearRemodAdd\n",
       "4                 MasVnrArea\n",
       "               ...          \n",
       "191    SaleCondition_AdjLand\n",
       "192     SaleCondition_Alloca\n",
       "193     SaleCondition_Family\n",
       "194     SaleCondition_Normal\n",
       "195    SaleCondition_Partial\n",
       "Name: Feature, Length: 196, dtype: object"
      ]
     },
     "execution_count": 72,
     "metadata": {},
     "output_type": "execute_result"
    }
   ],
   "source": [
    "#Ridge Estimates with Feature names\n",
    "\n",
    "ridge_estimates=ridge_reg.fit.coef_.tolist()\n",
    "features=X_train.columns\n",
    "\n",
    "#Ridge_Feature_Estimates\n",
    "Ridge_Coeff=pd.DataFrame({'Feature': features,'Estimates': ridge_estimates})\n",
    "\n",
    "#creating new column of estimates, (to remove -ve sign) \n",
    "#Ridge_Coeff['Estimates_New']= np.square(ridge_estimates)**0.5\n",
    "\n",
    "\n",
    "Ridge_Coeff.sort_values(by='Estimates', ascending=False)\n",
    "\n",
    "Ridge_Coeff['Feature']"
   ]
  },
  {
   "cell_type": "code",
   "execution_count": 73,
   "metadata": {},
   "outputs": [],
   "source": [
    "#Prediction on Train data\n",
    "y_train_pred=ridge_reg.fit.predict(X_train)\n",
    "\n",
    "\n",
    "#Prediction on Train data\n",
    "y_test_pred=ridge_reg.fit.predict(X_test)\n"
   ]
  },
  {
   "cell_type": "code",
   "execution_count": 74,
   "metadata": {},
   "outputs": [
    {
     "name": "stdout",
     "output_type": "stream",
     "text": [
      "R2 Score for Ridge Regression on Train data is:0.8603388015401633\n",
      "R2 Score for Ridge Regression on Test data is:0.8769676663552533\n"
     ]
    }
   ],
   "source": [
    "# R2 Score\n",
    "print(f\"R2 Score for Ridge Regression on Train data is:{r2_score(y_train, y_train_pred)}\")\n",
    "print(f\"R2 Score for Ridge Regression on Test data is:{r2_score(y_test, y_test_pred)}\")"
   ]
  },
  {
   "cell_type": "markdown",
   "metadata": {},
   "source": [
    "#### Metrics to check Model Performance"
   ]
  },
  {
   "cell_type": "code",
   "execution_count": 75,
   "metadata": {},
   "outputs": [
    {
     "name": "stdout",
     "output_type": "stream",
     "text": [
      "RSS for Ridge Reg. is: 193.10750442722028\n",
      "RSS for Ridge Reg. is: 0.08597782786637777\n",
      "RSS for Ridge Reg. is: 0.2932197603613675\n"
     ]
    }
   ],
   "source": [
    "#RSS\n",
    "RSS= np.square(np.sum(y_test-y_test_pred))\n",
    "#MSE\n",
    "MSE=mean_squared_error(y_test,y_test_pred)\n",
    "#RMSE\n",
    "RMSE=MSE**0.5\n",
    "\n",
    "print(f\"RSS for Ridge Reg. is: {RSS}\")\n",
    "print(f\"RSS for Ridge Reg. is: {MSE}\")\n",
    "print(f\"RSS for Ridge Reg. is: {RMSE}\")"
   ]
  },
  {
   "cell_type": "markdown",
   "metadata": {},
   "source": [
    "#### Residual Analysis"
   ]
  },
  {
   "cell_type": "code",
   "execution_count": 76,
   "metadata": {},
   "outputs": [
    {
     "data": {
      "text/plain": [
       "Text(0, 0.5, 'Residuals')"
      ]
     },
     "execution_count": 76,
     "metadata": {},
     "output_type": "execute_result"
    },
    {
     "data": {
      "image/png": "[encoded data removed]",
      "text/plain": [
       "<Figure size 432x288 with 1 Axes>"
      ]
     },
     "metadata": {
      "needs_background": "light"
     },
     "output_type": "display_data"
    }
   ],
   "source": [
    "# 1. Residual Pattern\n",
    "\n",
    "Residual=y_test-y_test_pred\n",
    "plt.scatter(y_test_pred, Residual)\n",
    "plt.axhline(y=0, color='red', linestyle=\":\")\n",
    "plt.xlabel('Predicted values')\n",
    "plt.ylabel('Residuals')"
   ]
  },
  {
   "cell_type": "code",
   "execution_count": 77,
   "metadata": {},
   "outputs": [
    {
     "data": {
      "text/plain": [
       "<matplotlib.axes._subplots.AxesSubplot at 0x2b9eb2efd88>"
      ]
     },
     "execution_count": 77,
     "metadata": {},
     "output_type": "execute_result"
    },
    {
     "data": {
      "image/png": "[encoded data removed]",
      "text/plain": [
       "<Figure size 432x288 with 1 Axes>"
      ]
     },
     "metadata": {
      "needs_background": "light"
     },
     "output_type": "display_data"
    }
   ],
   "source": [
    "# 2. Residual Pattern\n",
    "sns.distplot(Residual, kde=True)"
   ]
  },
  {
   "cell_type": "markdown",
   "metadata": {},
   "source": [
    "### Conclusion:   \n",
    "####            * Model has still too many features\n",
    "####            * Residual Analysis: Model somehow  meet 'Residual Assumption' "
   ]
  },
  {
   "cell_type": "markdown",
   "metadata": {},
   "source": [
    "## 2b. Ridge with RFE"
   ]
  },
  {
   "cell_type": "code",
   "execution_count": 105,
   "metadata": {},
   "outputs": [],
   "source": [
    "#Train Test split \n",
    "\n",
    "X=train.drop(columns=['SalePrice'])\n",
    "y=train['SalePrice']\n",
    "\n",
    "from sklearn.model_selection import train_test_split\n",
    "X_train,X_test, y_train,y_test= train_test_split(X, y, test_size=0.2, random_state=99)\n"
   ]
  },
  {
   "cell_type": "code",
   "execution_count": 106,
   "metadata": {},
   "outputs": [],
   "source": [
    "# RFE\n",
    "#from mlxtend.feature_selection import SequentialFeatureSelector\n",
    "from sklearn.feature_selection import RFE\n",
    "#SFS=SequentialFeatureSelector\n",
    "\n",
    "rfe=RFE(ridge_reg, n_features_to_select=20 , step=1)\n",
    "\n",
    "rfe.fit(X_train,y_train)\n",
    "\n",
    "rfe_features=rfe.ranking_.tolist()\n",
    "\n",
    "rfe_data= pd.DataFrame({'Features': X_train.columns, 'RFE_Bool':rfe_features })\n",
    "\n",
    "#Top 30 Features\n",
    "#RFE=train.iloc[sfs.ranking_]\n",
    "\n",
    "#RFE Column Name\n",
    "RFE_columns=train[rfe_data['Features'][rfe_data['RFE_Bool']==1]].columns"
   ]
  },
  {
   "cell_type": "code",
   "execution_count": 107,
   "metadata": {},
   "outputs": [],
   "source": [
    "X_RFE=train[RFE_columns]\n",
    "y=train['SalePrice']\n",
    "\n",
    "X_train,X_test, y_train,y_test= train_test_split(X_RFE, y, test_size=0.2, random_state=99)"
   ]
  },
  {
   "cell_type": "code",
   "execution_count": 108,
   "metadata": {},
   "outputs": [
    {
     "name": "stdout",
     "output_type": "stream",
     "text": [
      "Fitting 5 folds for each of 12 candidates, totalling 60 fits\n"
     ]
    },
    {
     "data": {
      "text/plain": [
       "GridSearchCV(cv=5, estimator=Ridge(),\n",
       "             param_grid={'alpha': [0.0001, 0.001, 0.01, 0.1, 1, 10, 50, 75, 100,\n",
       "                                   150, 175, 200]},\n",
       "             return_train_score=True, scoring='neg_mean_absolute_error',\n",
       "             verbose=1)"
      ]
     },
     "execution_count": 108,
     "metadata": {},
     "output_type": "execute_result"
    }
   ],
   "source": [
    "# Hyper Parameter Tuning\n",
    "\n",
    "params= {'alpha': [0.0001, 0.001, 0.01, 0.1, 1, 10, 50, 75, 100, 150, 175,200]}\n",
    "\n",
    "from sklearn.linear_model import Ridge\n",
    "ridge=Ridge()\n",
    "\n",
    "#Cross validation\n",
    "folds=5\n",
    "\n",
    "from sklearn.model_selection import GridSearchCV\n",
    "model_cv=GridSearchCV(estimator=ridge, \n",
    "                      param_grid=params, \n",
    "                      scoring='neg_mean_absolute_error',\n",
    "                      cv=folds,\n",
    "                      return_train_score=True,\n",
    "                      verbose=1)\n",
    "    \n",
    "model_cv.fit(X_train, y_train)    "
   ]
  },
  {
   "cell_type": "code",
   "execution_count": 109,
   "metadata": {},
   "outputs": [
    {
     "name": "stdout",
     "output_type": "stream",
     "text": [
      "{'alpha': 50}\n"
     ]
    }
   ],
   "source": [
    "#Checki g for best parameter \n",
    "print(model_cv.best_params_)"
   ]
  },
  {
   "cell_type": "code",
   "execution_count": 110,
   "metadata": {},
   "outputs": [
    {
     "name": "stdout",
     "output_type": "stream",
     "text": [
      "Fitting 5 folds for each of 16 candidates, totalling 80 fits\n"
     ]
    },
    {
     "data": {
      "text/plain": [
       "GridSearchCV(cv=5, estimator=Ridge(),\n",
       "             param_grid={'alpha': [35, 40, 42, 43, 44, 45, 46, 47, 48, 49, 50,\n",
       "                                   51, 52, 55, 60, 65]},\n",
       "             return_train_score=True, scoring='neg_mean_absolute_error',\n",
       "             verbose=1)"
      ]
     },
     "execution_count": 110,
     "metadata": {},
     "output_type": "execute_result"
    }
   ],
   "source": [
    "# Hyper parametertuning again \n",
    "params={'alpha':[35,40,42,43,44,45,46,47,48,49,50,51,52,55,60,65]}\n",
    "#params= {'alpha': list(range(40,60))}\n",
    "\n",
    "from sklearn.linear_model import Ridge\n",
    "ridge=Ridge()\n",
    "\n",
    "#CV\n",
    "folds=5\n",
    "\n",
    "from sklearn.model_selection import GridSearchCV\n",
    "model_cv= GridSearchCV(estimator=ridge,\n",
    "                       param_grid=params,\n",
    "                       scoring='neg_mean_absolute_error',\n",
    "                       cv=folds,\n",
    "                       return_train_score=True,\n",
    "                       verbose=1\n",
    "                       )\n",
    "\n",
    "model_cv.fit(X_train, y_train)"
   ]
  },
  {
   "cell_type": "code",
   "execution_count": 111,
   "metadata": {},
   "outputs": [
    {
     "name": "stdout",
     "output_type": "stream",
     "text": [
      "{'alpha': 35}\n"
     ]
    }
   ],
   "source": [
    "#Checki g for best parameter \n",
    "print(model_cv.best_params_)"
   ]
  },
  {
   "cell_type": "code",
   "execution_count": 117,
   "metadata": {},
   "outputs": [],
   "source": [
    "# Ridge Regression model with Lambda=53\n",
    "\n",
    "ridge_reg=Ridge(alpha=35*2)\n",
    "ridge_reg.fit=ridge_reg.fit(X_train, y_train)\n"
   ]
  },
  {
   "cell_type": "code",
   "execution_count": 118,
   "metadata": {},
   "outputs": [
    {
     "data": {
      "text/plain": [
       "array([ 0.1787453 ,  0.39422359,  0.12631853, -0.12727883, -0.14728396,\n",
       "       -0.14280357,  0.14633818,  0.26908325, -0.19623482, -0.15283004,\n",
       "        0.1659964 ,  0.18560084,  0.15830381,  0.15888219, -0.13950534,\n",
       "        0.13565766,  0.16254794, -0.16126549,  0.34946786,  0.17576232])"
      ]
     },
     "execution_count": 118,
     "metadata": {},
     "output_type": "execute_result"
    }
   ],
   "source": [
    "ridge_reg.coef_"
   ]
  },
  {
   "cell_type": "code",
   "execution_count": 119,
   "metadata": {},
   "outputs": [
    {
     "data": {
      "text/html": [
       "<div>\n",
       "<style scoped>\n",
       "    .dataframe tbody tr th:only-of-type {\n",
       "        vertical-align: middle;\n",
       "    }\n",
       "\n",
       "    .dataframe tbody tr th {\n",
       "        vertical-align: top;\n",
       "    }\n",
       "\n",
       "    .dataframe thead th {\n",
       "        text-align: right;\n",
       "    }\n",
       "</style>\n",
       "<table border=\"1\" class=\"dataframe\">\n",
       "  <thead>\n",
       "    <tr style=\"text-align: right;\">\n",
       "      <th></th>\n",
       "      <th>Feature</th>\n",
       "      <th>Estimates</th>\n",
       "    </tr>\n",
       "  </thead>\n",
       "  <tbody>\n",
       "    <tr>\n",
       "      <th>1</th>\n",
       "      <td>GrLivArea</td>\n",
       "      <td>0.394224</td>\n",
       "    </tr>\n",
       "    <tr>\n",
       "      <th>18</th>\n",
       "      <td>GarageCars_3</td>\n",
       "      <td>0.349468</td>\n",
       "    </tr>\n",
       "    <tr>\n",
       "      <th>7</th>\n",
       "      <td>OverallQual_Others</td>\n",
       "      <td>0.269083</td>\n",
       "    </tr>\n",
       "    <tr>\n",
       "      <th>11</th>\n",
       "      <td>BsmtFinType1_GLQ</td>\n",
       "      <td>0.185601</td>\n",
       "    </tr>\n",
       "    <tr>\n",
       "      <th>0</th>\n",
       "      <td>TotalBsmtSF</td>\n",
       "      <td>0.178745</td>\n",
       "    </tr>\n",
       "    <tr>\n",
       "      <th>19</th>\n",
       "      <td>SaleCondition_Partial</td>\n",
       "      <td>0.175762</td>\n",
       "    </tr>\n",
       "    <tr>\n",
       "      <th>10</th>\n",
       "      <td>BsmtExposure_Gd</td>\n",
       "      <td>0.165996</td>\n",
       "    </tr>\n",
       "    <tr>\n",
       "      <th>16</th>\n",
       "      <td>Fireplaces_2</td>\n",
       "      <td>0.162548</td>\n",
       "    </tr>\n",
       "    <tr>\n",
       "      <th>13</th>\n",
       "      <td>FullBath_3</td>\n",
       "      <td>0.158882</td>\n",
       "    </tr>\n",
       "    <tr>\n",
       "      <th>12</th>\n",
       "      <td>CentralAir_Y</td>\n",
       "      <td>0.158304</td>\n",
       "    </tr>\n",
       "    <tr>\n",
       "      <th>6</th>\n",
       "      <td>OverallQual_8</td>\n",
       "      <td>0.146338</td>\n",
       "    </tr>\n",
       "    <tr>\n",
       "      <th>15</th>\n",
       "      <td>Functional_Typ</td>\n",
       "      <td>0.135658</td>\n",
       "    </tr>\n",
       "    <tr>\n",
       "      <th>2</th>\n",
       "      <td>LotConfig_CulDSac</td>\n",
       "      <td>0.126319</td>\n",
       "    </tr>\n",
       "    <tr>\n",
       "      <th>3</th>\n",
       "      <td>Neighborhood_Edwards</td>\n",
       "      <td>-0.127279</td>\n",
       "    </tr>\n",
       "    <tr>\n",
       "      <th>14</th>\n",
       "      <td>KitchenQual_TA</td>\n",
       "      <td>-0.139505</td>\n",
       "    </tr>\n",
       "    <tr>\n",
       "      <th>5</th>\n",
       "      <td>BldgType_Others</td>\n",
       "      <td>-0.142804</td>\n",
       "    </tr>\n",
       "    <tr>\n",
       "      <th>4</th>\n",
       "      <td>Condition1_Others</td>\n",
       "      <td>-0.147284</td>\n",
       "    </tr>\n",
       "    <tr>\n",
       "      <th>9</th>\n",
       "      <td>BsmtQual_TA</td>\n",
       "      <td>-0.152830</td>\n",
       "    </tr>\n",
       "    <tr>\n",
       "      <th>17</th>\n",
       "      <td>FireplaceQu_No Fireplace</td>\n",
       "      <td>-0.161265</td>\n",
       "    </tr>\n",
       "    <tr>\n",
       "      <th>8</th>\n",
       "      <td>ExterQual_TA</td>\n",
       "      <td>-0.196235</td>\n",
       "    </tr>\n",
       "  </tbody>\n",
       "</table>\n",
       "</div>"
      ],
      "text/plain": [
       "                     Feature  Estimates\n",
       "1                  GrLivArea   0.394224\n",
       "18              GarageCars_3   0.349468\n",
       "7         OverallQual_Others   0.269083\n",
       "11          BsmtFinType1_GLQ   0.185601\n",
       "0                TotalBsmtSF   0.178745\n",
       "19     SaleCondition_Partial   0.175762\n",
       "10           BsmtExposure_Gd   0.165996\n",
       "16              Fireplaces_2   0.162548\n",
       "13                FullBath_3   0.158882\n",
       "12              CentralAir_Y   0.158304\n",
       "6              OverallQual_8   0.146338\n",
       "15            Functional_Typ   0.135658\n",
       "2          LotConfig_CulDSac   0.126319\n",
       "3       Neighborhood_Edwards  -0.127279\n",
       "14            KitchenQual_TA  -0.139505\n",
       "5            BldgType_Others  -0.142804\n",
       "4          Condition1_Others  -0.147284\n",
       "9                BsmtQual_TA  -0.152830\n",
       "17  FireplaceQu_No Fireplace  -0.161265\n",
       "8               ExterQual_TA  -0.196235"
      ]
     },
     "execution_count": 119,
     "metadata": {},
     "output_type": "execute_result"
    }
   ],
   "source": [
    "#Ridge Estimates with Feature names\n",
    "\n",
    "ridge_estimates=ridge_reg.fit.coef_.tolist()\n",
    "features=X_train.columns\n",
    "\n",
    "#Ridge_Feature_Estimates\n",
    "Ridge_Coeff=pd.DataFrame({'Feature': features,'Estimates': ridge_estimates})\n",
    "\n",
    "#creating new column of estimates, (to remove -ve sign) \n",
    "#Ridge_Coeff['Estimates_New']= np.square(ridge_estimates)**0.5\n",
    "\n",
    "\n",
    "Ridge_Coeff.sort_values(by='Estimates', ascending=False)"
   ]
  },
  {
   "cell_type": "code",
   "execution_count": 120,
   "metadata": {},
   "outputs": [],
   "source": [
    "#Prediction on Train data\n",
    "y_train_pred=ridge_reg.fit.predict(X_train)\n",
    "\n",
    "\n",
    "#Prediction on Train data\n",
    "y_test_pred=ridge_reg.fit.predict(X_test)\n"
   ]
  },
  {
   "cell_type": "code",
   "execution_count": 121,
   "metadata": {},
   "outputs": [
    {
     "name": "stdout",
     "output_type": "stream",
     "text": [
      "R2 Score for Ridge Regression on Train data is:0.8050653670212161\n",
      "R2 Score for Ridge Regression on Test data is:0.834536006408126\n"
     ]
    }
   ],
   "source": [
    "# R2 Score\n",
    "print(f\"R2 Score for Ridge Regression on Train data is:{r2_score(y_train, y_train_pred)}\")\n",
    "print(f\"R2 Score for Ridge Regression on Test data is:{r2_score(y_test, y_test_pred)}\")"
   ]
  },
  {
   "cell_type": "markdown",
   "metadata": {},
   "source": [
    "#### Metric to check Model Peformance"
   ]
  },
  {
   "cell_type": "code",
   "execution_count": 122,
   "metadata": {},
   "outputs": [
    {
     "name": "stdout",
     "output_type": "stream",
     "text": [
      "RSS for Ridge Reg. is: 210.5363539764754\n",
      "RSS for Ridge Reg. is: 0.1156300489284672\n",
      "RSS for Ridge Reg. is: 0.340044186729412\n"
     ]
    }
   ],
   "source": [
    "#RSS\n",
    "RSS= np.square(np.sum(y_test-y_test_pred))\n",
    "#MSE\n",
    "MSE=mean_squared_error(y_test,y_test_pred)\n",
    "#RMSE\n",
    "RMSE=MSE**0.5\n",
    "\n",
    "print(f\"RSS for Ridge Reg. is: {RSS}\")\n",
    "print(f\"RSS for Ridge Reg. is: {MSE}\")\n",
    "print(f\"RSS for Ridge Reg. is: {RMSE}\")"
   ]
  },
  {
   "cell_type": "code",
   "execution_count": null,
   "metadata": {},
   "outputs": [],
   "source": []
  },
  {
   "cell_type": "markdown",
   "metadata": {},
   "source": [
    "### 3. Lasso Regression"
   ]
  },
  {
   "cell_type": "code",
   "execution_count": 123,
   "metadata": {},
   "outputs": [],
   "source": [
    "X=train.drop(columns=['SalePrice'])\n",
    "y=train['SalePrice']\n",
    "\n",
    "from sklearn.model_selection import train_test_split\n",
    "X_train,X_test, y_train,y_test= train_test_split(X, y, test_size=0.2, random_state=99)\n"
   ]
  },
  {
   "cell_type": "code",
   "execution_count": 124,
   "metadata": {},
   "outputs": [
    {
     "name": "stdout",
     "output_type": "stream",
     "text": [
      "Fitting 5 folds for each of 10 candidates, totalling 50 fits\n"
     ]
    },
    {
     "data": {
      "text/plain": [
       "GridSearchCV(cv=5, estimator=Lasso(),\n",
       "             param_grid={'alpha': [0.0001, 0.001, 0.01, 0.1, 1, 10, 100, 150,\n",
       "                                   200, 500]},\n",
       "             return_train_score=True, scoring='neg_mean_absolute_error',\n",
       "             verbose=1)"
      ]
     },
     "execution_count": 124,
     "metadata": {},
     "output_type": "execute_result"
    }
   ],
   "source": [
    "# checking for hyperparameter\n",
    "params={'alpha': [0.0001, 0.001, 0.01, 0.1, 1, 10, 100,150,200,500]}\n",
    "\n",
    "from sklearn.linear_model import Ridge, Lasso\n",
    "\n",
    "lasso=Lasso()\n",
    "\n",
    "folds=5\n",
    "\n",
    "from sklearn.model_selection import GridSearchCV\n",
    "\n",
    "model_cv=GridSearchCV(estimator=lasso,\n",
    "                      param_grid=params,\n",
    "                      scoring='neg_mean_absolute_error',\n",
    "                      cv=folds,\n",
    "                      return_train_score=True,\n",
    "                      verbose=1)\n",
    "\n",
    "model_cv.fit(X_train, y_train)"
   ]
  },
  {
   "cell_type": "code",
   "execution_count": 125,
   "metadata": {},
   "outputs": [
    {
     "data": {
      "text/plain": [
       "{'alpha': 0.001}"
      ]
     },
     "execution_count": 125,
     "metadata": {},
     "output_type": "execute_result"
    }
   ],
   "source": [
    "#Best Params\n",
    "model_cv.best_params_"
   ]
  },
  {
   "cell_type": "code",
   "execution_count": 126,
   "metadata": {},
   "outputs": [
    {
     "name": "stdout",
     "output_type": "stream",
     "text": [
      "Fitting 5 folds for each of 10 candidates, totalling 50 fits\n"
     ]
    },
    {
     "data": {
      "text/plain": [
       "{'alpha': 0.004}"
      ]
     },
     "execution_count": 126,
     "metadata": {},
     "output_type": "execute_result"
    }
   ],
   "source": [
    "params= {'alpha':[.0006,.0007,.0008,.0009,.001,.002,.003,.004,.005,.006]}\n",
    "folds=5\n",
    "\n",
    "from sklearn.linear_model import Lasso\n",
    "lasso=Lasso()\n",
    "\n",
    "\n",
    "from sklearn.model_selection import GridSearchCV\n",
    "\n",
    "model_cv= GridSearchCV(estimator=lasso,\n",
    "                      param_grid=params,\n",
    "                      scoring='neg_mean_absolute_error',\n",
    "                      cv=folds,\n",
    "                      return_train_score=True,\n",
    "                      verbose=1)\n",
    "\n",
    "model_cv.fit(X_train, y_train)\n",
    "\n",
    "model_cv.best_params_"
   ]
  },
  {
   "cell_type": "code",
   "execution_count": 127,
   "metadata": {},
   "outputs": [
    {
     "data": {
      "text/plain": [
       "Lasso(alpha=0.004)"
      ]
     },
     "execution_count": 127,
     "metadata": {},
     "output_type": "execute_result"
    }
   ],
   "source": [
    "#Creating Lasso Regression with Best Parameter= 0.007 \n",
    "\n",
    "lasso_reg=Lasso(alpha=.004)\n",
    "lasso_reg.fit(X_train, y_train)"
   ]
  },
  {
   "cell_type": "code",
   "execution_count": 128,
   "metadata": {},
   "outputs": [
    {
     "data": {
      "text/plain": [
       "array([-2.40973550e-02,  1.75652085e-02,  3.23949344e-03,  5.07627971e-03,\n",
       "        2.95130932e-02,  8.64625873e-02,  3.98551112e-01,  7.71897144e-05,\n",
       "        0.00000000e+00,  2.61316549e-02,  0.00000000e+00,  1.34934552e-04,\n",
       "        7.04897021e-04,  8.21788419e-04, -2.58617539e-04, -9.50156075e-06,\n",
       "       -0.00000000e+00, -0.00000000e+00, -1.18030747e-03,  0.00000000e+00,\n",
       "        0.00000000e+00, -0.00000000e+00,  0.00000000e+00, -0.00000000e+00,\n",
       "        0.00000000e+00,  5.80134191e-02, -0.00000000e+00,  0.00000000e+00,\n",
       "        0.00000000e+00, -0.00000000e+00, -3.71525305e-03,  6.05298032e-02,\n",
       "       -0.00000000e+00,  4.63513699e-02,  0.00000000e+00,  8.60982670e-02,\n",
       "       -0.00000000e+00, -0.00000000e+00, -6.13271282e-03,  0.00000000e+00,\n",
       "       -0.00000000e+00, -1.35282741e-01,  0.00000000e+00, -0.00000000e+00,\n",
       "        5.47231364e-02,  7.15220018e-02, -1.31063872e-01, -0.00000000e+00,\n",
       "       -1.83978119e-01,  6.93977417e-03,  0.00000000e+00, -2.55416045e-02,\n",
       "        0.00000000e+00, -0.00000000e+00, -5.40561404e-03,  0.00000000e+00,\n",
       "        1.69661172e-01,  3.54428249e-01,  4.82381099e-02,  5.90128884e-02,\n",
       "       -2.14038351e-02,  2.34532205e-02,  0.00000000e+00,  0.00000000e+00,\n",
       "        0.00000000e+00,  0.00000000e+00, -0.00000000e+00, -2.62753844e-02,\n",
       "        0.00000000e+00, -0.00000000e+00,  0.00000000e+00,  0.00000000e+00,\n",
       "       -0.00000000e+00, -0.00000000e+00,  0.00000000e+00, -0.00000000e+00,\n",
       "       -0.00000000e+00, -0.00000000e+00, -0.00000000e+00,  0.00000000e+00,\n",
       "       -1.39255667e-01, -0.00000000e+00, -0.00000000e+00, -0.00000000e+00,\n",
       "       -0.00000000e+00,  6.07147761e-02, -0.00000000e+00, -1.13311949e-01,\n",
       "       -0.00000000e+00, -1.10402127e-01,  0.00000000e+00, -0.00000000e+00,\n",
       "       -0.00000000e+00,  6.10306672e-02,  1.34956381e-01, -0.00000000e+00,\n",
       "        0.00000000e+00, -5.58823197e-02, -0.00000000e+00,  7.30769894e-02,\n",
       "       -0.00000000e+00, -0.00000000e+00,  0.00000000e+00, -5.48409626e-02,\n",
       "       -0.00000000e+00,  0.00000000e+00,  0.00000000e+00, -0.00000000e+00,\n",
       "       -0.00000000e+00,  1.11152384e-02, -0.00000000e+00, -0.00000000e+00,\n",
       "       -0.00000000e+00,  0.00000000e+00, -1.01933901e-02,  1.11319723e-02,\n",
       "       -0.00000000e+00, -0.00000000e+00, -1.02122296e-03,  0.00000000e+00,\n",
       "        0.00000000e+00, -0.00000000e+00,  0.00000000e+00, -0.00000000e+00,\n",
       "        0.00000000e+00,  8.17682913e-02, -0.00000000e+00,  0.00000000e+00,\n",
       "        4.92396432e-03, -0.00000000e+00, -0.00000000e+00, -0.00000000e+00,\n",
       "        2.64929034e-01,  3.67953154e-02, -0.00000000e+00, -3.64419192e-02,\n",
       "        1.39585446e-02, -5.60594345e-02,  0.00000000e+00, -0.00000000e+00,\n",
       "        0.00000000e+00, -2.29927133e-02, -1.41247436e-01, -1.69911319e-01,\n",
       "       -0.00000000e+00, -0.00000000e+00, -0.00000000e+00, -0.00000000e+00,\n",
       "        0.00000000e+00,  4.29628092e-02,  1.65594930e-01,  0.00000000e+00,\n",
       "        2.14441005e-01, -0.00000000e+00, -9.54235028e-02,  0.00000000e+00,\n",
       "       -4.94837386e-03,  0.00000000e+00, -4.62055785e-02,  0.00000000e+00,\n",
       "       -0.00000000e+00, -1.66084862e-02, -4.33961441e-03, -0.00000000e+00,\n",
       "        3.98929860e-01,  0.00000000e+00, -0.00000000e+00,  0.00000000e+00,\n",
       "       -0.00000000e+00,  0.00000000e+00, -0.00000000e+00,  0.00000000e+00,\n",
       "       -0.00000000e+00, -0.00000000e+00, -0.00000000e+00,  0.00000000e+00,\n",
       "        0.00000000e+00,  0.00000000e+00,  0.00000000e+00,  2.38781092e-02,\n",
       "       -0.00000000e+00,  0.00000000e+00, -2.44048912e-02, -0.00000000e+00,\n",
       "       -0.00000000e+00,  0.00000000e+00, -0.00000000e+00, -4.26355319e-03,\n",
       "        0.00000000e+00, -0.00000000e+00, -3.13667341e-02,  0.00000000e+00,\n",
       "        0.00000000e+00, -0.00000000e+00,  0.00000000e+00,  8.69884659e-02])"
      ]
     },
     "execution_count": 128,
     "metadata": {},
     "output_type": "execute_result"
    }
   ],
   "source": [
    "# Estimates\n",
    "lasso_reg.coef_"
   ]
  },
  {
   "cell_type": "code",
   "execution_count": 129,
   "metadata": {},
   "outputs": [
    {
     "data": {
      "text/html": [
       "<div>\n",
       "<style scoped>\n",
       "    .dataframe tbody tr th:only-of-type {\n",
       "        vertical-align: middle;\n",
       "    }\n",
       "\n",
       "    .dataframe tbody tr th {\n",
       "        vertical-align: top;\n",
       "    }\n",
       "\n",
       "    .dataframe thead th {\n",
       "        text-align: right;\n",
       "    }\n",
       "</style>\n",
       "<table border=\"1\" class=\"dataframe\">\n",
       "  <thead>\n",
       "    <tr style=\"text-align: right;\">\n",
       "      <th></th>\n",
       "      <th>Feature</th>\n",
       "      <th>Estimates</th>\n",
       "    </tr>\n",
       "  </thead>\n",
       "  <tbody>\n",
       "    <tr>\n",
       "      <th>0</th>\n",
       "      <td>LotFrontage</td>\n",
       "      <td>-0.024097</td>\n",
       "    </tr>\n",
       "    <tr>\n",
       "      <th>1</th>\n",
       "      <td>LotArea</td>\n",
       "      <td>0.017565</td>\n",
       "    </tr>\n",
       "    <tr>\n",
       "      <th>2</th>\n",
       "      <td>YearBuilt</td>\n",
       "      <td>0.003239</td>\n",
       "    </tr>\n",
       "    <tr>\n",
       "      <th>3</th>\n",
       "      <td>YearRemodAdd</td>\n",
       "      <td>0.005076</td>\n",
       "    </tr>\n",
       "    <tr>\n",
       "      <th>4</th>\n",
       "      <td>MasVnrArea</td>\n",
       "      <td>0.029513</td>\n",
       "    </tr>\n",
       "    <tr>\n",
       "      <th>5</th>\n",
       "      <td>TotalBsmtSF</td>\n",
       "      <td>0.086463</td>\n",
       "    </tr>\n",
       "    <tr>\n",
       "      <th>6</th>\n",
       "      <td>GrLivArea</td>\n",
       "      <td>0.398551</td>\n",
       "    </tr>\n",
       "    <tr>\n",
       "      <th>7</th>\n",
       "      <td>GarageYrBlt</td>\n",
       "      <td>0.000077</td>\n",
       "    </tr>\n",
       "    <tr>\n",
       "      <th>9</th>\n",
       "      <td>WoodDeckSF</td>\n",
       "      <td>0.026132</td>\n",
       "    </tr>\n",
       "    <tr>\n",
       "      <th>11</th>\n",
       "      <td>EnclosedPorch</td>\n",
       "      <td>0.000135</td>\n",
       "    </tr>\n",
       "    <tr>\n",
       "      <th>12</th>\n",
       "      <td>3SsnPorch</td>\n",
       "      <td>0.000705</td>\n",
       "    </tr>\n",
       "    <tr>\n",
       "      <th>13</th>\n",
       "      <td>ScreenPorch</td>\n",
       "      <td>0.000822</td>\n",
       "    </tr>\n",
       "    <tr>\n",
       "      <th>14</th>\n",
       "      <td>PoolArea</td>\n",
       "      <td>-0.000259</td>\n",
       "    </tr>\n",
       "    <tr>\n",
       "      <th>15</th>\n",
       "      <td>MiscVal</td>\n",
       "      <td>-0.000010</td>\n",
       "    </tr>\n",
       "    <tr>\n",
       "      <th>18</th>\n",
       "      <td>MSSubClass_60</td>\n",
       "      <td>-0.001180</td>\n",
       "    </tr>\n",
       "    <tr>\n",
       "      <th>25</th>\n",
       "      <td>MSZoning_RL</td>\n",
       "      <td>0.058013</td>\n",
       "    </tr>\n",
       "    <tr>\n",
       "      <th>30</th>\n",
       "      <td>LotShape_Reg</td>\n",
       "      <td>-0.003715</td>\n",
       "    </tr>\n",
       "    <tr>\n",
       "      <th>31</th>\n",
       "      <td>LandContour_HLS</td>\n",
       "      <td>0.060530</td>\n",
       "    </tr>\n",
       "    <tr>\n",
       "      <th>33</th>\n",
       "      <td>LandContour_Lvl</td>\n",
       "      <td>0.046351</td>\n",
       "    </tr>\n",
       "    <tr>\n",
       "      <th>35</th>\n",
       "      <td>LotConfig_CulDSac</td>\n",
       "      <td>0.086098</td>\n",
       "    </tr>\n",
       "    <tr>\n",
       "      <th>38</th>\n",
       "      <td>LotConfig_Inside</td>\n",
       "      <td>-0.006133</td>\n",
       "    </tr>\n",
       "    <tr>\n",
       "      <th>41</th>\n",
       "      <td>Neighborhood_Edwards</td>\n",
       "      <td>-0.135283</td>\n",
       "    </tr>\n",
       "    <tr>\n",
       "      <th>44</th>\n",
       "      <td>Neighborhood_Others</td>\n",
       "      <td>0.054723</td>\n",
       "    </tr>\n",
       "    <tr>\n",
       "      <th>45</th>\n",
       "      <td>Neighborhood_Somerst</td>\n",
       "      <td>0.071522</td>\n",
       "    </tr>\n",
       "    <tr>\n",
       "      <th>46</th>\n",
       "      <td>Condition1_Others</td>\n",
       "      <td>-0.131064</td>\n",
       "    </tr>\n",
       "    <tr>\n",
       "      <th>48</th>\n",
       "      <td>BldgType_Others</td>\n",
       "      <td>-0.183978</td>\n",
       "    </tr>\n",
       "    <tr>\n",
       "      <th>49</th>\n",
       "      <td>HouseStyle_1Story</td>\n",
       "      <td>0.006940</td>\n",
       "    </tr>\n",
       "    <tr>\n",
       "      <th>51</th>\n",
       "      <td>HouseStyle_2Story</td>\n",
       "      <td>-0.025542</td>\n",
       "    </tr>\n",
       "    <tr>\n",
       "      <th>54</th>\n",
       "      <td>OverallQual_6</td>\n",
       "      <td>-0.005406</td>\n",
       "    </tr>\n",
       "    <tr>\n",
       "      <th>56</th>\n",
       "      <td>OverallQual_8</td>\n",
       "      <td>0.169661</td>\n",
       "    </tr>\n",
       "    <tr>\n",
       "      <th>57</th>\n",
       "      <td>OverallQual_Others</td>\n",
       "      <td>0.354428</td>\n",
       "    </tr>\n",
       "    <tr>\n",
       "      <th>58</th>\n",
       "      <td>OverallCond_6</td>\n",
       "      <td>0.048238</td>\n",
       "    </tr>\n",
       "    <tr>\n",
       "      <th>59</th>\n",
       "      <td>OverallCond_7</td>\n",
       "      <td>0.059013</td>\n",
       "    </tr>\n",
       "    <tr>\n",
       "      <th>60</th>\n",
       "      <td>OverallCond_Others</td>\n",
       "      <td>-0.021404</td>\n",
       "    </tr>\n",
       "    <tr>\n",
       "      <th>61</th>\n",
       "      <td>RoofStyle_Hip</td>\n",
       "      <td>0.023453</td>\n",
       "    </tr>\n",
       "    <tr>\n",
       "      <th>67</th>\n",
       "      <td>Exterior1st_VinylSd</td>\n",
       "      <td>-0.026275</td>\n",
       "    </tr>\n",
       "    <tr>\n",
       "      <th>80</th>\n",
       "      <td>ExterQual_TA</td>\n",
       "      <td>-0.139256</td>\n",
       "    </tr>\n",
       "    <tr>\n",
       "      <th>85</th>\n",
       "      <td>Foundation_PConc</td>\n",
       "      <td>0.060715</td>\n",
       "    </tr>\n",
       "    <tr>\n",
       "      <th>87</th>\n",
       "      <td>BsmtQual_Gd</td>\n",
       "      <td>-0.113312</td>\n",
       "    </tr>\n",
       "    <tr>\n",
       "      <th>89</th>\n",
       "      <td>BsmtQual_TA</td>\n",
       "      <td>-0.110402</td>\n",
       "    </tr>\n",
       "    <tr>\n",
       "      <th>93</th>\n",
       "      <td>BsmtCond_TA</td>\n",
       "      <td>0.061031</td>\n",
       "    </tr>\n",
       "    <tr>\n",
       "      <th>94</th>\n",
       "      <td>BsmtExposure_Gd</td>\n",
       "      <td>0.134956</td>\n",
       "    </tr>\n",
       "    <tr>\n",
       "      <th>97</th>\n",
       "      <td>BsmtExposure_No</td>\n",
       "      <td>-0.055882</td>\n",
       "    </tr>\n",
       "    <tr>\n",
       "      <th>99</th>\n",
       "      <td>BsmtFinType1_GLQ</td>\n",
       "      <td>0.073077</td>\n",
       "    </tr>\n",
       "    <tr>\n",
       "      <th>103</th>\n",
       "      <td>BsmtFinType1_Unf</td>\n",
       "      <td>-0.054841</td>\n",
       "    </tr>\n",
       "    <tr>\n",
       "      <th>109</th>\n",
       "      <td>BsmtFinType2_Unf</td>\n",
       "      <td>0.011115</td>\n",
       "    </tr>\n",
       "    <tr>\n",
       "      <th>114</th>\n",
       "      <td>HeatingQC_TA</td>\n",
       "      <td>-0.010193</td>\n",
       "    </tr>\n",
       "    <tr>\n",
       "      <th>115</th>\n",
       "      <td>CentralAir_Y</td>\n",
       "      <td>0.011132</td>\n",
       "    </tr>\n",
       "    <tr>\n",
       "      <th>118</th>\n",
       "      <td>Electrical_60</td>\n",
       "      <td>-0.001021</td>\n",
       "    </tr>\n",
       "    <tr>\n",
       "      <th>125</th>\n",
       "      <td>BsmtFullBath_1</td>\n",
       "      <td>0.081768</td>\n",
       "    </tr>\n",
       "    <tr>\n",
       "      <th>128</th>\n",
       "      <td>BsmtHalfBath_1</td>\n",
       "      <td>0.004924</td>\n",
       "    </tr>\n",
       "    <tr>\n",
       "      <th>132</th>\n",
       "      <td>FullBath_3</td>\n",
       "      <td>0.264929</td>\n",
       "    </tr>\n",
       "    <tr>\n",
       "      <th>133</th>\n",
       "      <td>HalfBath_1</td>\n",
       "      <td>0.036795</td>\n",
       "    </tr>\n",
       "    <tr>\n",
       "      <th>135</th>\n",
       "      <td>BedroomAbvGr_3</td>\n",
       "      <td>-0.036442</td>\n",
       "    </tr>\n",
       "    <tr>\n",
       "      <th>136</th>\n",
       "      <td>BedroomAbvGr_4</td>\n",
       "      <td>0.013959</td>\n",
       "    </tr>\n",
       "    <tr>\n",
       "      <th>137</th>\n",
       "      <td>BedroomAbvGr_Others</td>\n",
       "      <td>-0.056059</td>\n",
       "    </tr>\n",
       "    <tr>\n",
       "      <th>141</th>\n",
       "      <td>KitchenQual_Fa</td>\n",
       "      <td>-0.022993</td>\n",
       "    </tr>\n",
       "    <tr>\n",
       "      <th>142</th>\n",
       "      <td>KitchenQual_Gd</td>\n",
       "      <td>-0.141247</td>\n",
       "    </tr>\n",
       "    <tr>\n",
       "      <th>143</th>\n",
       "      <td>KitchenQual_TA</td>\n",
       "      <td>-0.169911</td>\n",
       "    </tr>\n",
       "    <tr>\n",
       "      <th>149</th>\n",
       "      <td>TotRmsAbvGrd_Others</td>\n",
       "      <td>0.042963</td>\n",
       "    </tr>\n",
       "    <tr>\n",
       "      <th>150</th>\n",
       "      <td>Functional_Typ</td>\n",
       "      <td>0.165595</td>\n",
       "    </tr>\n",
       "    <tr>\n",
       "      <th>152</th>\n",
       "      <td>Fireplaces_2</td>\n",
       "      <td>0.214441</td>\n",
       "    </tr>\n",
       "    <tr>\n",
       "      <th>154</th>\n",
       "      <td>FireplaceQu_No Fireplace</td>\n",
       "      <td>-0.095424</td>\n",
       "    </tr>\n",
       "    <tr>\n",
       "      <th>156</th>\n",
       "      <td>FireplaceQu_TA</td>\n",
       "      <td>-0.004948</td>\n",
       "    </tr>\n",
       "    <tr>\n",
       "      <th>158</th>\n",
       "      <td>GarageType_Others</td>\n",
       "      <td>-0.046206</td>\n",
       "    </tr>\n",
       "    <tr>\n",
       "      <th>161</th>\n",
       "      <td>GarageFinish_Unf</td>\n",
       "      <td>-0.016608</td>\n",
       "    </tr>\n",
       "    <tr>\n",
       "      <th>162</th>\n",
       "      <td>GarageCars_1</td>\n",
       "      <td>-0.004340</td>\n",
       "    </tr>\n",
       "    <tr>\n",
       "      <th>164</th>\n",
       "      <td>GarageCars_3</td>\n",
       "      <td>0.398930</td>\n",
       "    </tr>\n",
       "    <tr>\n",
       "      <th>179</th>\n",
       "      <td>MoSold_7</td>\n",
       "      <td>0.023878</td>\n",
       "    </tr>\n",
       "    <tr>\n",
       "      <th>182</th>\n",
       "      <td>MoSold_10</td>\n",
       "      <td>-0.024405</td>\n",
       "    </tr>\n",
       "    <tr>\n",
       "      <th>187</th>\n",
       "      <td>YrSold_2009</td>\n",
       "      <td>-0.004264</td>\n",
       "    </tr>\n",
       "    <tr>\n",
       "      <th>190</th>\n",
       "      <td>SaleType_WD</td>\n",
       "      <td>-0.031367</td>\n",
       "    </tr>\n",
       "    <tr>\n",
       "      <th>195</th>\n",
       "      <td>SaleCondition_Partial</td>\n",
       "      <td>0.086988</td>\n",
       "    </tr>\n",
       "  </tbody>\n",
       "</table>\n",
       "</div>"
      ],
      "text/plain": [
       "                      Feature  Estimates\n",
       "0                 LotFrontage  -0.024097\n",
       "1                     LotArea   0.017565\n",
       "2                   YearBuilt   0.003239\n",
       "3                YearRemodAdd   0.005076\n",
       "4                  MasVnrArea   0.029513\n",
       "5                 TotalBsmtSF   0.086463\n",
       "6                   GrLivArea   0.398551\n",
       "7                 GarageYrBlt   0.000077\n",
       "9                  WoodDeckSF   0.026132\n",
       "11              EnclosedPorch   0.000135\n",
       "12                  3SsnPorch   0.000705\n",
       "13                ScreenPorch   0.000822\n",
       "14                   PoolArea  -0.000259\n",
       "15                    MiscVal  -0.000010\n",
       "18              MSSubClass_60  -0.001180\n",
       "25                MSZoning_RL   0.058013\n",
       "30               LotShape_Reg  -0.003715\n",
       "31            LandContour_HLS   0.060530\n",
       "33            LandContour_Lvl   0.046351\n",
       "35          LotConfig_CulDSac   0.086098\n",
       "38           LotConfig_Inside  -0.006133\n",
       "41       Neighborhood_Edwards  -0.135283\n",
       "44        Neighborhood_Others   0.054723\n",
       "45       Neighborhood_Somerst   0.071522\n",
       "46          Condition1_Others  -0.131064\n",
       "48            BldgType_Others  -0.183978\n",
       "49          HouseStyle_1Story   0.006940\n",
       "51          HouseStyle_2Story  -0.025542\n",
       "54              OverallQual_6  -0.005406\n",
       "56              OverallQual_8   0.169661\n",
       "57         OverallQual_Others   0.354428\n",
       "58              OverallCond_6   0.048238\n",
       "59              OverallCond_7   0.059013\n",
       "60         OverallCond_Others  -0.021404\n",
       "61              RoofStyle_Hip   0.023453\n",
       "67        Exterior1st_VinylSd  -0.026275\n",
       "80               ExterQual_TA  -0.139256\n",
       "85           Foundation_PConc   0.060715\n",
       "87                BsmtQual_Gd  -0.113312\n",
       "89                BsmtQual_TA  -0.110402\n",
       "93                BsmtCond_TA   0.061031\n",
       "94            BsmtExposure_Gd   0.134956\n",
       "97            BsmtExposure_No  -0.055882\n",
       "99           BsmtFinType1_GLQ   0.073077\n",
       "103          BsmtFinType1_Unf  -0.054841\n",
       "109          BsmtFinType2_Unf   0.011115\n",
       "114              HeatingQC_TA  -0.010193\n",
       "115              CentralAir_Y   0.011132\n",
       "118             Electrical_60  -0.001021\n",
       "125            BsmtFullBath_1   0.081768\n",
       "128            BsmtHalfBath_1   0.004924\n",
       "132                FullBath_3   0.264929\n",
       "133                HalfBath_1   0.036795\n",
       "135            BedroomAbvGr_3  -0.036442\n",
       "136            BedroomAbvGr_4   0.013959\n",
       "137       BedroomAbvGr_Others  -0.056059\n",
       "141            KitchenQual_Fa  -0.022993\n",
       "142            KitchenQual_Gd  -0.141247\n",
       "143            KitchenQual_TA  -0.169911\n",
       "149       TotRmsAbvGrd_Others   0.042963\n",
       "150            Functional_Typ   0.165595\n",
       "152              Fireplaces_2   0.214441\n",
       "154  FireplaceQu_No Fireplace  -0.095424\n",
       "156            FireplaceQu_TA  -0.004948\n",
       "158         GarageType_Others  -0.046206\n",
       "161          GarageFinish_Unf  -0.016608\n",
       "162              GarageCars_1  -0.004340\n",
       "164              GarageCars_3   0.398930\n",
       "179                  MoSold_7   0.023878\n",
       "182                 MoSold_10  -0.024405\n",
       "187               YrSold_2009  -0.004264\n",
       "190               SaleType_WD  -0.031367\n",
       "195     SaleCondition_Partial   0.086988"
      ]
     },
     "execution_count": 129,
     "metadata": {},
     "output_type": "execute_result"
    }
   ],
   "source": [
    "pd.set_option('display.max_rows', 500)\n",
    "\n",
    "#Estmates with Feature names\n",
    "Lasso_estimates= (lasso_reg.coef_).tolist()\n",
    "\n",
    "\n",
    "\n",
    "\n",
    "#Creating DataFrame with Feature with their Estimaes\n",
    "Lasso_DF= pd.DataFrame({'Feature':X_train.columns, 'Estimates':Lasso_estimates})\n",
    "\n",
    "#Total Features(features having Non Zero Coefficients)\n",
    "Lasso_DF_NonZero=Lasso_DF[Lasso_DF['Estimates']!=0]\n",
    "\n",
    "#Lasso_DF_NonZero.sort_values(by='Estimates', ascending=False) \n",
    "\n",
    "Lasso_DF_NonZero\n",
    "\n"
   ]
  },
  {
   "cell_type": "code",
   "execution_count": 130,
   "metadata": {},
   "outputs": [],
   "source": [
    "#Prediction\n",
    "train_pred= lasso_reg.predict(X_train)\n",
    "test_pred= lasso_reg.predict(X_test)"
   ]
  },
  {
   "cell_type": "code",
   "execution_count": 131,
   "metadata": {},
   "outputs": [
    {
     "name": "stdout",
     "output_type": "stream",
     "text": [
      "R2 Score for Lasso Regression on Train data is:0.8534008725270557\n",
      "R2 Score for Lasso Regression on Test data is:0.8734954956863863\n"
     ]
    }
   ],
   "source": [
    "# R2 Score\n",
    "print(f\"R2 Score for Lasso Regression on Train data is:{r2_score(y_train, train_pred)}\")\n",
    "print(f\"R2 Score for Lasso Regression on Test data is:{r2_score(y_test, test_pred)}\")"
   ]
  },
  {
   "cell_type": "code",
   "execution_count": 132,
   "metadata": {},
   "outputs": [
    {
     "data": {
      "image/png": "[encoded data removed]",
      "text/plain": [
       "<Figure size 432x288 with 1 Axes>"
      ]
     },
     "metadata": {
      "needs_background": "light"
     },
     "output_type": "display_data"
    }
   ],
   "source": [
    "plt.scatter(y_test,test_pred)\n",
    "sns.regplot(x=y_test,y=test_pred,ci=None,color ='red');\n"
   ]
  },
  {
   "cell_type": "code",
   "execution_count": null,
   "metadata": {},
   "outputs": [],
   "source": []
  },
  {
   "cell_type": "markdown",
   "metadata": {},
   "source": [
    "#### Metric to check model performance "
   ]
  },
  {
   "cell_type": "code",
   "execution_count": 133,
   "metadata": {},
   "outputs": [
    {
     "name": "stdout",
     "output_type": "stream",
     "text": [
      "RSS for Lasso Reg. is: 191.57940564041658\n",
      "RSS for Lasso Reg. is: 0.08840426068486368\n",
      "RSS for Lasso Reg. is: 0.29732853997701547\n"
     ]
    }
   ],
   "source": [
    "#RSS\n",
    "RSS= np.square(np.sum(y_test-test_pred))\n",
    "MSE=mean_squared_error(y_test,test_pred)\n",
    "RMSE=MSE**0.5\n",
    "\n",
    "print(f\"RSS for Lasso Reg. is: {RSS}\")\n",
    "print(f\"RSS for Lasso Reg. is: {MSE}\")\n",
    "print(f\"RSS for Lasso Reg. is: {RMSE}\")"
   ]
  },
  {
   "cell_type": "markdown",
   "metadata": {},
   "source": [
    "#### Residual Analysis"
   ]
  },
  {
   "cell_type": "code",
   "execution_count": 134,
   "metadata": {},
   "outputs": [
    {
     "data": {
      "text/plain": [
       "Text(0, 0.5, 'Residuals')"
      ]
     },
     "execution_count": 134,
     "metadata": {},
     "output_type": "execute_result"
    },
    {
     "data": {
      "image/png": "[encoded data removed]",
      "text/plain": [
       "<Figure size 432x288 with 1 Axes>"
      ]
     },
     "metadata": {
      "needs_background": "light"
     },
     "output_type": "display_data"
    }
   ],
   "source": [
    "# Checking for residual pattern\n",
    "\n",
    "Residual=y_test-test_pred\n",
    "plt.scatter(test_pred,Residual)\n",
    "plt.axhline(y=0, color='red')\n",
    "plt.xlabel(\"Predicted Values\")\n",
    "plt.ylabel(\"Residuals\")\n"
   ]
  },
  {
   "cell_type": "code",
   "execution_count": 135,
   "metadata": {},
   "outputs": [
    {
     "data": {
      "text/plain": [
       "Text(0.5, 0, 'Residual')"
      ]
     },
     "execution_count": 135,
     "metadata": {},
     "output_type": "execute_result"
    },
    {
     "data": {
      "image/png": "[encoded data removed]",
      "text/plain": [
       "<Figure size 432x288 with 1 Axes>"
      ]
     },
     "metadata": {
      "needs_background": "light"
     },
     "output_type": "display_data"
    }
   ],
   "source": [
    "#Checking for Residual Distribution\n",
    "sns.distplot(Residual,kde=True)\n",
    "plt.xlabel('Residual')\n"
   ]
  },
  {
   "cell_type": "markdown",
   "metadata": {},
   "source": [
    "### Conclusion:  \n",
    "####            * R2 Score for Train and Test shows better results compare to Logistic Regression \n",
    "####            * Model has now less features \n",
    "####            * Residual Analysis: Model almost  meet 'Residual Assumption' "
   ]
  },
  {
   "cell_type": "markdown",
   "metadata": {},
   "source": [
    "## 3(b). Lasso Regression with RFE Features"
   ]
  },
  {
   "cell_type": "code",
   "execution_count": null,
   "metadata": {},
   "outputs": [],
   "source": []
  },
  {
   "cell_type": "code",
   "execution_count": 136,
   "metadata": {},
   "outputs": [],
   "source": [
    "#Train Test split \n",
    "\n",
    "X=train.drop(columns=['SalePrice'])\n",
    "y=train['SalePrice']\n",
    "\n",
    "from sklearn.model_selection import train_test_split\n",
    "X_train,X_test, y_train,y_test= train_test_split(X, y, test_size=0.2, random_state=99)\n"
   ]
  },
  {
   "cell_type": "code",
   "execution_count": 137,
   "metadata": {},
   "outputs": [],
   "source": [
    "# RFE\n",
    "#from mlxtend.feature_selection import SequentialFeatureSelector\n",
    "from sklearn.feature_selection import RFE\n",
    "#SFS=SequentialFeatureSelector\n",
    "\n",
    "rfe=RFE(lasso_reg, n_features_to_select=20 , step=1)\n",
    "\n",
    "rfe.fit(X_train,y_train)\n",
    "\n",
    "rfe_features=rfe.ranking_.tolist()\n",
    "\n",
    "rfe_data= pd.DataFrame({'Features': X_train.columns, 'RFE_Bool':rfe_features })\n",
    "\n",
    "#Top 30 Features\n",
    "#RFE=train.iloc[sfs.ranking_]\n",
    "\n",
    "#RFE Column Name\n",
    "RFE_columns=train[rfe_data['Features'][rfe_data['RFE_Bool']==1]].columns"
   ]
  },
  {
   "cell_type": "code",
   "execution_count": 138,
   "metadata": {},
   "outputs": [
    {
     "data": {
      "text/plain": [
       "Index(['GrLivArea', 'LotConfig_CulDSac', 'Neighborhood_Edwards',\n",
       "       'Condition1_Others', 'BldgType_Others', 'OverallQual_8',\n",
       "       'OverallQual_Others', 'ExterQual_TA', 'Foundation_PConc',\n",
       "       'BsmtExposure_Gd', 'BsmtFinType1_Unf', 'CentralAir_Y', 'FullBath_3',\n",
       "       'KitchenQual_Fa', 'KitchenQual_Gd', 'KitchenQual_TA', 'Functional_Typ',\n",
       "       'Fireplaces_2', 'GarageCars_3', 'SaleCondition_Partial'],\n",
       "      dtype='object')"
      ]
     },
     "execution_count": 138,
     "metadata": {},
     "output_type": "execute_result"
    }
   ],
   "source": [
    "RFE_columns"
   ]
  },
  {
   "cell_type": "markdown",
   "metadata": {},
   "source": [
    "#### Train-Test Split"
   ]
  },
  {
   "cell_type": "code",
   "execution_count": 139,
   "metadata": {},
   "outputs": [],
   "source": [
    "X_RFE=train[RFE_columns]\n",
    "y=train['SalePrice']\n",
    "\n",
    "X_train,X_test, y_train,y_test= train_test_split(X_RFE, y, test_size=0.2, random_state=99)"
   ]
  },
  {
   "cell_type": "code",
   "execution_count": 140,
   "metadata": {},
   "outputs": [
    {
     "name": "stdout",
     "output_type": "stream",
     "text": [
      "Fitting 5 folds for each of 10 candidates, totalling 50 fits\n"
     ]
    },
    {
     "data": {
      "text/plain": [
       "{'alpha': 0.001}"
      ]
     },
     "execution_count": 140,
     "metadata": {},
     "output_type": "execute_result"
    }
   ],
   "source": [
    "#Getting best paramaters for Lasso Reg.\n",
    "\n",
    "# checking for hyperparameter\n",
    "params={'alpha': [0.0001, 0.001, 0.01, 0.1, 1, 10, 100,150,200,500]}\n",
    "\n",
    "\n",
    "lasso=Lasso()\n",
    "\n",
    "folds=5\n",
    "\n",
    "from sklearn.model_selection import GridSearchCV\n",
    "\n",
    "model_cv=GridSearchCV(estimator=lasso,\n",
    "                      param_grid=params,\n",
    "                      scoring='neg_mean_absolute_error',\n",
    "                      cv=folds,\n",
    "                      return_train_score=True,\n",
    "                      verbose=1)\n",
    "\n",
    "model_cv.fit(X_train, y_train)\n",
    "\n",
    "model_cv.best_params_"
   ]
  },
  {
   "cell_type": "code",
   "execution_count": 141,
   "metadata": {},
   "outputs": [
    {
     "name": "stdout",
     "output_type": "stream",
     "text": [
      "Fitting 5 folds for each of 10 candidates, totalling 50 fits\n"
     ]
    },
    {
     "data": {
      "text/plain": [
       "{'alpha': 0.002}"
      ]
     },
     "execution_count": 141,
     "metadata": {},
     "output_type": "execute_result"
    }
   ],
   "source": [
    " #Getting again best paramaters for Lasso Reg .\n",
    "\n",
    "params= {'alpha':[.0006,.0007,.0008,.0009,.001,.002,.003,.004,.005,.006]}\n",
    "folds=5\n",
    "\n",
    "from sklearn.linear_model import Lasso\n",
    "lasso=Lasso()\n",
    "\n",
    "\n",
    "from sklearn.model_selection import GridSearchCV\n",
    "\n",
    "model_cv= GridSearchCV(estimator=lasso,\n",
    "                      param_grid=params,\n",
    "                      scoring='neg_mean_absolute_error',\n",
    "                      cv=folds,\n",
    "                      return_train_score=True,\n",
    "                      verbose=1)\n",
    "\n",
    "model_cv.fit(X_train, y_train)\n",
    "\n",
    "model_cv.best_params_"
   ]
  },
  {
   "cell_type": "code",
   "execution_count": 148,
   "metadata": {},
   "outputs": [
    {
     "data": {
      "text/plain": [
       "Lasso(alpha=0.004)"
      ]
     },
     "execution_count": 148,
     "metadata": {},
     "output_type": "execute_result"
    }
   ],
   "source": [
    "#Creating Lasso Regression with Best Parameter= 0.007 \n",
    "\n",
    "lasso_reg=Lasso(alpha=.002*2)\n",
    "lasso_reg.fit(X_train, y_train)"
   ]
  },
  {
   "cell_type": "code",
   "execution_count": 143,
   "metadata": {},
   "outputs": [
    {
     "data": {
      "text/plain": [
       "array([ 0.44929583,  0.27347323, -0.23824886, -0.18543411, -0.17233041,\n",
       "        0.22889442,  0.41788875, -0.24286938,  0.20231833,  0.3043303 ,\n",
       "       -0.21575659,  0.27287675,  0.32883298, -0.58730943, -0.36889709,\n",
       "       -0.49490689,  0.23996884,  0.3078562 ,  0.46337736,  0.23637238])"
      ]
     },
     "execution_count": 143,
     "metadata": {},
     "output_type": "execute_result"
    }
   ],
   "source": [
    "lasso_reg.coef_"
   ]
  },
  {
   "cell_type": "code",
   "execution_count": 149,
   "metadata": {
    "scrolled": true
   },
   "outputs": [
    {
     "data": {
      "text/html": [
       "<div>\n",
       "<style scoped>\n",
       "    .dataframe tbody tr th:only-of-type {\n",
       "        vertical-align: middle;\n",
       "    }\n",
       "\n",
       "    .dataframe tbody tr th {\n",
       "        vertical-align: top;\n",
       "    }\n",
       "\n",
       "    .dataframe thead th {\n",
       "        text-align: right;\n",
       "    }\n",
       "</style>\n",
       "<table border=\"1\" class=\"dataframe\">\n",
       "  <thead>\n",
       "    <tr style=\"text-align: right;\">\n",
       "      <th></th>\n",
       "      <th>Feature</th>\n",
       "      <th>Estimates</th>\n",
       "    </tr>\n",
       "  </thead>\n",
       "  <tbody>\n",
       "    <tr>\n",
       "      <th>0</th>\n",
       "      <td>GrLivArea</td>\n",
       "      <td>0.465042</td>\n",
       "    </tr>\n",
       "    <tr>\n",
       "      <th>1</th>\n",
       "      <td>LotConfig_CulDSac</td>\n",
       "      <td>0.236918</td>\n",
       "    </tr>\n",
       "    <tr>\n",
       "      <th>2</th>\n",
       "      <td>Neighborhood_Edwards</td>\n",
       "      <td>-0.208720</td>\n",
       "    </tr>\n",
       "    <tr>\n",
       "      <th>3</th>\n",
       "      <td>Condition1_Others</td>\n",
       "      <td>-0.174477</td>\n",
       "    </tr>\n",
       "    <tr>\n",
       "      <th>4</th>\n",
       "      <td>BldgType_Others</td>\n",
       "      <td>-0.159028</td>\n",
       "    </tr>\n",
       "    <tr>\n",
       "      <th>5</th>\n",
       "      <td>OverallQual_8</td>\n",
       "      <td>0.213353</td>\n",
       "    </tr>\n",
       "    <tr>\n",
       "      <th>6</th>\n",
       "      <td>OverallQual_Others</td>\n",
       "      <td>0.422097</td>\n",
       "    </tr>\n",
       "    <tr>\n",
       "      <th>7</th>\n",
       "      <td>ExterQual_TA</td>\n",
       "      <td>-0.249680</td>\n",
       "    </tr>\n",
       "    <tr>\n",
       "      <th>8</th>\n",
       "      <td>Foundation_PConc</td>\n",
       "      <td>0.201851</td>\n",
       "    </tr>\n",
       "    <tr>\n",
       "      <th>9</th>\n",
       "      <td>BsmtExposure_Gd</td>\n",
       "      <td>0.294811</td>\n",
       "    </tr>\n",
       "    <tr>\n",
       "      <th>10</th>\n",
       "      <td>BsmtFinType1_Unf</td>\n",
       "      <td>-0.212074</td>\n",
       "    </tr>\n",
       "    <tr>\n",
       "      <th>11</th>\n",
       "      <td>CentralAir_Y</td>\n",
       "      <td>0.269729</td>\n",
       "    </tr>\n",
       "    <tr>\n",
       "      <th>12</th>\n",
       "      <td>FullBath_3</td>\n",
       "      <td>0.239190</td>\n",
       "    </tr>\n",
       "    <tr>\n",
       "      <th>13</th>\n",
       "      <td>KitchenQual_Fa</td>\n",
       "      <td>-0.424646</td>\n",
       "    </tr>\n",
       "    <tr>\n",
       "      <th>14</th>\n",
       "      <td>KitchenQual_Gd</td>\n",
       "      <td>-0.264388</td>\n",
       "    </tr>\n",
       "    <tr>\n",
       "      <th>15</th>\n",
       "      <td>KitchenQual_TA</td>\n",
       "      <td>-0.388207</td>\n",
       "    </tr>\n",
       "    <tr>\n",
       "      <th>16</th>\n",
       "      <td>Functional_Typ</td>\n",
       "      <td>0.216440</td>\n",
       "    </tr>\n",
       "    <tr>\n",
       "      <th>17</th>\n",
       "      <td>Fireplaces_2</td>\n",
       "      <td>0.284090</td>\n",
       "    </tr>\n",
       "    <tr>\n",
       "      <th>18</th>\n",
       "      <td>GarageCars_3</td>\n",
       "      <td>0.483742</td>\n",
       "    </tr>\n",
       "    <tr>\n",
       "      <th>19</th>\n",
       "      <td>SaleCondition_Partial</td>\n",
       "      <td>0.232592</td>\n",
       "    </tr>\n",
       "  </tbody>\n",
       "</table>\n",
       "</div>"
      ],
      "text/plain": [
       "                  Feature  Estimates\n",
       "0               GrLivArea   0.465042\n",
       "1       LotConfig_CulDSac   0.236918\n",
       "2    Neighborhood_Edwards  -0.208720\n",
       "3       Condition1_Others  -0.174477\n",
       "4         BldgType_Others  -0.159028\n",
       "5           OverallQual_8   0.213353\n",
       "6      OverallQual_Others   0.422097\n",
       "7            ExterQual_TA  -0.249680\n",
       "8        Foundation_PConc   0.201851\n",
       "9         BsmtExposure_Gd   0.294811\n",
       "10       BsmtFinType1_Unf  -0.212074\n",
       "11           CentralAir_Y   0.269729\n",
       "12             FullBath_3   0.239190\n",
       "13         KitchenQual_Fa  -0.424646\n",
       "14         KitchenQual_Gd  -0.264388\n",
       "15         KitchenQual_TA  -0.388207\n",
       "16         Functional_Typ   0.216440\n",
       "17           Fireplaces_2   0.284090\n",
       "18           GarageCars_3   0.483742\n",
       "19  SaleCondition_Partial   0.232592"
      ]
     },
     "execution_count": 149,
     "metadata": {},
     "output_type": "execute_result"
    }
   ],
   "source": [
    "#Estmates with Feature names\n",
    "Lasso_estimates= (lasso_reg.coef_).tolist()\n",
    "\n",
    "\n",
    "\n",
    "#Creating DataFrame with Feature with their Estimaes\n",
    "Lasso_DF= pd.DataFrame({'Feature':X_train.columns, 'Estimates':Lasso_estimates})\n",
    "\n",
    "#Total Features(features having Non Zero Coefficients)\n",
    "Lasso_DF_NonZero=Lasso_DF[Lasso_DF['Estimates']!=0]\n",
    "\n",
    "#Lasso_DF_NonZero.sort_values(by='Estimates', ascending=False) \n",
    "\n",
    "#Lasso_DF.sort_values(by=['Estimates'])\n",
    "\n",
    "Lasso_DF_NonZero"
   ]
  },
  {
   "cell_type": "code",
   "execution_count": 150,
   "metadata": {},
   "outputs": [],
   "source": [
    "#Prediction\n",
    "train_pred= lasso_reg.predict(X_train)\n",
    "test_pred= lasso_reg.predict(X_test)"
   ]
  },
  {
   "cell_type": "code",
   "execution_count": 151,
   "metadata": {},
   "outputs": [
    {
     "name": "stdout",
     "output_type": "stream",
     "text": [
      "R2 Score for Lasso Regression on Train data is:0.8208551036583852\n",
      "R2 Score for Lasso Regression on Test data is:0.8274887040990156\n"
     ]
    }
   ],
   "source": [
    "# R2 Score\n",
    "print(f\"R2 Score for Lasso Regression on Train data is:{r2_score(y_train, train_pred)}\")\n",
    "print(f\"R2 Score for Lasso Regression on Test data is:{r2_score(y_test, test_pred)}\")"
   ]
  },
  {
   "cell_type": "code",
   "execution_count": 152,
   "metadata": {},
   "outputs": [
    {
     "name": "stdout",
     "output_type": "stream",
     "text": [
      "RSS for Lasso Reg. is: 147.4786865651297\n",
      "RSS for Lasso Reg. is: 0.12055486606316104\n",
      "RSS for Lasso Reg. is: 0.34721011803108653\n"
     ]
    }
   ],
   "source": [
    "# Model metric to check performance\n",
    "#RSS\n",
    "RSS= np.square(np.sum(y_test-test_pred))\n",
    "#MSE\n",
    "MSE=mean_squared_error(y_test,test_pred)\n",
    "#RMSE\n",
    "RMSE=MSE**0.5\n",
    "\n",
    "print(f\"RSS for Lasso Reg. is: {RSS}\")\n",
    "print(f\"RSS for Lasso Reg. is: {MSE}\")\n",
    "print(f\"RSS for Lasso Reg. is: {RMSE}\")"
   ]
  },
  {
   "cell_type": "code",
   "execution_count": null,
   "metadata": {},
   "outputs": [],
   "source": []
  },
  {
   "cell_type": "markdown",
   "metadata": {},
   "source": [
    "## 3(c). Lasso Regression with RFE and post removing Top 5 Features"
   ]
  },
  {
   "cell_type": "code",
   "execution_count": 161,
   "metadata": {},
   "outputs": [],
   "source": [
    "#Train Test split \n",
    "\n",
    "X=train.drop(columns=['SalePrice', 'KitchenQual_Fa', 'KitchenQual_TA', 'GarageCars_3', 'GrLivArea', 'OverallQual_Others'])\n",
    "y=train['SalePrice']\n",
    "\n",
    "from sklearn.model_selection import train_test_split\n",
    "X_train,X_test, y_train,y_test= train_test_split(X, y, test_size=0.2, random_state=99)\n"
   ]
  },
  {
   "cell_type": "code",
   "execution_count": 162,
   "metadata": {},
   "outputs": [],
   "source": [
    "# RFE\n",
    "#from mlxtend.feature_selection import SequentialFeatureSelector\n",
    "from sklearn.feature_selection import RFE\n",
    "#SFS=SequentialFeatureSelector\n",
    "\n",
    "rfe=RFE(lasso_reg, n_features_to_select=20 , step=1)\n",
    "\n",
    "rfe.fit(X_train,y_train)\n",
    "\n",
    "rfe_features=rfe.ranking_.tolist()\n",
    "\n",
    "rfe_data= pd.DataFrame({'Features': X_train.columns, 'RFE_Bool':rfe_features })\n",
    "\n",
    "#Top 30 Features\n",
    "#RFE=train.iloc[sfs.ranking_]\n",
    "\n",
    "#RFE Column Name\n",
    "RFE_columns=train[rfe_data['Features'][rfe_data['RFE_Bool']==1]].columns"
   ]
  },
  {
   "cell_type": "code",
   "execution_count": 163,
   "metadata": {},
   "outputs": [
    {
     "data": {
      "text/plain": [
       "Index(['TotalBsmtSF', 'GarageArea', 'LotConfig_CulDSac', 'BldgType_Others',\n",
       "       'OverallQual_8', 'ExterQual_TA', 'Foundation_PConc', 'BsmtQual_Gd',\n",
       "       'BsmtQual_TA', 'BsmtExposure_Gd', 'BsmtFinType1_GLQ', 'Electrical_30',\n",
       "       'FullBath_1', 'FullBath_3', 'HalfBath_1', 'BedroomAbvGr_4',\n",
       "       'TotRmsAbvGrd_Others', 'Fireplaces_2', 'FireplaceQu_No Fireplace',\n",
       "       'GarageCars_2'],\n",
       "      dtype='object')"
      ]
     },
     "execution_count": 163,
     "metadata": {},
     "output_type": "execute_result"
    }
   ],
   "source": [
    "RFE_columns"
   ]
  },
  {
   "cell_type": "markdown",
   "metadata": {},
   "source": [
    "#### Train-Test Split"
   ]
  },
  {
   "cell_type": "code",
   "execution_count": 164,
   "metadata": {},
   "outputs": [],
   "source": [
    "X_RFE=train[RFE_columns]\n",
    "y=train['SalePrice']\n",
    "\n",
    "X_train,X_test, y_train,y_test= train_test_split(X_RFE, y, test_size=0.2, random_state=99)"
   ]
  },
  {
   "cell_type": "code",
   "execution_count": 165,
   "metadata": {},
   "outputs": [
    {
     "name": "stdout",
     "output_type": "stream",
     "text": [
      "Fitting 5 folds for each of 10 candidates, totalling 50 fits\n"
     ]
    },
    {
     "data": {
      "text/plain": [
       "{'alpha': 0.001}"
      ]
     },
     "execution_count": 165,
     "metadata": {},
     "output_type": "execute_result"
    }
   ],
   "source": [
    "#Getting best paramaters for Lasso Reg.\n",
    "\n",
    "# checking for hyperparameter\n",
    "params={'alpha': [0.0001, 0.001, 0.01, 0.1, 1, 10, 100,150,200,500]}\n",
    "\n",
    "\n",
    "lasso=Lasso()\n",
    "\n",
    "folds=5\n",
    "\n",
    "from sklearn.model_selection import GridSearchCV\n",
    "\n",
    "model_cv=GridSearchCV(estimator=lasso,\n",
    "                      param_grid=params,\n",
    "                      scoring='neg_mean_absolute_error',\n",
    "                      cv=folds,\n",
    "                      return_train_score=True,\n",
    "                      verbose=1)\n",
    "\n",
    "model_cv.fit(X_train, y_train)\n",
    "\n",
    "model_cv.best_params_"
   ]
  },
  {
   "cell_type": "code",
   "execution_count": 166,
   "metadata": {},
   "outputs": [
    {
     "name": "stdout",
     "output_type": "stream",
     "text": [
      "Fitting 5 folds for each of 10 candidates, totalling 50 fits\n"
     ]
    },
    {
     "data": {
      "text/plain": [
       "{'alpha': 0.004}"
      ]
     },
     "execution_count": 166,
     "metadata": {},
     "output_type": "execute_result"
    }
   ],
   "source": [
    " #Getting again best paramaters for Lasso Reg .\n",
    "\n",
    "params= {'alpha':[.0006,.0007,.0008,.0009,.001,.002,.003,.004,.005,.006]}\n",
    "folds=5\n",
    "\n",
    "from sklearn.linear_model import Lasso\n",
    "lasso=Lasso()\n",
    "\n",
    "\n",
    "from sklearn.model_selection import GridSearchCV\n",
    "\n",
    "model_cv= GridSearchCV(estimator=lasso,\n",
    "                      param_grid=params,\n",
    "                      scoring='neg_mean_absolute_error',\n",
    "                      cv=folds,\n",
    "                      return_train_score=True,\n",
    "                      verbose=1)\n",
    "\n",
    "model_cv.fit(X_train, y_train)\n",
    "\n",
    "model_cv.best_params_"
   ]
  },
  {
   "cell_type": "code",
   "execution_count": 167,
   "metadata": {},
   "outputs": [
    {
     "data": {
      "text/plain": [
       "Lasso(alpha=0.004)"
      ]
     },
     "execution_count": 167,
     "metadata": {},
     "output_type": "execute_result"
    }
   ],
   "source": [
    "#Creating Lasso Regression with Best Parameter= 0.007 \n",
    "\n",
    "lasso_reg=Lasso(alpha=.004)\n",
    "lasso_reg.fit(X_train, y_train)"
   ]
  },
  {
   "cell_type": "code",
   "execution_count": 168,
   "metadata": {},
   "outputs": [
    {
     "data": {
      "text/plain": [
       "array([ 0.26183306,  0.18820137,  0.17825298, -0.2345372 ,  0.15084076,\n",
       "       -0.30823758,  0.13915745, -0.29116521, -0.32566562,  0.20418171,\n",
       "        0.18807098, -0.19858521, -0.20928643,  0.65290334,  0.2698333 ,\n",
       "        0.15627055,  0.33532749,  0.31468361, -0.22883989, -0.17139084])"
      ]
     },
     "execution_count": 168,
     "metadata": {},
     "output_type": "execute_result"
    }
   ],
   "source": [
    "lasso_reg.coef_"
   ]
  },
  {
   "cell_type": "code",
   "execution_count": 169,
   "metadata": {},
   "outputs": [
    {
     "data": {
      "text/html": [
       "<div>\n",
       "<style scoped>\n",
       "    .dataframe tbody tr th:only-of-type {\n",
       "        vertical-align: middle;\n",
       "    }\n",
       "\n",
       "    .dataframe tbody tr th {\n",
       "        vertical-align: top;\n",
       "    }\n",
       "\n",
       "    .dataframe thead th {\n",
       "        text-align: right;\n",
       "    }\n",
       "</style>\n",
       "<table border=\"1\" class=\"dataframe\">\n",
       "  <thead>\n",
       "    <tr style=\"text-align: right;\">\n",
       "      <th></th>\n",
       "      <th>Feature</th>\n",
       "      <th>Estimates</th>\n",
       "    </tr>\n",
       "  </thead>\n",
       "  <tbody>\n",
       "    <tr>\n",
       "      <th>0</th>\n",
       "      <td>TotalBsmtSF</td>\n",
       "      <td>0.261833</td>\n",
       "    </tr>\n",
       "    <tr>\n",
       "      <th>1</th>\n",
       "      <td>GarageArea</td>\n",
       "      <td>0.188201</td>\n",
       "    </tr>\n",
       "    <tr>\n",
       "      <th>2</th>\n",
       "      <td>LotConfig_CulDSac</td>\n",
       "      <td>0.178253</td>\n",
       "    </tr>\n",
       "    <tr>\n",
       "      <th>3</th>\n",
       "      <td>BldgType_Others</td>\n",
       "      <td>-0.234537</td>\n",
       "    </tr>\n",
       "    <tr>\n",
       "      <th>4</th>\n",
       "      <td>OverallQual_8</td>\n",
       "      <td>0.150841</td>\n",
       "    </tr>\n",
       "    <tr>\n",
       "      <th>5</th>\n",
       "      <td>ExterQual_TA</td>\n",
       "      <td>-0.308238</td>\n",
       "    </tr>\n",
       "    <tr>\n",
       "      <th>6</th>\n",
       "      <td>Foundation_PConc</td>\n",
       "      <td>0.139157</td>\n",
       "    </tr>\n",
       "    <tr>\n",
       "      <th>7</th>\n",
       "      <td>BsmtQual_Gd</td>\n",
       "      <td>-0.291165</td>\n",
       "    </tr>\n",
       "    <tr>\n",
       "      <th>8</th>\n",
       "      <td>BsmtQual_TA</td>\n",
       "      <td>-0.325666</td>\n",
       "    </tr>\n",
       "    <tr>\n",
       "      <th>9</th>\n",
       "      <td>BsmtExposure_Gd</td>\n",
       "      <td>0.204182</td>\n",
       "    </tr>\n",
       "    <tr>\n",
       "      <th>10</th>\n",
       "      <td>BsmtFinType1_GLQ</td>\n",
       "      <td>0.188071</td>\n",
       "    </tr>\n",
       "    <tr>\n",
       "      <th>11</th>\n",
       "      <td>Electrical_30</td>\n",
       "      <td>-0.198585</td>\n",
       "    </tr>\n",
       "    <tr>\n",
       "      <th>12</th>\n",
       "      <td>FullBath_1</td>\n",
       "      <td>-0.209286</td>\n",
       "    </tr>\n",
       "    <tr>\n",
       "      <th>13</th>\n",
       "      <td>FullBath_3</td>\n",
       "      <td>0.652903</td>\n",
       "    </tr>\n",
       "    <tr>\n",
       "      <th>14</th>\n",
       "      <td>HalfBath_1</td>\n",
       "      <td>0.269833</td>\n",
       "    </tr>\n",
       "    <tr>\n",
       "      <th>15</th>\n",
       "      <td>BedroomAbvGr_4</td>\n",
       "      <td>0.156271</td>\n",
       "    </tr>\n",
       "    <tr>\n",
       "      <th>16</th>\n",
       "      <td>TotRmsAbvGrd_Others</td>\n",
       "      <td>0.335327</td>\n",
       "    </tr>\n",
       "    <tr>\n",
       "      <th>17</th>\n",
       "      <td>Fireplaces_2</td>\n",
       "      <td>0.314684</td>\n",
       "    </tr>\n",
       "    <tr>\n",
       "      <th>18</th>\n",
       "      <td>FireplaceQu_No Fireplace</td>\n",
       "      <td>-0.228840</td>\n",
       "    </tr>\n",
       "    <tr>\n",
       "      <th>19</th>\n",
       "      <td>GarageCars_2</td>\n",
       "      <td>-0.171391</td>\n",
       "    </tr>\n",
       "  </tbody>\n",
       "</table>\n",
       "</div>"
      ],
      "text/plain": [
       "                     Feature  Estimates\n",
       "0                TotalBsmtSF   0.261833\n",
       "1                 GarageArea   0.188201\n",
       "2          LotConfig_CulDSac   0.178253\n",
       "3            BldgType_Others  -0.234537\n",
       "4              OverallQual_8   0.150841\n",
       "5               ExterQual_TA  -0.308238\n",
       "6           Foundation_PConc   0.139157\n",
       "7                BsmtQual_Gd  -0.291165\n",
       "8                BsmtQual_TA  -0.325666\n",
       "9            BsmtExposure_Gd   0.204182\n",
       "10          BsmtFinType1_GLQ   0.188071\n",
       "11             Electrical_30  -0.198585\n",
       "12                FullBath_1  -0.209286\n",
       "13                FullBath_3   0.652903\n",
       "14                HalfBath_1   0.269833\n",
       "15            BedroomAbvGr_4   0.156271\n",
       "16       TotRmsAbvGrd_Others   0.335327\n",
       "17              Fireplaces_2   0.314684\n",
       "18  FireplaceQu_No Fireplace  -0.228840\n",
       "19              GarageCars_2  -0.171391"
      ]
     },
     "execution_count": 169,
     "metadata": {},
     "output_type": "execute_result"
    }
   ],
   "source": [
    "#Estmates with Feature names\n",
    "Lasso_estimates= (lasso_reg.coef_).tolist()\n",
    "\n",
    "\n",
    "\n",
    "#Creating DataFrame with Feature with their Estimaes\n",
    "Lasso_DF= pd.DataFrame({'Feature':X_train.columns, 'Estimates':Lasso_estimates})\n",
    "\n",
    "#Total Features(features having Non Zero Coefficients)\n",
    "Lasso_DF_NonZero=Lasso_DF[Lasso_DF['Estimates']!=0]\n",
    "\n",
    "#Lasso_DF_NonZero.sort_values(by='Estimates', ascending=False) \n",
    "\n",
    "#Lasso_DF.sort_values(by=['Estimates'])\n",
    "\n",
    "Lasso_DF_NonZero"
   ]
  },
  {
   "cell_type": "code",
   "execution_count": null,
   "metadata": {},
   "outputs": [],
   "source": []
  },
  {
   "cell_type": "code",
   "execution_count": null,
   "metadata": {},
   "outputs": [],
   "source": []
  },
  {
   "cell_type": "code",
   "execution_count": null,
   "metadata": {},
   "outputs": [],
   "source": []
  },
  {
   "cell_type": "code",
   "execution_count": null,
   "metadata": {},
   "outputs": [],
   "source": []
  },
  {
   "cell_type": "code",
   "execution_count": null,
   "metadata": {},
   "outputs": [],
   "source": []
  },
  {
   "cell_type": "code",
   "execution_count": null,
   "metadata": {},
   "outputs": [],
   "source": []
  },
  {
   "cell_type": "code",
   "execution_count": null,
   "metadata": {},
   "outputs": [],
   "source": []
  },
  {
   "cell_type": "code",
   "execution_count": null,
   "metadata": {},
   "outputs": [],
   "source": []
  },
  {
   "cell_type": "code",
   "execution_count": 63,
   "metadata": {},
   "outputs": [
    {
     "data": {
      "text/html": [
       "<div>\n",
       "<style scoped>\n",
       "    .dataframe tbody tr th:only-of-type {\n",
       "        vertical-align: middle;\n",
       "    }\n",
       "\n",
       "    .dataframe tbody tr th {\n",
       "        vertical-align: top;\n",
       "    }\n",
       "\n",
       "    .dataframe thead th {\n",
       "        text-align: right;\n",
       "    }\n",
       "</style>\n",
       "<table border=\"1\" class=\"dataframe\">\n",
       "  <thead>\n",
       "    <tr style=\"text-align: right;\">\n",
       "      <th></th>\n",
       "      <th>Id</th>\n",
       "      <th>Sal</th>\n",
       "      <th>x</th>\n",
       "      <th>y</th>\n",
       "    </tr>\n",
       "  </thead>\n",
       "  <tbody>\n",
       "    <tr>\n",
       "      <th>0</th>\n",
       "      <td>1.0</td>\n",
       "      <td>200.0</td>\n",
       "      <td>1</td>\n",
       "      <td>4</td>\n",
       "    </tr>\n",
       "    <tr>\n",
       "      <th>1</th>\n",
       "      <td>2.0</td>\n",
       "      <td>300.0</td>\n",
       "      <td>1</td>\n",
       "      <td>7</td>\n",
       "    </tr>\n",
       "    <tr>\n",
       "      <th>2</th>\n",
       "      <td>3.0</td>\n",
       "      <td>600.0</td>\n",
       "      <td>2</td>\n",
       "      <td>8</td>\n",
       "    </tr>\n",
       "    <tr>\n",
       "      <th>3</th>\n",
       "      <td>4.0</td>\n",
       "      <td>NaN</td>\n",
       "      <td>3</td>\n",
       "      <td>9</td>\n",
       "    </tr>\n",
       "    <tr>\n",
       "      <th>4</th>\n",
       "      <td>NaN</td>\n",
       "      <td>NaN</td>\n",
       "      <td>4</td>\n",
       "      <td>4</td>\n",
       "    </tr>\n",
       "    <tr>\n",
       "      <th>5</th>\n",
       "      <td>6.0</td>\n",
       "      <td>NaN</td>\n",
       "      <td>5</td>\n",
       "      <td>5</td>\n",
       "    </tr>\n",
       "  </tbody>\n",
       "</table>\n",
       "</div>"
      ],
      "text/plain": [
       "    Id    Sal  x  y\n",
       "0  1.0  200.0  1  4\n",
       "1  2.0  300.0  1  7\n",
       "2  3.0  600.0  2  8\n",
       "3  4.0    NaN  3  9\n",
       "4  NaN    NaN  4  4\n",
       "5  6.0    NaN  5  5"
      ]
     },
     "execution_count": 63,
     "metadata": {},
     "output_type": "execute_result"
    }
   ],
   "source": [
    "data={'Id': [1,2,3,4,np.nan,6], 'Sal': [200,300,600,np.nan,np.nan,np.nan], 'x':[1,1,2,3,4,5], 'y':[4,7,8,9,4,5]}\n",
    "df=pd.DataFrame(data)\n",
    "\n",
    "#sns.scatterplot(data['Id'], data['Sal'])\n",
    "cf=['Sal']\n",
    "\n",
    "df\n"
   ]
  },
  {
   "cell_type": "code",
   "execution_count": 72,
   "metadata": {},
   "outputs": [
    {
     "data": {
      "text/html": [
       "<div>\n",
       "<style scoped>\n",
       "    .dataframe tbody tr th:only-of-type {\n",
       "        vertical-align: middle;\n",
       "    }\n",
       "\n",
       "    .dataframe tbody tr th {\n",
       "        vertical-align: top;\n",
       "    }\n",
       "\n",
       "    .dataframe thead th {\n",
       "        text-align: right;\n",
       "    }\n",
       "</style>\n",
       "<table border=\"1\" class=\"dataframe\">\n",
       "  <thead>\n",
       "    <tr style=\"text-align: right;\">\n",
       "      <th></th>\n",
       "      <th>Id</th>\n",
       "      <th>Sal</th>\n",
       "      <th>x</th>\n",
       "      <th>y</th>\n",
       "    </tr>\n",
       "  </thead>\n",
       "  <tbody>\n",
       "    <tr>\n",
       "      <th>0</th>\n",
       "      <td>1.0</td>\n",
       "      <td>200.0</td>\n",
       "      <td>1</td>\n",
       "      <td>4</td>\n",
       "    </tr>\n",
       "    <tr>\n",
       "      <th>1</th>\n",
       "      <td>2.0</td>\n",
       "      <td>300.0</td>\n",
       "      <td>1</td>\n",
       "      <td>7</td>\n",
       "    </tr>\n",
       "    <tr>\n",
       "      <th>2</th>\n",
       "      <td>3.0</td>\n",
       "      <td>600.0</td>\n",
       "      <td>Others</td>\n",
       "      <td>8</td>\n",
       "    </tr>\n",
       "    <tr>\n",
       "      <th>3</th>\n",
       "      <td>4.0</td>\n",
       "      <td>NaN</td>\n",
       "      <td>Others</td>\n",
       "      <td>9</td>\n",
       "    </tr>\n",
       "    <tr>\n",
       "      <th>4</th>\n",
       "      <td>NaN</td>\n",
       "      <td>NaN</td>\n",
       "      <td>4</td>\n",
       "      <td>4</td>\n",
       "    </tr>\n",
       "    <tr>\n",
       "      <th>5</th>\n",
       "      <td>6.0</td>\n",
       "      <td>NaN</td>\n",
       "      <td>5</td>\n",
       "      <td>5</td>\n",
       "    </tr>\n",
       "  </tbody>\n",
       "</table>\n",
       "</div>"
      ],
      "text/plain": [
       "    Id    Sal       x  y\n",
       "0  1.0  200.0       1  4\n",
       "1  2.0  300.0       1  7\n",
       "2  3.0  600.0  Others  8\n",
       "3  4.0    NaN  Others  9\n",
       "4  NaN    NaN       4  4\n",
       "5  6.0    NaN       5  5"
      ]
     },
     "execution_count": 72,
     "metadata": {},
     "output_type": "execute_result"
    }
   ],
   "source": [
    "#df['x'][(df['x']==2)|(df['x']==3)]='Others'\n",
    "df"
   ]
  },
  {
   "cell_type": "code",
   "execution_count": 554,
   "metadata": {},
   "outputs": [
    {
     "ename": "KeyError",
     "evalue": "\"['x' 'y'] not found in axis\"",
     "output_type": "error",
     "traceback": [
      "\u001b[1;31m---------------------------------------------------------------------------\u001b[0m",
      "\u001b[1;31mKeyError\u001b[0m                                  Traceback (most recent call last)",
      "\u001b[1;32m<ipython-input-554-f751cc7020d6>\u001b[0m in \u001b[0;36m<module>\u001b[1;34m\u001b[0m\n\u001b[1;32m----> 1\u001b[1;33m \u001b[0mdf\u001b[0m\u001b[1;33m=\u001b[0m\u001b[0mdf\u001b[0m\u001b[1;33m.\u001b[0m\u001b[0mdrop\u001b[0m\u001b[1;33m(\u001b[0m\u001b[0mcolumns\u001b[0m\u001b[1;33m=\u001b[0m\u001b[1;33m[\u001b[0m\u001b[1;34m'x'\u001b[0m\u001b[1;33m,\u001b[0m\u001b[1;34m'y'\u001b[0m\u001b[1;33m]\u001b[0m\u001b[1;33m)\u001b[0m\u001b[1;33m\u001b[0m\u001b[1;33m\u001b[0m\u001b[0m\n\u001b[0m\u001b[0;32m      2\u001b[0m \u001b[1;33m\u001b[0m\u001b[0m\n\u001b[0;32m      3\u001b[0m \u001b[0mdf\u001b[0m\u001b[1;33m.\u001b[0m\u001b[0mhead\u001b[0m\u001b[1;33m(\u001b[0m\u001b[1;33m)\u001b[0m\u001b[1;33m\u001b[0m\u001b[1;33m\u001b[0m\u001b[0m\n",
      "\u001b[1;32m~\\anaconda3\\lib\\site-packages\\pandas\\core\\frame.py\u001b[0m in \u001b[0;36mdrop\u001b[1;34m(self, labels, axis, index, columns, level, inplace, errors)\u001b[0m\n\u001b[0;32m   3995\u001b[0m             \u001b[0mlevel\u001b[0m\u001b[1;33m=\u001b[0m\u001b[0mlevel\u001b[0m\u001b[1;33m,\u001b[0m\u001b[1;33m\u001b[0m\u001b[1;33m\u001b[0m\u001b[0m\n\u001b[0;32m   3996\u001b[0m             \u001b[0minplace\u001b[0m\u001b[1;33m=\u001b[0m\u001b[0minplace\u001b[0m\u001b[1;33m,\u001b[0m\u001b[1;33m\u001b[0m\u001b[1;33m\u001b[0m\u001b[0m\n\u001b[1;32m-> 3997\u001b[1;33m             \u001b[0merrors\u001b[0m\u001b[1;33m=\u001b[0m\u001b[0merrors\u001b[0m\u001b[1;33m,\u001b[0m\u001b[1;33m\u001b[0m\u001b[1;33m\u001b[0m\u001b[0m\n\u001b[0m\u001b[0;32m   3998\u001b[0m         )\n\u001b[0;32m   3999\u001b[0m \u001b[1;33m\u001b[0m\u001b[0m\n",
      "\u001b[1;32m~\\anaconda3\\lib\\site-packages\\pandas\\core\\generic.py\u001b[0m in \u001b[0;36mdrop\u001b[1;34m(self, labels, axis, index, columns, level, inplace, errors)\u001b[0m\n\u001b[0;32m   3934\u001b[0m         \u001b[1;32mfor\u001b[0m \u001b[0maxis\u001b[0m\u001b[1;33m,\u001b[0m \u001b[0mlabels\u001b[0m \u001b[1;32min\u001b[0m \u001b[0maxes\u001b[0m\u001b[1;33m.\u001b[0m\u001b[0mitems\u001b[0m\u001b[1;33m(\u001b[0m\u001b[1;33m)\u001b[0m\u001b[1;33m:\u001b[0m\u001b[1;33m\u001b[0m\u001b[1;33m\u001b[0m\u001b[0m\n\u001b[0;32m   3935\u001b[0m             \u001b[1;32mif\u001b[0m \u001b[0mlabels\u001b[0m \u001b[1;32mis\u001b[0m \u001b[1;32mnot\u001b[0m \u001b[1;32mNone\u001b[0m\u001b[1;33m:\u001b[0m\u001b[1;33m\u001b[0m\u001b[1;33m\u001b[0m\u001b[0m\n\u001b[1;32m-> 3936\u001b[1;33m                 \u001b[0mobj\u001b[0m \u001b[1;33m=\u001b[0m \u001b[0mobj\u001b[0m\u001b[1;33m.\u001b[0m\u001b[0m_drop_axis\u001b[0m\u001b[1;33m(\u001b[0m\u001b[0mlabels\u001b[0m\u001b[1;33m,\u001b[0m \u001b[0maxis\u001b[0m\u001b[1;33m,\u001b[0m \u001b[0mlevel\u001b[0m\u001b[1;33m=\u001b[0m\u001b[0mlevel\u001b[0m\u001b[1;33m,\u001b[0m \u001b[0merrors\u001b[0m\u001b[1;33m=\u001b[0m\u001b[0merrors\u001b[0m\u001b[1;33m)\u001b[0m\u001b[1;33m\u001b[0m\u001b[1;33m\u001b[0m\u001b[0m\n\u001b[0m\u001b[0;32m   3937\u001b[0m \u001b[1;33m\u001b[0m\u001b[0m\n\u001b[0;32m   3938\u001b[0m         \u001b[1;32mif\u001b[0m \u001b[0minplace\u001b[0m\u001b[1;33m:\u001b[0m\u001b[1;33m\u001b[0m\u001b[1;33m\u001b[0m\u001b[0m\n",
      "\u001b[1;32m~\\anaconda3\\lib\\site-packages\\pandas\\core\\generic.py\u001b[0m in \u001b[0;36m_drop_axis\u001b[1;34m(self, labels, axis, level, errors)\u001b[0m\n\u001b[0;32m   3968\u001b[0m                 \u001b[0mnew_axis\u001b[0m \u001b[1;33m=\u001b[0m \u001b[0maxis\u001b[0m\u001b[1;33m.\u001b[0m\u001b[0mdrop\u001b[0m\u001b[1;33m(\u001b[0m\u001b[0mlabels\u001b[0m\u001b[1;33m,\u001b[0m \u001b[0mlevel\u001b[0m\u001b[1;33m=\u001b[0m\u001b[0mlevel\u001b[0m\u001b[1;33m,\u001b[0m \u001b[0merrors\u001b[0m\u001b[1;33m=\u001b[0m\u001b[0merrors\u001b[0m\u001b[1;33m)\u001b[0m\u001b[1;33m\u001b[0m\u001b[1;33m\u001b[0m\u001b[0m\n\u001b[0;32m   3969\u001b[0m             \u001b[1;32melse\u001b[0m\u001b[1;33m:\u001b[0m\u001b[1;33m\u001b[0m\u001b[1;33m\u001b[0m\u001b[0m\n\u001b[1;32m-> 3970\u001b[1;33m                 \u001b[0mnew_axis\u001b[0m \u001b[1;33m=\u001b[0m \u001b[0maxis\u001b[0m\u001b[1;33m.\u001b[0m\u001b[0mdrop\u001b[0m\u001b[1;33m(\u001b[0m\u001b[0mlabels\u001b[0m\u001b[1;33m,\u001b[0m \u001b[0merrors\u001b[0m\u001b[1;33m=\u001b[0m\u001b[0merrors\u001b[0m\u001b[1;33m)\u001b[0m\u001b[1;33m\u001b[0m\u001b[1;33m\u001b[0m\u001b[0m\n\u001b[0m\u001b[0;32m   3971\u001b[0m             \u001b[0mresult\u001b[0m \u001b[1;33m=\u001b[0m \u001b[0mself\u001b[0m\u001b[1;33m.\u001b[0m\u001b[0mreindex\u001b[0m\u001b[1;33m(\u001b[0m\u001b[1;33m**\u001b[0m\u001b[1;33m{\u001b[0m\u001b[0maxis_name\u001b[0m\u001b[1;33m:\u001b[0m \u001b[0mnew_axis\u001b[0m\u001b[1;33m}\u001b[0m\u001b[1;33m)\u001b[0m\u001b[1;33m\u001b[0m\u001b[1;33m\u001b[0m\u001b[0m\n\u001b[0;32m   3972\u001b[0m \u001b[1;33m\u001b[0m\u001b[0m\n",
      "\u001b[1;32m~\\anaconda3\\lib\\site-packages\\pandas\\core\\indexes\\base.py\u001b[0m in \u001b[0;36mdrop\u001b[1;34m(self, labels, errors)\u001b[0m\n\u001b[0;32m   5016\u001b[0m         \u001b[1;32mif\u001b[0m \u001b[0mmask\u001b[0m\u001b[1;33m.\u001b[0m\u001b[0many\u001b[0m\u001b[1;33m(\u001b[0m\u001b[1;33m)\u001b[0m\u001b[1;33m:\u001b[0m\u001b[1;33m\u001b[0m\u001b[1;33m\u001b[0m\u001b[0m\n\u001b[0;32m   5017\u001b[0m             \u001b[1;32mif\u001b[0m \u001b[0merrors\u001b[0m \u001b[1;33m!=\u001b[0m \u001b[1;34m\"ignore\"\u001b[0m\u001b[1;33m:\u001b[0m\u001b[1;33m\u001b[0m\u001b[1;33m\u001b[0m\u001b[0m\n\u001b[1;32m-> 5018\u001b[1;33m                 \u001b[1;32mraise\u001b[0m \u001b[0mKeyError\u001b[0m\u001b[1;33m(\u001b[0m\u001b[1;34mf\"{labels[mask]} not found in axis\"\u001b[0m\u001b[1;33m)\u001b[0m\u001b[1;33m\u001b[0m\u001b[1;33m\u001b[0m\u001b[0m\n\u001b[0m\u001b[0;32m   5019\u001b[0m             \u001b[0mindexer\u001b[0m \u001b[1;33m=\u001b[0m \u001b[0mindexer\u001b[0m\u001b[1;33m[\u001b[0m\u001b[1;33m~\u001b[0m\u001b[0mmask\u001b[0m\u001b[1;33m]\u001b[0m\u001b[1;33m\u001b[0m\u001b[1;33m\u001b[0m\u001b[0m\n\u001b[0;32m   5020\u001b[0m         \u001b[1;32mreturn\u001b[0m \u001b[0mself\u001b[0m\u001b[1;33m.\u001b[0m\u001b[0mdelete\u001b[0m\u001b[1;33m(\u001b[0m\u001b[0mindexer\u001b[0m\u001b[1;33m)\u001b[0m\u001b[1;33m\u001b[0m\u001b[1;33m\u001b[0m\u001b[0m\n",
      "\u001b[1;31mKeyError\u001b[0m: \"['x' 'y'] not found in axis\""
     ]
    }
   ],
   "source": [
    "df=df.drop(columns=['x','y'])\n",
    "\n",
    "df.head()"
   ]
  },
  {
   "cell_type": "code",
   "execution_count": 219,
   "metadata": {},
   "outputs": [
    {
     "data": {
      "text/plain": [
       "366.6666666666667"
      ]
     },
     "execution_count": 219,
     "metadata": {},
     "output_type": "execute_result"
    }
   ],
   "source": [
    "df['Sal'].sum()/np.count_nonzero(df['Sal'], axis=0)"
   ]
  },
  {
   "cell_type": "code",
   "execution_count": 218,
   "metadata": {},
   "outputs": [
    {
     "data": {
      "text/plain": [
       "3"
      ]
     },
     "execution_count": 218,
     "metadata": {},
     "output_type": "execute_result"
    }
   ],
   "source": [
    "np.count_nonzero(df['Sal'], axis=0)"
   ]
  },
  {
   "cell_type": "code",
   "execution_count": 224,
   "metadata": {},
   "outputs": [
    {
     "data": {
      "text/plain": [
       "0    5.298317\n",
       "1    5.703782\n",
       "2    6.396930\n",
       "3         NaN\n",
       "Name: Sal, dtype: float64"
      ]
     },
     "execution_count": 224,
     "metadata": {},
     "output_type": "execute_result"
    }
   ],
   "source": [
    "np.log(df['Sal'].replace(0, np.nan))"
   ]
  },
  {
   "cell_type": "code",
   "execution_count": 226,
   "metadata": {},
   "outputs": [
    {
     "data": {
      "text/plain": [
       "0    200\n",
       "1    300\n",
       "2    600\n",
       "3      0\n",
       "Name: Sal, dtype: int64"
      ]
     },
     "execution_count": 226,
     "metadata": {},
     "output_type": "execute_result"
    }
   ],
   "source": [
    "df['Sal'].replace(np.nan,0)"
   ]
  }
 ],
 "metadata": {
  "kernelspec": {
   "display_name": "Python 3",
   "language": "python",
   "name": "python3"
  },
  "language_info": {
   "codemirror_mode": {
    "name": "ipython",
    "version": 3
   },
   "file_extension": ".py",
   "mimetype": "text/x-python",
   "name": "python",
   "nbconvert_exporter": "python",
   "pygments_lexer": "ipython3",
   "version": "3.7.6"
  }
 },
 "nbformat": 4,
 "nbformat_minor": 4
}
